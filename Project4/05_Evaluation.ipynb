{
 "cells": [
  {
   "cell_type": "markdown",
   "metadata": {},
   "source": [
    "Evaluation"
   ]
  },
  {
   "cell_type": "markdown",
   "metadata": {},
   "source": [
    "## Issues: not all questions are answered\n",
    "\n",
    "* Agent's description influence the out outcome\n",
    "\n",
    "* Ask the right questions\n",
    "\n",
    "* Adjust documents splitting chucks\n",
    "\n",
    "* Human in the loop\n",
    "\n",
    "* Form recognizer"
   ]
  },
  {
   "cell_type": "markdown",
   "metadata": {},
   "source": [
    "# Problem solved\n",
    "\n",
    "* Changed Tool description and make them more clear on what is the tool about. Removed those \"If cannot find then ...\".\n",
    "\n",
    "* Examed the questions make sure they are more direct and provide more info or chained questions.\n",
    "\n",
    "    For example, \n",
    "        Original question was: \n",
    "            {\n",
    "                \"Question\": \"How does the company perform compared to its competitors in the industry?\",\n",
    "            },\n",
    "        Changed to:\n",
    "            {\n",
    "                \"Question\": \"Who are the company's competitors, how does the company perform compared to its competitors in the industry?\",\n",
    "            }"
   ]
  },
  {
   "cell_type": "markdown",
   "metadata": {},
   "source": [
    "## Further data analysis needed and make sure it is not runing into to 'hallucination'. \n",
    "\n",
    "* Currently, temperature is set to '0'.\n"
   ]
  }
 ],
 "metadata": {
  "language_info": {
   "name": "python"
  }
 },
 "nbformat": 4,
 "nbformat_minor": 2
}
