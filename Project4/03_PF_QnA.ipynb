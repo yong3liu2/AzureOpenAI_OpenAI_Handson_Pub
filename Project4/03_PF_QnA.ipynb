{
 "cells": [
  {
   "cell_type": "markdown",
   "metadata": {},
   "source": [
    "## Configure OpenAI Settings"
   ]
  },
  {
   "cell_type": "code",
   "execution_count": 1,
   "metadata": {},
   "outputs": [],
   "source": [
    "import os\n",
    "import openai\n",
    "from dotenv import load_dotenv\n",
    "# Set up Azure OpenAI\n",
    "load_dotenv()\n",
    "\n",
    "openai.api_type = \"azure\"\n",
    "\n",
    "AZURE_OPENAI_API_VERSION = os.getenv(\"AAG_AZURE_OPENAI_API_VERSION\")\n",
    "openai.api_version = AZURE_OPENAI_API_VERSION\n",
    "\n",
    "AZURE_OPENAI_API_KEY = os.getenv(\"AAG_AZURE_OPENAI_API_KEY\").strip()\n",
    "assert AZURE_OPENAI_API_KEY, \"ERROR: Azure OpenAI Key is missing\"\n",
    "openai.api_key = AZURE_OPENAI_API_KEY\n",
    "\n",
    "AZURE_OPENAI_ENDPOINT = os.getenv(\"AAG_AZURE_OPENAI_ENDPOINT\", \"\").strip()\n",
    "assert AZURE_OPENAI_ENDPOINT, \"ERROR: Azure OpenAI Endpoint is missing\"\n",
    "openai.api_base = AZURE_OPENAI_ENDPOINT\n",
    "\n",
    "# Deployment for Chat\n",
    "# DEPLOYMENT_NAME_CHAT = os.getenv('DEPLOYMENT_NAME_CHAT')\n",
    "DEPLOYMENT_NAME_CHAT = os.getenv('AAG_DEPLOYMENT_NAME_CHAT_16K')\n",
    "\n",
    "# Deployment for embedding\n",
    "DEPLOYMENT_NAME_EMBEDDING = os.getenv(\"AAG_DEPLOYMENT_NAME_EMBEDDING\")\n",
    "model: str = DEPLOYMENT_NAME_EMBEDDING\n",
    "\n",
    "# Azure AI Search (Cognitive vector store)\n",
    "vector_store_address: str = os.getenv(\"AAG_AZURE_SEARCH_SERVICE_ENDPOINT\")\n",
    "vector_store_password: str = os.getenv(\"AAG_AZURE_SEARCH_ADMIN_KEY\")\n",
    "# index_name: str = \"langchain-vector-arxiv-physics\"\n",
    "\n",
    "# Deployment for embedding\n",
    "BING_SUBSCRIPTION_KEY = os.getenv(\"BING_SUBSCRIPTION_KEY\")"
   ]
  },
  {
   "cell_type": "markdown",
   "metadata": {},
   "source": [
    "## Langchain Set up"
   ]
  },
  {
   "cell_type": "code",
   "execution_count": 2,
   "metadata": {},
   "outputs": [],
   "source": [
    "from langchain.chat_models import AzureChatOpenAI\n",
    "# Azure OpenAI model\n",
    "llm = AzureChatOpenAI(\n",
    "    azure_deployment=\"gpt-35-turbo-16k\",\n",
    "    temperature=0,\n",
    "    azure_endpoint=AZURE_OPENAI_ENDPOINT,\n",
    "    openai_api_type=\"azure\",\n",
    "    api_key=AZURE_OPENAI_API_KEY,\n",
    ")"
   ]
  },
  {
   "cell_type": "markdown",
   "metadata": {},
   "source": [
    "## Prepare Tools for Agent"
   ]
  },
  {
   "cell_type": "markdown",
   "metadata": {},
   "source": [
    "### Tool: Bing Search"
   ]
  },
  {
   "cell_type": "code",
   "execution_count": 3,
   "metadata": {},
   "outputs": [],
   "source": [
    "from langchain.utilities import BingSearchAPIWrapper\n",
    "import os\n",
    "\n",
    "os.environ[\"BING_SUBSCRIPTION_KEY\"] = BING_SUBSCRIPTION_KEY\n",
    "os.environ[\"BING_SEARCH_URL\"] = \"https://api.bing.microsoft.com/v7.0/search\"\n",
    "\n",
    "azure_bing_search = BingSearchAPIWrapper()\n",
    "\n",
    "# Unit test\n",
    "# azure_bing_search.run(\"When Sam Altman got fired?\")"
   ]
  },
  {
   "cell_type": "code",
   "execution_count": 4,
   "metadata": {},
   "outputs": [],
   "source": [
    "from langchain.agents import initialize_agent, AgentType\n",
    "from langchain.agents import Tool\n",
    "\n",
    "# Here is the tool define\n",
    "azure_bing_search_01 = Tool(\n",
    "    name=\"bing search for all\",\n",
    "    func=azure_bing_search.run, \n",
    "    description=\"search for any information that is available\"\n",
    ")\n",
    "\n",
    "azure_bing_search_02 = Tool(\n",
    "    name=\"bing search on current events\",\n",
    "    func=azure_bing_search.run,\n",
    "    description=\"useful for when you need to answer questions about current events\"\n",
    ")\n"
   ]
  },
  {
   "cell_type": "markdown",
   "metadata": {},
   "source": [
    "### Tool: Faiss db retriever"
   ]
  },
  {
   "cell_type": "code",
   "execution_count": 5,
   "metadata": {},
   "outputs": [],
   "source": [
    "from langchain.embeddings.openai import OpenAIEmbeddings\n",
    "from langchain.vectorstores import FAISS\n",
    "\n",
    "# Get Azure OpenAI embedding\n",
    "embeddings: OpenAIEmbeddings = OpenAIEmbeddings(\n",
    "    deployment=model,\n",
    "    model=model,\n",
    "    chunk_size=1,\n",
    "    openai_api_base=AZURE_OPENAI_ENDPOINT,\n",
    "    openai_api_type=\"azure\",\n",
    "    api_key=AZURE_OPENAI_API_KEY,\n",
    ")\n",
    "\n",
    "# Load local FAISS db which we created in earlier using embedding\n",
    "faiss_db_8K = FAISS.load_local(\"faiss_index_8-K\", embeddings)\n",
    "# Set up the retriever we want to use, and then turn it into a retriever tool\n",
    "# faiss_retriever_8K = faiss_db_8K.as_retriever()\n",
    "\n",
    "# Load local FAISS db which we created in earlier using embedding\n",
    "faiss_db_10Q = FAISS.load_local(\"faiss_index_10-Q\", embeddings)\n",
    "# Set up the retriever we want to use, and then turn it into a retriever tool\n",
    "# faiss_retriever_10Q = faiss_db_10Q.as_retriever()\n",
    "\n",
    "# Load local FAISS db which we created in earlier using embedding\n",
    "faiss_db_10K = FAISS.load_local(\"faiss_index_10-K\", embeddings)\n",
    "# Set up the retriever we want to use, and then turn it into a retriever tool\n",
    "# faiss_retriever_10K = faiss_db_10K.as_retriever()"
   ]
  },
  {
   "cell_type": "code",
   "execution_count": 6,
   "metadata": {},
   "outputs": [],
   "source": [
    "# Merge all FAISS db\n",
    "faiss_db = FAISS.load_local(\"faiss_index\", embeddings)\n",
    "faiss_db.merge_from(faiss_db_10K)\n",
    "faiss_db.merge_from(faiss_db_8K)\n",
    "\n",
    "# Set up the retriever we want to use, and then turn it into a retriever tool\n",
    "faiss_retriever = faiss_db.as_retriever()"
   ]
  },
  {
   "cell_type": "code",
   "execution_count": 7,
   "metadata": {},
   "outputs": [],
   "source": [
    "from langchain.agents.agent_toolkits import create_retriever_tool\n",
    "\n",
    "# Tool define\n",
    "faiss_retriever_all = create_retriever_tool(\n",
    "    faiss_retriever,\n",
    "    \"SEC data search\",\n",
    "    \"This tool is help looking for information about a company using its all U.S. Securities and Exchange Commission (SEC) filing reports, like 10-K, 10-Q, 8-K ...\",\n",
    ")"
   ]
  },
  {
   "cell_type": "markdown",
   "metadata": {},
   "source": [
    "### Tools - it seems that the same tool with different descriptions leads different results."
   ]
  },
  {
   "cell_type": "code",
   "execution_count": 8,
   "metadata": {},
   "outputs": [],
   "source": [
    "# Tools\n",
    "\n",
    "tools_04 = [\n",
    "    faiss_retriever_all,\n",
    "    azure_bing_search_01\n",
    "]"
   ]
  },
  {
   "cell_type": "markdown",
   "metadata": {},
   "source": [
    "## Q&A: Risk Assessment"
   ]
  },
  {
   "cell_type": "markdown",
   "metadata": {},
   "source": [
    "## Agent equipped with tools to answer all the questions"
   ]
  },
  {
   "cell_type": "markdown",
   "metadata": {},
   "source": [
    "#### List of questions"
   ]
  },
  {
   "cell_type": "code",
   "execution_count": 9,
   "metadata": {},
   "outputs": [],
   "source": [
    "data = [\n",
    "    {\n",
    "        \"category\": \"Financial Profile:\",\n",
    "        \"inquiries\": [\n",
    "            \"What is the trend in revenue growth over the past few years?\",\n",
    "            \"How are the company's gross, operating, and net profit margins trending?\",\n",
    "            \"What is the company's operating cash flow and free cash flow?\",\n",
    "            \"What is the company's debt structure? (Long-term, short-term, interest rates)\",\n",
    "            \"What are the major risks disclosed by the company?\",\n",
    "            \"Who are the company's competitors, how does the company perform compared to its competitors in the industry?\",\n",
    "            \"How does the company allocate profits to dividends or share buybacks?\",\n",
    "        ],\n",
    "    },\n",
    "    {\n",
    "        \"category\": \"Operational Performance:\",\n",
    "        \"inquiries\": [\n",
    "            \"Are there any noticeable fluctuations in sales figures?\",\n",
    "            \"Have there been any significant changes in expenses or cost of goods sold?\",\n",
    "            \"What is the cash conversion cycle evolving?\",\n",
    "            \"How does the debt level compare to equity and assets?\",\n",
    "            \"Are there any pending litigations, investigations, or regulatory issues disclosed?\",\n",
    "            \"What investments is the company making in its business?\",\n",
    "        ],\n",
    "    },\n",
    "    {\n",
    "        \"category\": \"Market Position and Risk Factors:\",\n",
    "        \"inquiries\": [\n",
    "            \"Which metrics or KPIs are highlighted by the company as key measures of success?\",\n",
    "            \"What are the major risks disclosed by the company?\",\n",
    "            \"Are there any market trends or industry-specific challenges affecting the company?\",\n",
    "            \"How might these impact the company's future operations and financial health?\",\n",
    "        ],\n",
    "    },\n",
    "]"
   ]
  },
  {
   "cell_type": "code",
   "execution_count": 10,
   "metadata": {},
   "outputs": [],
   "source": [
    "agent004 = initialize_agent(\n",
    "    tools_04,\n",
    "    llm,\n",
    "    agent=\"zero-shot-react-description\",\n",
    "    verbose=True,\n",
    "    handle_parsing_errors=True,\n",
    ")"
   ]
  },
  {
   "cell_type": "code",
   "execution_count": null,
   "metadata": {},
   "outputs": [],
   "source": [
    "# agent004.run(\"Who are the Zebra's competitors, how does the company perform compared to its competitors in the industry?\")"
   ]
  },
  {
   "cell_type": "markdown",
   "metadata": {},
   "source": [
    "#### QnA for PF"
   ]
  },
  {
   "cell_type": "code",
   "execution_count": 11,
   "metadata": {},
   "outputs": [
    {
     "name": "stdout",
     "output_type": "stream",
     "text": [
      "=> Please answer the following question. Note that inside the question, 'the company' refers to Zebra Technologies. Here is the question: Who are the Zebra's competitors, how does the company perform compared to its competitors in the industry?.         NOTE: if you can find the answer, please provide the source.\n",
      "\n",
      "\n",
      "\u001b[1m> Entering new AgentExecutor chain...\u001b[0m\n",
      "\u001b[32;1m\u001b[1;3mI should start by searching for information about Zebra Technologies and its competitors.\n",
      "Action: SEC data search\n",
      "Action Input: Zebra Technologies\u001b[0m\n",
      "Observation: \u001b[36;1m\u001b[1;3m[Document(page_content='11/25/23, 7:00 PM zbra-20221231\\nhttps://www.sec.gov/Archives/edgar/data/877212/000087721223000025/zbra-20221231.htm 9/132Table of Contents\\nOperations and Technologies\\nOur operations consist of two reportable segments that provide complementary offerings to our customers: Asset Intelligence &\\nTracking (“AIT”), which includes barcode and card printing, supplies and services; and Enterprise Visibility & Mobility (“EVM”),\\nwhich includes mobile computing, data capture, RFID, fixed industrial scanning and machine vision, services and workflow\\noptimization solutions including location solutions.\\nAsset Intelligence & Tracking\\nBarcode and Card Printing: We design, manufacture, and sell printers, which produce high-quality labels, wristbands, tickets, receipts,\\nand plastic cards on demand. Our customers use our printers in a wide range of applications, including routing and tracking, patient\\nsafety, transaction processing, personal identification, and product authentication. These applications require high levels of data\\naccuracy, speed, and reliability. They also include specialty printing for receipts and tickets for improved customer service and\\nproductivity gains.\\nOur printers use thermal printing technology, which creates images by heating certain pixels of an electrical printhead to selectively\\nimage a ribbon or heat-sensitive substrate. Our printers integrate company-designed mechanisms, electrical systems, and firmware that\\nsupports serial, parallel, Ethernet, USB, Bluetooth, or 802.11 wireless communications with appropriate security protocols. Enclosures\\nof metal or high-impact plastic help ensure durability of our printers. Printing instructions can be received as a proprietary language\\nsuch as Zebra Programming Language II, as a print driver-provided image, or as user-defined Extensible Markup Language. These\\nfeatures make our printers easy to integrate into most computer systems.\\nWe also provide dye-sublimination thermal card printers that produce high quality images and are used for secure, reliable personal\\nidentification (e.g. state identification cards, drivers’ licenses, and healthcare identification cards), access control (e.g. employee or\\nstudent building access), and financial transactions (e.g. credit, debit and ATM cards). Additionally, we provide RFID printers that\\nencode data into passive RFID transponders embedded in a label or card. We offer a wide range of accessories and options for our\\nprinters, including carrying cases, vehicle mounts and battery chargers.\\nSupplies: We produce and sell stock and customized thermal labels, receipts, ribbons, plastic cards, and RFID tags suitable for use with\\nour printers, as well as wristbands for use in laser printers. We support our printing products, resellers, and end-users with an extensive\\nline of superior quality, high-performance supplies optimized to a particular end-user’s needs, such as chemical or abrasion resistance,\\nextreme temperature environments, exceptional image quality, or long life. We promote the use of supplies with our printing\\nequipment. Our supplies business also includes temperature-monitoring labels primarily used in vaccine distribution, which incorporate\\nchemical indicators designed to change color upon exceeding predefined time and/or temperature thresholds.\\nServices: We provide a full range of maintenance, technical support, and repair services. We also provide managed and professional\\nservices, including those which help customers manage their devices and related software applications. Our offerings include cloud-\\nbased subscriptions and multiple service levels. They are typically contracted through multi-year service agreements. We provide our\\nservices directly and through our global network of partners.\\nEnterprise Visibility & Mobility\\nMobile Computing: We design, manufacture, and sell rugged and enterprise-grade mobile computing products and accessories in a\\nvariety of specialized form factors and designs to meet a wide array of enterprise applications. Purpose-built devices ensure reliable\\noperations for targeted use cases, surviving years of rough handling and harsh environments. Industrial applications include inventory\\nmanagement in warehouses and distribution centers; field mobility applications include field service, post and parcel, and direct store\\ndelivery; and retail and customer facing applications include e-commerce, omnichannel, mobile point of sale, inventory look-up, staff\\ncollaboration, and analytics. Our mobile computing products primarily incorporate the Android™ operating system and support local-\\narea and wide-area voice and data communications. Our products are also offered with software tools and services that enable secure\\ndata transmission while also supporting application development, device configuration, and field support to facilitate seamless, rapid\\ndeployment and maximum customer return on investment. Our products often incorporate barcode scanning, global position system\\nand RFID features, and other sensory capabilities. Additionally, specialized features, such as advanced data capture technologies, data\\nanalytics technologies, voice and video collaboration tools, and advanced battery technologies, enable our customers to work more\\nefficiently and better serve their own customers.\\nData Capture, RFID, Fixed Industrial Scanning, and Machine Vision: We design, manufacture, and sell barcode scanners, RFID\\nreaders, industrial machine vision cameras, and fixed industrial scanners. Our portfolio of scanners includes laser scanning and imager\\nproducts in a variety of form factors, including fixed, handheld, and embedded original equipment manufacturer (“OEM”) modules.', metadata={'source': './data_source/zbra-20221231_10-K.pdf', 'page': 8}), Document(page_content='11/25/23, 7:00 PM zbra-20221231\\nhttps://www.sec.gov/Archives/edgar/data/877212/000087721223000025/zbra-20221231.htm 9/132Table of Contents\\nOperations and Technologies\\nOur operations consist of two reportable segments that provide complementary offerings to our customers: Asset Intelligence &\\nTracking (“AIT”), which includes barcode and card printing, supplies and services; and Enterprise Visibility & Mobility (“EVM”),\\nwhich includes mobile computing, data capture, RFID, fixed industrial scanning and machine vision, services and workflow\\noptimization solutions including location solutions.\\nAsset Intelligence & Tracking\\nBarcode and Card Printing: We design, manufacture, and sell printers, which produce high-quality labels, wristbands, tickets, receipts,\\nand plastic cards on demand. Our customers use our printers in a wide range of applications, including routing and tracking, patient\\nsafety, transaction processing, personal identification, and product authentication. These applications require high levels of data\\naccuracy, speed, and reliability. They also include specialty printing for receipts and tickets for improved customer service and\\nproductivity gains.\\nOur printers use thermal printing technology, which creates images by heating certain pixels of an electrical printhead to selectively\\nimage a ribbon or heat-sensitive substrate. Our printers integrate company-designed mechanisms, electrical systems, and firmware that\\nsupports serial, parallel, Ethernet, USB, Bluetooth, or 802.11 wireless communications with appropriate security protocols. Enclosures\\nof metal or high-impact plastic help ensure durability of our printers. Printing instructions can be received as a proprietary language\\nsuch as Zebra Programming Language II, as a print driver-provided image, or as user-defined Extensible Markup Language. These\\nfeatures make our printers easy to integrate into most computer systems.\\nWe also provide dye-sublimination thermal card printers that produce high quality images and are used for secure, reliable personal\\nidentification (e.g. state identification cards, drivers’ licenses, and healthcare identification cards), access control (e.g. employee or\\nstudent building access), and financial transactions (e.g. credit, debit and ATM cards). Additionally, we provide RFID printers that\\nencode data into passive RFID transponders embedded in a label or card. We offer a wide range of accessories and options for our\\nprinters, including carrying cases, vehicle mounts and battery chargers.\\nSupplies: We produce and sell stock and customized thermal labels, receipts, ribbons, plastic cards, and RFID tags suitable for use with\\nour printers, as well as wristbands for use in laser printers. We support our printing products, resellers, and end-users with an extensive\\nline of superior quality, high-performance supplies optimized to a particular end-user’s needs, such as chemical or abrasion resistance,\\nextreme temperature environments, exceptional image quality, or long life. We promote the use of supplies with our printing\\nequipment. Our supplies business also includes temperature-monitoring labels primarily used in vaccine distribution, which incorporate\\nchemical indicators designed to change color upon exceeding predefined time and/or temperature thresholds.\\nServices: We provide a full range of maintenance, technical support, and repair services. We also provide managed and professional\\nservices, including those which help customers manage their devices and related software applications. Our offerings include cloud-\\nbased subscriptions and multiple service levels. They are typically contracted through multi-year service agreements. We provide our\\nservices directly and through our global network of partners.\\nEnterprise Visibility & Mobility\\nMobile Computing: We design, manufacture, and sell rugged and enterprise-grade mobile computing products and accessories in a\\nvariety of specialized form factors and designs to meet a wide array of enterprise applications. Purpose-built devices ensure reliable\\noperations for targeted use cases, surviving years of rough handling and harsh environments. Industrial applications include inventory\\nmanagement in warehouses and distribution centers; field mobility applications include field service, post and parcel, and direct store\\ndelivery; and retail and customer facing applications include e-commerce, omnichannel, mobile point of sale, inventory look-up, staff\\ncollaboration, and analytics. Our mobile computing products primarily incorporate the Android™ operating system and support local-\\narea and wide-area voice and data communications. Our products are also offered with software tools and services that enable secure\\ndata transmission while also supporting application development, device configuration, and field support to facilitate seamless, rapid\\ndeployment and maximum customer return on investment. Our products often incorporate barcode scanning, global position system\\nand RFID features, and other sensory capabilities. Additionally, specialized features, such as advanced data capture technologies, data\\nanalytics technologies, voice and video collaboration tools, and advanced battery technologies, enable our customers to work more\\nefficiently and better serve their own customers.\\nData Capture, RFID, Fixed Industrial Scanning, and Machine Vision: We design, manufacture, and sell barcode scanners, RFID\\nreaders, industrial machine vision cameras, and fixed industrial scanners. Our portfolio of scanners includes laser scanning and imager\\nproducts in a variety of form factors, including fixed, handheld, and embedded original equipment manufacturer (“OEM”) modules.', metadata={'source': 'data_source/10-K\\\\zbra-20221231_10-K.pdf', 'page': 8}), Document(page_content='11/25/23, 7:00 PM zbra-20221231\\nhttps://www.sec.gov/Archives/edgar/data/877212/000087721223000025/zbra-20221231.htm 5/132Table of Contents\\nPART I\\nReferences in this document to “the Company,” “we,” “us,” or “our” refer to Zebra Technologies Corporation and its subsidiaries,\\nunless the context specifically indicates otherwise.\\nSafe Harbor\\nForward-looking statements contained in this filing are subject to the safe harbor created by the Private Securities Litigation Reform\\nAct of 1995 and are highly dependent upon a variety of important factors, which could cause actual results to differ materially from\\nthose expressed or implied in such forward-looking statements. When used in this document and documents referenced, the words\\n“anticipate,” “believe,” “intend,” “estimate,” “will,” and “expect” and similar expressions as they relate to the Company or its\\nmanagement are intended to identify such forward-looking statements but are not the exclusive means of identifying these statements.\\nThe forward-looking statements include, but are not limited to, the Company’s financial outlook for the first quarter and full year of\\n2023. These forward-looking statements are based on current expectations, forecasts and assumptions, and are subject to the risks and\\nuncertainties inherent in the Company’s industry, market conditions, general domestic and international economic conditions, and other\\nfactors. These factors include:\\n \\n•Market acceptance of the Company’s products, services and solution offerings and competitors’ offerings and the potential\\neffects of emerging technologies and changes in customer requirements,\\n•The effect of global market conditions, including the North America; EMEA; Latin America; and Asia-Pacific regions in\\nwhich we do business,\\n•The impact of changes in foreign exchange rates, customs duties and trade policies due to the large percentage of our sales and\\noperations being outside the U.S.,\\n•Our ability to control manufacturing and operating costs,\\n•Risks related to the manufacturing of the Company’s products and conducting business operations in non-U.S. countries,\\nincluding the risk of depending on key suppliers who are also in non-U.S. countries,\\n•The Company’s ability to purchase sufficient materials, parts, and components, our ability to provide services, software, and\\nproducts to meet customer demand, particularly in light of global economic conditions,\\n•The availability of credit and the volatility of capital markets, which may affect our suppliers, customers, and ourselves,\\n•Success of integrating acquisitions,\\n•Our ability to attract, retain, develop, and motivate key personnel,\\n•Interest rate and financial market conditions,\\n•Access to cash and cash equivalents held outside the U.S.,\\n•The effect of natural disasters, man-made disasters, public health issues (including pandemics), and cybersecurity incidents on\\nour business,\\n•The impact of changes in foreign and domestic governmental policies, laws, or regulations,\\n•The outcome of litigation in which the Company may be involved, particularly litigation or claims related to infringement of\\nthird-party intellectual property rights, and\\n•The outcome of any future tax matters or tax law changes.\\nWe encourage readers of this report to review Item 1A, “Risk Factors,” in this report for further discussion of issues that could affect\\nthe Company’s future results. We undertake no obligation, other than as may be required by law, to publicly update or revise any\\nforward-looking statements, whether as a result of new information, future events, changed circumstances, or any other reason after the\\ndate of this report.\\n \\nItem 1. Business\\nThe Company\\nWe are a global leader providing Enterprise Asset Intelligence (“EAI”) solutions in the Automatic Identification and Data Capture\\n(“AIDC”) industry. The AIDC market consists of mobile computing, data capture, radio frequency identification devices (“RFID”),\\nbarcode printing, and other workflow automation products and services. The Company’s solutions are proven to help our customers and\\nend-users digitize and automate their workflows to achieve their critical business objectives, including improved productivity and\\noperational efficiency, optimized regulatory compliance, and better customer experiences.\\nWe design, manufacture, and sell a broad range of AIDC products, including: mobile computers, barcode scanners and imagers, RFID\\nreaders, specialty printers for barcode labeling and personal identification, real-time location systems (“RTLS”), related accessories and\\nsupplies, such as labels and other consumables, and related software applications. We also provide a full range of services, including', metadata={'source': './data_source/zbra-20221231_10-K.pdf', 'page': 4}), Document(page_content='11/25/23, 7:00 PM zbra-20221231\\nhttps://www.sec.gov/Archives/edgar/data/877212/000087721223000025/zbra-20221231.htm 5/132Table of Contents\\nPART I\\nReferences in this document to “the Company,” “we,” “us,” or “our” refer to Zebra Technologies Corporation and its subsidiaries,\\nunless the context specifically indicates otherwise.\\nSafe Harbor\\nForward-looking statements contained in this filing are subject to the safe harbor created by the Private Securities Litigation Reform\\nAct of 1995 and are highly dependent upon a variety of important factors, which could cause actual results to differ materially from\\nthose expressed or implied in such forward-looking statements. When used in this document and documents referenced, the words\\n“anticipate,” “believe,” “intend,” “estimate,” “will,” and “expect” and similar expressions as they relate to the Company or its\\nmanagement are intended to identify such forward-looking statements but are not the exclusive means of identifying these statements.\\nThe forward-looking statements include, but are not limited to, the Company’s financial outlook for the first quarter and full year of\\n2023. These forward-looking statements are based on current expectations, forecasts and assumptions, and are subject to the risks and\\nuncertainties inherent in the Company’s industry, market conditions, general domestic and international economic conditions, and other\\nfactors. These factors include:\\n \\n•Market acceptance of the Company’s products, services and solution offerings and competitors’ offerings and the potential\\neffects of emerging technologies and changes in customer requirements,\\n•The effect of global market conditions, including the North America; EMEA; Latin America; and Asia-Pacific regions in\\nwhich we do business,\\n•The impact of changes in foreign exchange rates, customs duties and trade policies due to the large percentage of our sales and\\noperations being outside the U.S.,\\n•Our ability to control manufacturing and operating costs,\\n•Risks related to the manufacturing of the Company’s products and conducting business operations in non-U.S. countries,\\nincluding the risk of depending on key suppliers who are also in non-U.S. countries,\\n•The Company’s ability to purchase sufficient materials, parts, and components, our ability to provide services, software, and\\nproducts to meet customer demand, particularly in light of global economic conditions,\\n•The availability of credit and the volatility of capital markets, which may affect our suppliers, customers, and ourselves,\\n•Success of integrating acquisitions,\\n•Our ability to attract, retain, develop, and motivate key personnel,\\n•Interest rate and financial market conditions,\\n•Access to cash and cash equivalents held outside the U.S.,\\n•The effect of natural disasters, man-made disasters, public health issues (including pandemics), and cybersecurity incidents on\\nour business,\\n•The impact of changes in foreign and domestic governmental policies, laws, or regulations,\\n•The outcome of litigation in which the Company may be involved, particularly litigation or claims related to infringement of\\nthird-party intellectual property rights, and\\n•The outcome of any future tax matters or tax law changes.\\nWe encourage readers of this report to review Item 1A, “Risk Factors,” in this report for further discussion of issues that could affect\\nthe Company’s future results. We undertake no obligation, other than as may be required by law, to publicly update or revise any\\nforward-looking statements, whether as a result of new information, future events, changed circumstances, or any other reason after the\\ndate of this report.\\n \\nItem 1. Business\\nThe Company\\nWe are a global leader providing Enterprise Asset Intelligence (“EAI”) solutions in the Automatic Identification and Data Capture\\n(“AIDC”) industry. The AIDC market consists of mobile computing, data capture, radio frequency identification devices (“RFID”),\\nbarcode printing, and other workflow automation products and services. The Company’s solutions are proven to help our customers and\\nend-users digitize and automate their workflows to achieve their critical business objectives, including improved productivity and\\noperational efficiency, optimized regulatory compliance, and better customer experiences.\\nWe design, manufacture, and sell a broad range of AIDC products, including: mobile computers, barcode scanners and imagers, RFID\\nreaders, specialty printers for barcode labeling and personal identification, real-time location systems (“RTLS”), related accessories and\\nsupplies, such as labels and other consumables, and related software applications. We also provide a full range of services, including', metadata={'source': 'data_source/10-K\\\\zbra-20221231_10-K.pdf', 'page': 4})]\u001b[0m\n",
      "Thought:\u001b[32;1m\u001b[1;3mI have found information about Zebra Technologies and its operations in the SEC filing reports.\n",
      "Action: SEC data search\n",
      "Action Input: Zebra Technologies competitors\u001b[0m\n",
      "Observation: \u001b[36;1m\u001b[1;3m[Document(page_content='11/25/23, 7:00 PM zbra-20221231\\nhttps://www.sec.gov/Archives/edgar/data/877212/000087721223000025/zbra-20221231.htm 15/132Table of Contents\\nperformance, inclusive and diverse culture, striving to consistently be the employer of choice in the communities where we work and\\nlive. We also focus on waste reduction, circular economy product innovation with certified refurbished devices, eco-packaging and\\nsustainable product design. Additionally, we have science-based targets on carbon emission reductions in Zebra’s operations and\\nthroughout our value chain.\\nCompetition\\nWe operate in a highly competitive environment. The need for companies to improve productivity and implement their strategies, as\\nwell as the secular trends around IoT, cloud computing, intelligent automation, and mobility, are some of the factors that are creating\\ngrowth opportunities for established and new competitors.\\nKey competitive factors include the breadth and quality of products, solutions and services, as well as pricing, design, performance,\\ndurability, geographic availability, warranty coverage, relationships with customers and channel partners, company reputation, and\\nbrand recognition. We believe we compete effectively with respect to these factors.\\nMobile Computing: Competitors in mobile computing and related services include companies that have historically served enterprises\\nwith ruggedized devices. For some applications, we compete with companies that provide tablets and smart phones. Competitors\\ninclude: Datalogic, Honeywell, and Panasonic.\\nData Capture, RFID, Fixed Industrial Scanning, and Machine Vision: Competitors that provide a broad portfolio of barcode scanning\\nproducts and related services that are suitable for most global market applications include Datalogic and Honeywell. We also compete\\nagainst smaller companies that focus on limited product subsets or specific regions, including Newland and Impinj. Competitors in our\\nfixed industrial scanning and machine vision business include Cognex, SICK, and Keyence.\\nBarcode and Card Printing: We consider our direct competition in printing to be producers of on-demand thermal transfer and direct\\nthermal label fixed and mobile printing systems and RFID printers/encoders. We also compete with companies engaged in the design,\\nmanufacture, and marketing of printing systems that use technologies such as ink-jet, direct marking and laser printing, as well as card\\nprinters based on ink-jet, thermal transfer, embossing, film-based systems, encoders, laser engraving, and large-scale dye sublimation\\nprinters. In addition, service bureaus, which provide centralized services, compete for end-user business and provide an alternative to\\nour card printing solutions. Competitors include: Fargo Electronics (a unit of HID Global), Honeywell, Sato, Toshiba TEC, TSC,\\nBrother, and Dymo.\\nSupplies: The supplies industry is highly fragmented with competition comprised of numerous companies of various sizes around the\\nworld.\\nWorkflow optimization solutions: We compete with a diverse and varied group of companies across our solution offerings worldwide.\\nCompetitors range from providers of software-based solutions serving customers in the retail industry to providers of autonomous\\nmobile robot solutions serving customers in the manufacturing, distribution, and fulfillment industries.\\nCustomers\\nEnd-users of our products, solutions and services are diversified across a wide variety of industries. We have three customers, who are\\ndistributors of the Company’s products and solutions, that individually accounted for more than 10% of our Net sales during the past\\nthree years. No other customer accounted for more than 10% of our Net sales during these years. See Note 20, Segment Information &\\nGeographic Data in the Notes to Consolidated Financial Statements for further information.\\nOur Net sales to significant customers as a percentage of the Company’s total Net sales were as follows:\\n Year Ended December 31,\\n 2022 2021 2020\\nCustomer A 20.7 % 22.3 % 20.7 %\\nCustomer B 15.0 % 13.6 % 13.9 %\\nCustomer C 12.8 % 12.6 % 17.7 %\\n9', metadata={'source': 'data_source/10-K\\\\zbra-20221231_10-K.pdf', 'page': 14}), Document(page_content='11/25/23, 7:00 PM zbra-20221231\\nhttps://www.sec.gov/Archives/edgar/data/877212/000087721223000025/zbra-20221231.htm 15/132Table of Contents\\nperformance, inclusive and diverse culture, striving to consistently be the employer of choice in the communities where we work and\\nlive. We also focus on waste reduction, circular economy product innovation with certified refurbished devices, eco-packaging and\\nsustainable product design. Additionally, we have science-based targets on carbon emission reductions in Zebra’s operations and\\nthroughout our value chain.\\nCompetition\\nWe operate in a highly competitive environment. The need for companies to improve productivity and implement their strategies, as\\nwell as the secular trends around IoT, cloud computing, intelligent automation, and mobility, are some of the factors that are creating\\ngrowth opportunities for established and new competitors.\\nKey competitive factors include the breadth and quality of products, solutions and services, as well as pricing, design, performance,\\ndurability, geographic availability, warranty coverage, relationships with customers and channel partners, company reputation, and\\nbrand recognition. We believe we compete effectively with respect to these factors.\\nMobile Computing: Competitors in mobile computing and related services include companies that have historically served enterprises\\nwith ruggedized devices. For some applications, we compete with companies that provide tablets and smart phones. Competitors\\ninclude: Datalogic, Honeywell, and Panasonic.\\nData Capture, RFID, Fixed Industrial Scanning, and Machine Vision: Competitors that provide a broad portfolio of barcode scanning\\nproducts and related services that are suitable for most global market applications include Datalogic and Honeywell. We also compete\\nagainst smaller companies that focus on limited product subsets or specific regions, including Newland and Impinj. Competitors in our\\nfixed industrial scanning and machine vision business include Cognex, SICK, and Keyence.\\nBarcode and Card Printing: We consider our direct competition in printing to be producers of on-demand thermal transfer and direct\\nthermal label fixed and mobile printing systems and RFID printers/encoders. We also compete with companies engaged in the design,\\nmanufacture, and marketing of printing systems that use technologies such as ink-jet, direct marking and laser printing, as well as card\\nprinters based on ink-jet, thermal transfer, embossing, film-based systems, encoders, laser engraving, and large-scale dye sublimation\\nprinters. In addition, service bureaus, which provide centralized services, compete for end-user business and provide an alternative to\\nour card printing solutions. Competitors include: Fargo Electronics (a unit of HID Global), Honeywell, Sato, Toshiba TEC, TSC,\\nBrother, and Dymo.\\nSupplies: The supplies industry is highly fragmented with competition comprised of numerous companies of various sizes around the\\nworld.\\nWorkflow optimization solutions: We compete with a diverse and varied group of companies across our solution offerings worldwide.\\nCompetitors range from providers of software-based solutions serving customers in the retail industry to providers of autonomous\\nmobile robot solutions serving customers in the manufacturing, distribution, and fulfillment industries.\\nCustomers\\nEnd-users of our products, solutions and services are diversified across a wide variety of industries. We have three customers, who are\\ndistributors of the Company’s products and solutions, that individually accounted for more than 10% of our Net sales during the past\\nthree years. No other customer accounted for more than 10% of our Net sales during these years. See Note 20, Segment Information &\\nGeographic Data in the Notes to Consolidated Financial Statements for further information.\\nOur Net sales to significant customers as a percentage of the Company’s total Net sales were as follows:\\n Year Ended December 31,\\n 2022 2021 2020\\nCustomer A 20.7 % 22.3 % 20.7 %\\nCustomer B 15.0 % 13.6 % 13.9 %\\nCustomer C 12.8 % 12.6 % 17.7 %\\n9', metadata={'source': './data_source/zbra-20221231_10-K.pdf', 'page': 14}), Document(page_content='11/25/23, 7:00 PM zbra-20221231\\nhttps://www.sec.gov/Archives/edgar/data/877212/000087721223000025/zbra-20221231.htm 13/132Table of Contents\\nCommitment to innovation and deep industry-specific expertise\\nOver time, we have developed and delivered improved, targeted end-to-end solutions for our customers. We remain committed to\\nleveraging our technology portfolio and expertise in the industries that we service to continue to develop innovative solutions that meet\\nthe key needs of our customers.\\nHighly diversified business mix\\nWe are highly diversified across business segments, end markets, geographies, and customers. Additionally, we have strong recurring\\nbusiness in services, supplies, and software driven by an extensive global installed base of purpose-built products and solutions.\\nGlobal reach and brand\\nWe sell to customers directly and through our network of channel partners around the world. This global presence gives us the\\ncapability to supply our customers with products, solutions, and services no matter the location of their operations. In addition, we\\nbelieve we have strong brand recognition with a reputation in the industry as a trusted and strategic partner, known for delivering high\\nquality products that are reliable and durable.\\nScale advantages\\nWe believe the size and scope of our operations, including market leadership, product and solution development investment, portfolio\\nbreadth, and global distribution, give us advantages over our competitors. We believe we have the largest installed base of products\\ncompared to other companies in our industry. These characteristics enable us to compete successfully, achieve economies of scale, and\\ndevelop industry-leading solutions.\\nOur Business Strategies\\nLeverage our market leadership position and innovation to profitably grow our core business\\nWe expect to drive revenue growth by continuing to outpace our competition in our core businesses, including mobile computing, data\\ncapture, barcode printing, and services. We expect to achieve this by leveraging our broad portfolio of solutions and product innovation\\nand continuing to be a strategic partner to end customers. We also expect to drive growth by capitalizing on technology transitions\\noccurring in the industry, including the transition to the Android™ operating system in mobile computing and transitions in data\\ncapture to newer technologies involving 2D and 3D imaging and RFID. This includes increased focus on market segments and\\ngeographies that offer share-gain opportunities. In addition, we plan to leverage our market-leading installed base to accelerate growth\\nin attach-oriented offerings, including services, supplies, accessories, and software applications. Our global channel partner network is\\nvital to helping us achieve these goals. As such, we will ensure that we provide the necessary value and support for our partners to be\\nsuccessful.\\nAdvance our Enterprise Asset Intelligence vision\\nOur EAI vision is for every asset and front-line worker to be connected, visible, and fully optimized. We believe that secular\\ntechnology trends, particularly in IoT, cloud computing, intelligent automation, and mobility, advance our vision and are transforming\\nour customers’ businesses and our industry, providing us with significant new opportunities to create value for our customers and for\\nthe Company. We expect to capitalize on these trends, and in particular the proliferation of smart connected sensors and devices in our\\ncore market segments, by providing end-to-end solutions that integrate these sensors and devices with cloud-based workflows and\\nanalytics applications. We plan to continue investing in the development of technologies that will enable intelligent automation\\nsolutions, providing increased visibility into the enterprise, real-time, actionable information, and improved customer experiences. Our\\nsolutions will also increasingly include advanced features, functions, and user experiences to drive additional competitive\\ndifferentiation and elevate our role as a solutions provider.\\nIncrease our opportunity for growth through expansion in adjacent market segments\\nWe plan to drive growth through expansion, organically and inorganically, in adjacent market segments that are synergistic with our\\ncore markets. We will focus specifically on segments where our products and solutions, workflow expertise, and customer and industry\\nrelationships will enable us to provide significant value to end-users.\\nEnhance financial strength and flexibility\\nWhile maintaining our strong balance sheet, we intend to continue to improve profitability and cash flow generation through\\noperational execution and increased productivity derived from continuous business process improvement, supply chain resiliency, cost\\nmanagement, and focus on working capital efficiency.\\nSustainable business model\\nZebra’s foundational ESG priorities of human capital management, resource conservation, and climate align with our strategic focus\\nand corporate values. Initiatives within these priorities are advanced by our cross-functional Sustainability Council, with executive', metadata={'source': 'data_source/10-K\\\\zbra-20221231_10-K.pdf', 'page': 12}), Document(page_content='11/25/23, 7:00 PM zbra-20221231\\nhttps://www.sec.gov/Archives/edgar/data/877212/000087721223000025/zbra-20221231.htm 13/132Table of Contents\\nCommitment to innovation and deep industry-specific expertise\\nOver time, we have developed and delivered improved, targeted end-to-end solutions for our customers. We remain committed to\\nleveraging our technology portfolio and expertise in the industries that we service to continue to develop innovative solutions that meet\\nthe key needs of our customers.\\nHighly diversified business mix\\nWe are highly diversified across business segments, end markets, geographies, and customers. Additionally, we have strong recurring\\nbusiness in services, supplies, and software driven by an extensive global installed base of purpose-built products and solutions.\\nGlobal reach and brand\\nWe sell to customers directly and through our network of channel partners around the world. This global presence gives us the\\ncapability to supply our customers with products, solutions, and services no matter the location of their operations. In addition, we\\nbelieve we have strong brand recognition with a reputation in the industry as a trusted and strategic partner, known for delivering high\\nquality products that are reliable and durable.\\nScale advantages\\nWe believe the size and scope of our operations, including market leadership, product and solution development investment, portfolio\\nbreadth, and global distribution, give us advantages over our competitors. We believe we have the largest installed base of products\\ncompared to other companies in our industry. These characteristics enable us to compete successfully, achieve economies of scale, and\\ndevelop industry-leading solutions.\\nOur Business Strategies\\nLeverage our market leadership position and innovation to profitably grow our core business\\nWe expect to drive revenue growth by continuing to outpace our competition in our core businesses, including mobile computing, data\\ncapture, barcode printing, and services. We expect to achieve this by leveraging our broad portfolio of solutions and product innovation\\nand continuing to be a strategic partner to end customers. We also expect to drive growth by capitalizing on technology transitions\\noccurring in the industry, including the transition to the Android™ operating system in mobile computing and transitions in data\\ncapture to newer technologies involving 2D and 3D imaging and RFID. This includes increased focus on market segments and\\ngeographies that offer share-gain opportunities. In addition, we plan to leverage our market-leading installed base to accelerate growth\\nin attach-oriented offerings, including services, supplies, accessories, and software applications. Our global channel partner network is\\nvital to helping us achieve these goals. As such, we will ensure that we provide the necessary value and support for our partners to be\\nsuccessful.\\nAdvance our Enterprise Asset Intelligence vision\\nOur EAI vision is for every asset and front-line worker to be connected, visible, and fully optimized. We believe that secular\\ntechnology trends, particularly in IoT, cloud computing, intelligent automation, and mobility, advance our vision and are transforming\\nour customers’ businesses and our industry, providing us with significant new opportunities to create value for our customers and for\\nthe Company. We expect to capitalize on these trends, and in particular the proliferation of smart connected sensors and devices in our\\ncore market segments, by providing end-to-end solutions that integrate these sensors and devices with cloud-based workflows and\\nanalytics applications. We plan to continue investing in the development of technologies that will enable intelligent automation\\nsolutions, providing increased visibility into the enterprise, real-time, actionable information, and improved customer experiences. Our\\nsolutions will also increasingly include advanced features, functions, and user experiences to drive additional competitive\\ndifferentiation and elevate our role as a solutions provider.\\nIncrease our opportunity for growth through expansion in adjacent market segments\\nWe plan to drive growth through expansion, organically and inorganically, in adjacent market segments that are synergistic with our\\ncore markets. We will focus specifically on segments where our products and solutions, workflow expertise, and customer and industry\\nrelationships will enable us to provide significant value to end-users.\\nEnhance financial strength and flexibility\\nWhile maintaining our strong balance sheet, we intend to continue to improve profitability and cash flow generation through\\noperational execution and increased productivity derived from continuous business process improvement, supply chain resiliency, cost\\nmanagement, and focus on working capital efficiency.\\nSustainable business model\\nZebra’s foundational ESG priorities of human capital management, resource conservation, and climate align with our strategic focus\\nand corporate values. Initiatives within these priorities are advanced by our cross-functional Sustainability Council, with executive', metadata={'source': './data_source/zbra-20221231_10-K.pdf', 'page': 12})]\u001b[0m\n",
      "Thought:\u001b[32;1m\u001b[1;3mI have found information about Zebra Technologies' competitors in the SEC filing reports. The competitors in different segments include:\n",
      "\n",
      "- Mobile Computing: Datalogic, Honeywell, and Panasonic.\n",
      "- Data Capture, RFID, Fixed Industrial Scanning, and Machine Vision: Datalogic, Honeywell, Newland, Impinj, Cognex, SICK, and Keyence.\n",
      "- Barcode and Card Printing: Fargo Electronics (a unit of HID Global), Honeywell, Sato, Toshiba TEC, TSC, Brother, and Dymo.\n",
      "\n",
      "Source: Zebra Technologies Corporation 2022 Annual Report (Form 10-K)\n",
      "\n",
      "Final Answer: Zebra Technologies' competitors in different segments include Datalogic, Honeywell, Panasonic, Newland, Impinj, Cognex, SICK, Keyence, Fargo Electronics (a unit of HID Global), Sato, Toshiba TEC, TSC, Brother, and Dymo. (Source: Zebra Technologies Corporation 2022 Annual Report)\u001b[0m\n",
      "\n",
      "\u001b[1m> Finished chain.\u001b[0m\n",
      "Answer: Zebra Technologies' competitors in different segments include Datalogic, Honeywell, Panasonic, Newland, Impinj, Cognex, SICK, Keyence, Fargo Electronics (a unit of HID Global), Sato, Toshiba TEC, TSC, Brother, and Dymo. (Source: Zebra Technologies Corporation 2022 Annual Report)\n"
     ]
    }
   ],
   "source": [
    "# Define an empty list to store the output\n",
    "user_input = \"Who are the Zebra's competitors, how does the company perform compared to its competitors in the industry?\"\n",
    "\n",
    "# Prompt to make sure the question refers to the right company\n",
    "def build_question_prompt(company_name, question):\n",
    "    prompt_text = f\"Please answer the following question. Note that inside the question, 'the company' refers to {company_name}. Here is the question: {question}. \\\n",
    "        NOTE: if you can find the answer, please provide the source.\"\n",
    "    return prompt_text\n",
    "\n",
    "\n",
    "# Choose an agent who can perform the best for a job given\n",
    "def agent_in_action(agent_on_job, question_prompt):\n",
    "    result = agent_on_job.run(question_prompt)\n",
    "    return result\n",
    "\n",
    "# QnA\n",
    "company_name = 'Zebra Technologies'\n",
    "agent_on_duty = agent004\n",
    "question_prompt = build_question_prompt(company_name, user_input)\n",
    "print(f\"=> {question_prompt}\")\n",
    "answer = agent_in_action(agent_on_duty, question_prompt)\n",
    "print(f\"Answer: {answer}\")"
   ]
  }
 ],
 "metadata": {
  "kernelspec": {
   "display_name": "Python 3",
   "language": "python",
   "name": "python3"
  },
  "language_info": {
   "codemirror_mode": {
    "name": "ipython",
    "version": 3
   },
   "file_extension": ".py",
   "mimetype": "text/x-python",
   "name": "python",
   "nbconvert_exporter": "python",
   "pygments_lexer": "ipython3",
   "version": "3.11.6"
  },
  "orig_nbformat": 4
 },
 "nbformat": 4,
 "nbformat_minor": 2
}
