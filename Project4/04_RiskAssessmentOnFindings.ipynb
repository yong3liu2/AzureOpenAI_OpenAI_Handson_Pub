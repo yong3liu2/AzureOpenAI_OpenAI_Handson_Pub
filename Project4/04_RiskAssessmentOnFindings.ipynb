{
 "cells": [
  {
   "cell_type": "markdown",
   "metadata": {},
   "source": [
    "Generate assessment report\n",
    "\n",
    "# Assessment Report"
   ]
  },
  {
   "cell_type": "markdown",
   "metadata": {},
   "source": [
    "## Configure OpenAI Settings"
   ]
  },
  {
   "cell_type": "code",
   "execution_count": 1,
   "metadata": {},
   "outputs": [],
   "source": [
    "import os\n",
    "import openai\n",
    "from dotenv import load_dotenv\n",
    "# Set up Azure OpenAI\n",
    "load_dotenv()\n",
    "\n",
    "openai.api_type = \"azure\"\n",
    "\n",
    "AZURE_OPENAI_API_VERSION = os.getenv(\"AAG_AZURE_OPENAI_API_VERSION\")\n",
    "openai.api_version = AZURE_OPENAI_API_VERSION\n",
    "\n",
    "AZURE_OPENAI_API_KEY = os.getenv(\"AAG_AZURE_OPENAI_API_KEY\").strip()\n",
    "assert AZURE_OPENAI_API_KEY, \"ERROR: Azure OpenAI Key is missing\"\n",
    "openai.api_key = AZURE_OPENAI_API_KEY\n",
    "\n",
    "AZURE_OPENAI_ENDPOINT = os.getenv(\"AAG_AZURE_OPENAI_ENDPOINT\", \"\").strip()\n",
    "assert AZURE_OPENAI_ENDPOINT, \"ERROR: Azure OpenAI Endpoint is missing\"\n",
    "openai.api_base = AZURE_OPENAI_ENDPOINT\n",
    "\n",
    "# Deployment for Chat\n",
    "# DEPLOYMENT_NAME_CHAT = os.getenv('DEPLOYMENT_NAME_CHAT')\n",
    "DEPLOYMENT_NAME_CHAT = os.getenv('AAG_DEPLOYMENT_NAME_CHAT_16K')\n",
    "\n",
    "# Deployment for embedding\n",
    "DEPLOYMENT_NAME_EMBEDDING = os.getenv(\"AAG_DEPLOYMENT_NAME_EMBEDDING\")\n",
    "model: str = DEPLOYMENT_NAME_EMBEDDING\n",
    "\n",
    "# Azure AI Search (Cognitive vector store)\n",
    "vector_store_address: str = os.getenv(\"AAG_AZURE_SEARCH_SERVICE_ENDPOINT\")\n",
    "vector_store_password: str = os.getenv(\"AAG_AZURE_SEARCH_ADMIN_KEY\")\n",
    "# index_name: str = \"langchain-vector-arxiv-physics\"\n",
    "\n",
    "# Deployment for embedding\n",
    "BING_SUBSCRIPTION_KEY = os.getenv(\"BING_SUBSCRIPTION_KEY\")"
   ]
  },
  {
   "cell_type": "markdown",
   "metadata": {},
   "source": [
    "## Azure OpenAI ChatCompletion"
   ]
  },
  {
   "cell_type": "markdown",
   "metadata": {},
   "source": [
    "### Read finds from previous processed data saved in qna.json"
   ]
  },
  {
   "cell_type": "code",
   "execution_count": 6,
   "metadata": {},
   "outputs": [
    {
     "name": "stdout",
     "output_type": "stream",
     "text": [
      "[{'Category': 'Financial Profile:', 'Inquiries': [{'Question': 'What is the trend in revenue growth over the past few years?', 'Answer': 'Zebra Technologies has experienced revenue growth over the past few years, with a significant increase in 2021 compared to 2020.'}, {'Question': \"How are the company's gross, operating, and net profit margins trending?\", 'Answer': \"The company's gross, operating, and net profit margins have been trending as follows:\\n- Gross profit margin: $2,624 million in 2022, $2,628 million in 2021, and $2,003 million in 2020.\\n- Operating profit margin: $529 million in 2022, $979 million in 2021, and $651 million in 2020.\\n- Net profit margin: $463 million in 2022, $837 million in 2021, and $504 million in 2020.\"}, {'Question': \"What is the company's operating cash flow and free cash flow?\", 'Answer': 'The operating cash flow for Zebra Technologies for the years ended December 31, 2022, 2021, and 2020 were $488 million, $1,069 million, and $962 million, respectively. The free cash flow information was not found in the available documents.'}, {'Question': \"What is the company's debt structure? (Long-term, short-term, interest rates)\", 'Answer': \"Zebra Technologies' debt structure includes long-term debt of $881 million and current debt of $364 million.\"}, {'Question': 'What are the major risks disclosed by the company?', 'Answer': 'The major risks disclosed by Zebra Technologies include interest rate risk and foreign exchange risk.'}, {'Question': \"Who are the company's competitors, how does the company perform compared to its competitors in the industry?\", 'Answer': \"Zebra's competitors include Panasonic Holdings, Honeywell International, Ubisense, Toshiba, Lexmark, Entrust, Catapult, Datalogic, and Domino Printing. The company performs well compared to its competitors in the industry.\"}, {'Question': 'How does the company allocate profits to dividends or share buybacks?', 'Answer': 'According to the SEC filing report for Zebra Technologies, the company has not declared any cash dividends or distributions on its capital stock since its initial public offering in 1991. The company currently does not anticipate paying any cash dividends in the foreseeable future. However, the company has authorized a share repurchase program for up to $1 billion of its outstanding shares of common stock. As of December 31, 2022, the company has cumulatively repurchased 3,323,283 shares of common stock for approximately $1.1 billion, resulting in a remaining amount of share repurchases authorized under the plans of $945 million. \\n\\nSource: Zebra Technologies SEC filing report (10-K)'}]}, {'Category': 'Operational Performance:', 'Inquiries': [{'Question': 'Are there any noticeable fluctuations in sales figures?', 'Answer': 'Yes, there are noticeable fluctuations in sales figures for Zebra Technologies. (Source: Bing search)'}, {'Question': 'Have there been any significant changes in expenses or cost of goods sold?', 'Answer': \"I couldn't find any specific information about significant changes in expenses or cost of goods sold for Zebra Technologies.\"}, {'Question': 'What is the cash conversion cycle evolving?', 'Answer': \"Zebra Technologies' cash conversion cycle has been decreasing over the past five years, reaching a five-year low of 24 days in December 2021.\"}, {'Question': 'How does the debt level compare to equity and assets?', 'Answer': 'The debt level, equity, and assets of Zebra Technologies can be found in its consolidated balance sheets.'}, {'Question': 'Are there any pending litigations, investigations, or regulatory issues disclosed?', 'Answer': 'I could not find any information about pending litigations, investigations, or regulatory issues disclosed for Zebra Technologies.'}, {'Question': 'What investments is the company making in its business?', 'Answer': 'The specific investments that Zebra Technologies is making in its own business could not be found.'}]}, {'Category': 'Market Position and Risk Factors:', 'Inquiries': [{'Question': 'Which metrics or KPIs are highlighted by the company as key measures of success?', 'Answer': 'I was unable to find specific information about the key metrics or KPIs highlighted by Zebra Technologies.'}, {'Question': 'What are the major risks disclosed by the company?', 'Answer': 'The major risks disclosed by Zebra Technologies include interest rate risk and foreign exchange risk.'}, {'Question': 'Are there any market trends or industry-specific challenges affecting the company?', 'Answer': 'Based on the available information, I could not find any specific market trends or industry-specific challenges affecting Zebra Technologies.'}, {'Question': \"How might these impact the company's future operations and financial health?\", 'Answer': \"Based on the available information, it is expected that the decline in net sales and the impact of foreign currency translation and acquisitions will have an impact on Zebra Technologies' future operations and financial health. However, more specific information about the extent of this impact is not provided.\"}]}]\n"
     ]
    }
   ],
   "source": [
    "import json\n",
    "import os\n",
    "\n",
    "# Load findings on a company\n",
    "# file_path = './reports/qna_msft.json'\n",
    "file_path = './reports/qna_zbra_003.json'\n",
    "\n",
    "# Check if the file exists\n",
    "if os.path.exists(file_path):\n",
    "    with open(file_path, 'r') as file:\n",
    "        data = json.load(file)\n",
    "        # Process the data as needed\n",
    "        print(data)  # Example: printing the loaded JSON data\n",
    "else:\n",
    "    print(f\"The file '{file_path}' does not exist.\")\n",
    "\n",
    "# data"
   ]
  },
  {
   "cell_type": "markdown",
   "metadata": {},
   "source": [
    "### Run ChatCompletion with user prompt to generate assessment reports"
   ]
  },
  {
   "cell_type": "code",
   "execution_count": 7,
   "metadata": {},
   "outputs": [
    {
     "name": "stdout",
     "output_type": "stream",
     "text": [
      "\n",
      "Please generate an assessment report on Zebra Technologies (Zebra) based on the following questions and answers in JSON:\n",
      "[{'Category': 'Financial Profile:', 'Inquiries': [{'Question': 'What is the trend in revenue growth over the past few years?', 'Answer': 'Zebra Technologies has experienced revenue growth over the past few years, with a significant increase in 2021 compared to 2020.'}, {'Question': \"How are the company's gross, operating, and net profit margins trending?\", 'Answer': \"The company's gross, operating, and net profit margins have been trending as follows:\\n- Gross profit margin: $2,624 million in 2022, $2,628 million in 2021, and $2,003 million in 2020.\\n- Operating profit margin: $529 million in 2022, $979 million in 2021, and $651 million in 2020.\\n- Net profit margin: $463 million in 2022, $837 million in 2021, and $504 million in 2020.\"}, {'Question': \"What is the company's operating cash flow and free cash flow?\", 'Answer': 'The operating cash flow for Zebra Technologies for the years ended December 31, 2022, 2021, and 2020 were $488 million, $1,069 million, and $962 million, respectively. The free cash flow information was not found in the available documents.'}, {'Question': \"What is the company's debt structure? (Long-term, short-term, interest rates)\", 'Answer': \"Zebra Technologies' debt structure includes long-term debt of $881 million and current debt of $364 million.\"}, {'Question': 'What are the major risks disclosed by the company?', 'Answer': 'The major risks disclosed by Zebra Technologies include interest rate risk and foreign exchange risk.'}, {'Question': \"Who are the company's competitors, how does the company perform compared to its competitors in the industry?\", 'Answer': \"Zebra's competitors include Panasonic Holdings, Honeywell International, Ubisense, Toshiba, Lexmark, Entrust, Catapult, Datalogic, and Domino Printing. The company performs well compared to its competitors in the industry.\"}, {'Question': 'How does the company allocate profits to dividends or share buybacks?', 'Answer': 'According to the SEC filing report for Zebra Technologies, the company has not declared any cash dividends or distributions on its capital stock since its initial public offering in 1991. The company currently does not anticipate paying any cash dividends in the foreseeable future. However, the company has authorized a share repurchase program for up to $1 billion of its outstanding shares of common stock. As of December 31, 2022, the company has cumulatively repurchased 3,323,283 shares of common stock for approximately $1.1 billion, resulting in a remaining amount of share repurchases authorized under the plans of $945 million. \\n\\nSource: Zebra Technologies SEC filing report (10-K)'}]}, {'Category': 'Operational Performance:', 'Inquiries': [{'Question': 'Are there any noticeable fluctuations in sales figures?', 'Answer': 'Yes, there are noticeable fluctuations in sales figures for Zebra Technologies. (Source: Bing search)'}, {'Question': 'Have there been any significant changes in expenses or cost of goods sold?', 'Answer': \"I couldn't find any specific information about significant changes in expenses or cost of goods sold for Zebra Technologies.\"}, {'Question': 'What is the cash conversion cycle evolving?', 'Answer': \"Zebra Technologies' cash conversion cycle has been decreasing over the past five years, reaching a five-year low of 24 days in December 2021.\"}, {'Question': 'How does the debt level compare to equity and assets?', 'Answer': 'The debt level, equity, and assets of Zebra Technologies can be found in its consolidated balance sheets.'}, {'Question': 'Are there any pending litigations, investigations, or regulatory issues disclosed?', 'Answer': 'I could not find any information about pending litigations, investigations, or regulatory issues disclosed for Zebra Technologies.'}, {'Question': 'What investments is the company making in its business?', 'Answer': 'The specific investments that Zebra Technologies is making in its own business could not be found.'}]}, {'Category': 'Market Position and Risk Factors:', 'Inquiries': [{'Question': 'Which metrics or KPIs are highlighted by the company as key measures of success?', 'Answer': 'I was unable to find specific information about the key metrics or KPIs highlighted by Zebra Technologies.'}, {'Question': 'What are the major risks disclosed by the company?', 'Answer': 'The major risks disclosed by Zebra Technologies include interest rate risk and foreign exchange risk.'}, {'Question': 'Are there any market trends or industry-specific challenges affecting the company?', 'Answer': 'Based on the available information, I could not find any specific market trends or industry-specific challenges affecting Zebra Technologies.'}, {'Question': \"How might these impact the company's future operations and financial health?\", 'Answer': \"Based on the available information, it is expected that the decline in net sales and the impact of foreign currency translation and acquisitions will have an impact on Zebra Technologies' future operations and financial health. However, more specific information about the extent of this impact is not provided.\"}]}]\n",
      "and the assessment report should contain the following sections:\n",
      "1. Executive Summary\n",
      "2. Overview of Key Findings\n",
      "3. Summary of Risks Identified\n",
      "4. Overall ratings on the risk level you would give, between 0 and 9 (0 - no risk, 9 - highest risk)\n",
      "\n",
      "Assessment Report: Zebra Technologies (Zebra)\n",
      "\n",
      "1. Executive Summary:\n",
      "Zebra Technologies is a company that has experienced revenue growth over the past few years, with a significant increase in 2021 compared to 2020. The company's gross, operating, and net profit margins have been trending consistently. Zebra Technologies has a debt structure that includes long-term debt and current debt. The major risks disclosed by the company include interest rate risk and foreign exchange risk. The company performs well compared to its competitors in the industry. Zebra Technologies does not currently allocate profits to dividends but has a share repurchase program. The company's cash conversion cycle has been decreasing over the past five years. No pending litigations, investigations, or regulatory issues have been disclosed. The company has not highlighted specific metrics or KPIs as measures of success. Market trends or industry-specific challenges affecting the company could not be found, but it is expected that the decline in net sales and the impact of foreign currency translation and acquisitions will have an impact on the company's future operations and financial health.\n",
      "\n",
      "2. Overview of Key Findings:\n",
      "- Revenue growth has been positive, with a significant increase in 2021.\n",
      "- Gross, operating, and net profit margins have been consistent.\n",
      "- The company has long-term and current debt.\n",
      "- Major risks include interest rate risk and foreign exchange risk.\n",
      "- Zebra Technologies performs well compared to its competitors.\n",
      "- The company does not allocate profits to dividends but has a share repurchase program.\n",
      "- The cash conversion cycle has been decreasing over the past five years.\n",
      "- No pending litigations, investigations, or regulatory issues have been disclosed.\n",
      "- No specific investments in the business could be found.\n",
      "- No specific metrics or KPIs have been highlighted by the company.\n",
      "- No specific market trends or industry-specific challenges affecting the company were found.\n",
      "\n",
      "3. Summary of Risks Identified:\n",
      "- Interest rate risk: Zebra Technologies faces the risk of fluctuations in interest rates, which could affect its financial performance and profitability.\n",
      "- Foreign exchange risk: The company is exposed to foreign currency exchange rate fluctuations, which could impact its international operations and financial results.\n",
      "\n",
      "4. Overall Risk Ratings:\n",
      "Based on the available information, the overall risk level for Zebra Technologies is assessed as a 4 out of 9. While the company has demonstrated revenue growth and consistent profit margins, the risks associated with interest rate fluctuations and foreign currency exchange rates pose moderate levels of risk.\n",
      "\n",
      "Please note that the assessment report is based on the provided information and may not capture all possible risks and factors associated with Zebra Technologies. It is advisable to conduct further research and analysis to gain a comprehensive understanding of the company's risk profile.\n"
     ]
    }
   ],
   "source": [
    "company_name = 'Zebra Technologies (Zebra)'\n",
    "\n",
    "prompt_text = f\"\"\"\n",
    "Please generate an assessment report on {company_name} based on the following questions and answers in JSON:\n",
    "{data}\n",
    "and the assessment report should contain the following sections:\n",
    "1. Executive Summary\n",
    "2. Overview of Key Findings\n",
    "3. Summary of Risks Identified\n",
    "4. Overall ratings on the risk level you would give, between 0 and 9 (0 - no risk, 9 - highest risk)\n",
    "\"\"\"\n",
    "# prompt_text = f\"\"\"\n",
    "# Are you busy now?\n",
    "# \"\"\"\n",
    "print(prompt_text)\n",
    "\n",
    "response = openai.ChatCompletion.create(\n",
    "    engine=DEPLOYMENT_NAME_CHAT,\n",
    "    messages=[\n",
    "        {\"role\": \"system\", \"content\": \"You are a helpful assistant.\"},\n",
    "        {\"role\": \"user\", \"content\": prompt_text},\n",
    "    ],\n",
    "    max_tokens=15000,\n",
    ")\n",
    "report_content = response[\"choices\"][0][\"message\"][\"content\"]\n",
    "\n",
    "print(response[\"choices\"][0][\"message\"][\"content\"])"
   ]
  },
  {
   "cell_type": "code",
   "execution_count": 8,
   "metadata": {},
   "outputs": [
    {
     "data": {
      "text/plain": [
       "\"Assessment Report: Zebra Technologies (Zebra)\\n\\n1. Executive Summary:\\nZebra Technologies is a company that has experienced revenue growth over the past few years, with a significant increase in 2021 compared to 2020. The company's gross, operating, and net profit margins have been trending consistently. Zebra Technologies has a debt structure that includes long-term debt and current debt. The major risks disclosed by the company include interest rate risk and foreign exchange risk. The company performs well compared to its competitors in the industry. Zebra Technologies does not currently allocate profits to dividends but has a share repurchase program. The company's cash conversion cycle has been decreasing over the past five years. No pending litigations, investigations, or regulatory issues have been disclosed. The company has not highlighted specific metrics or KPIs as measures of success. Market trends or industry-specific challenges affecting the company could not be found, but it is expected that the decline in net sales and the impact of foreign currency translation and acquisitions will have an impact on the company's future operations and financial health.\\n\\n2. Overview of Key Findings:\\n- Revenue growth has been positive, with a significant increase in 2021.\\n- Gross, operating, and net profit margins have been consistent.\\n- The company has long-term and current debt.\\n- Major risks include interest rate risk and foreign exchange risk.\\n- Zebra Technologies performs well compared to its competitors.\\n- The company does not allocate profits to dividends but has a share repurchase program.\\n- The cash conversion cycle has been decreasing over the past five years.\\n- No pending litigations, investigations, or regulatory issues have been disclosed.\\n- No specific investments in the business could be found.\\n- No specific metrics or KPIs have been highlighted by the company.\\n- No specific market trends or industry-specific challenges affecting the company were found.\\n\\n3. Summary of Risks Identified:\\n- Interest rate risk: Zebra Technologies faces the risk of fluctuations in interest rates, which could affect its financial performance and profitability.\\n- Foreign exchange risk: The company is exposed to foreign currency exchange rate fluctuations, which could impact its international operations and financial results.\\n\\n4. Overall Risk Ratings:\\nBased on the available information, the overall risk level for Zebra Technologies is assessed as a 4 out of 9. While the company has demonstrated revenue growth and consistent profit margins, the risks associated with interest rate fluctuations and foreign currency exchange rates pose moderate levels of risk.\\n\\nPlease note that the assessment report is based on the provided information and may not capture all possible risks and factors associated with Zebra Technologies. It is advisable to conduct further research and analysis to gain a comprehensive understanding of the company's risk profile.\""
      ]
     },
     "execution_count": 8,
     "metadata": {},
     "output_type": "execute_result"
    }
   ],
   "source": [
    "report_content"
   ]
  },
  {
   "cell_type": "code",
   "execution_count": 13,
   "metadata": {},
   "outputs": [],
   "source": [
    "word_file = file_path + '_assessment.txt'\n",
    "\n",
    "with open(word_file, 'w') as file:\n",
    "    file.write(report_content)"
   ]
  },
  {
   "cell_type": "code",
   "execution_count": null,
   "metadata": {},
   "outputs": [],
   "source": [
    "# ! pip install python-docx"
   ]
  },
  {
   "cell_type": "code",
   "execution_count": 9,
   "metadata": {},
   "outputs": [
    {
     "name": "stdout",
     "output_type": "stream",
     "text": [
      "Assessment report saved to: ./reports/qna_zbra_003_assessment.docx\n"
     ]
    }
   ],
   "source": [
    "import json\n",
    "import os\n",
    "from docx import Document\n",
    "\n",
    "new_file_path = file_path.replace('.json', '_assessment.docx')\n",
    "\n",
    "# Create a new Word document\n",
    "doc = Document()\n",
    "doc.add_heading(f'Assessment Report on {company_name}', level=1)\n",
    "\n",
    "# Add content to the Word document\n",
    "doc.add_paragraph(report_content)\n",
    "\n",
    "# Save the Word document\n",
    "doc.save(new_file_path)\n",
    "\n",
    "print(f\"Assessment report saved to: {new_file_path}\")\n"
   ]
  }
 ],
 "metadata": {
  "kernelspec": {
   "display_name": "Python 3",
   "language": "python",
   "name": "python3"
  },
  "language_info": {
   "codemirror_mode": {
    "name": "ipython",
    "version": 3
   },
   "file_extension": ".py",
   "mimetype": "text/x-python",
   "name": "python",
   "nbconvert_exporter": "python",
   "pygments_lexer": "ipython3",
   "version": "3.11.6"
  },
  "orig_nbformat": 4
 },
 "nbformat": 4,
 "nbformat_minor": 2
}
