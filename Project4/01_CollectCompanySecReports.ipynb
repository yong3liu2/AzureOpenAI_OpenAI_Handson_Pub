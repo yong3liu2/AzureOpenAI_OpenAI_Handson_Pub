{
 "cells": [
  {
   "cell_type": "markdown",
   "metadata": {},
   "source": [
    "Final Project #1 \n",
    "\n",
    " \n",
    "\n",
    "# Company Profile Risk Assessment\n",
    "\n",
    "Research for company profile and use following tools: \n",
    "\n",
    "Web search \n",
    "\n",
    "SEC reports (online) \n",
    "\n",
    " \n",
    "\n",
    "Requirement: \n",
    "\n",
    "Sources \n",
    "\n",
    "Thought process \n",
    "\n",
    "Assessment report will be in word format. Sources and thought process are required. \n",
    "\n",
    " \n",
    "\n",
    "List of question will be provided.  "
   ]
  },
  {
   "cell_type": "markdown",
   "metadata": {},
   "source": [
    "## Data sources\n",
    "\n",
    "* SEC: https://www.sec.gov/edgar/search/#\n",
    "\n",
    "    * 2022 10-K: previous filing (audited)\n",
    "\n",
    "    * 2023 10-Q and 8-K (if there is any): current year and something happened in between quarterly reports.\n",
    "\n",
    "* Bing search\n",
    "\n",
    "* Yahoo finance news"
   ]
  },
  {
   "cell_type": "markdown",
   "metadata": {},
   "source": [
    "## Data sequence from most recent to former\n",
    "\n",
    "Bing search -> 10-Q and 8-K -> 10-K\n",
    "\n",
    "## Data credibility from audited to not required\n",
    "\n",
    "10-K -> 10-Q and 8-K -> Bing search"
   ]
  },
  {
   "cell_type": "markdown",
   "metadata": {},
   "source": [
    "## TODO: need to write code to retrieve those filing reports with a company name or CID."
   ]
  },
  {
   "cell_type": "markdown",
   "metadata": {},
   "source": [
    "## For now manually downloaded SEC filing reports"
   ]
  }
 ],
 "metadata": {
  "kernelspec": {
   "display_name": "Python 3",
   "language": "python",
   "name": "python3"
  },
  "language_info": {
   "codemirror_mode": {
    "name": "ipython",
    "version": 3
   },
   "file_extension": ".py",
   "mimetype": "text/x-python",
   "name": "python",
   "nbconvert_exporter": "python",
   "pygments_lexer": "ipython3",
   "version": "3.11.6"
  }
 },
 "nbformat": 4,
 "nbformat_minor": 2
}
