{
 "cells": [
  {
   "attachments": {},
   "cell_type": "markdown",
   "metadata": {},
   "source": [
    "# Azure Cognitive Search LangChain Vector Code Sample\n",
    "This code demonstrates how to use Azure Cognitive Search with OpenAI and the Azure Cognitive Search LangChain Vector Store\n",
    "To run the code, install the following packages. Please use the latest pre-release version `pip install azure-search-documents==11.4.0b8`."
   ]
  },
  {
   "cell_type": "code",
   "execution_count": 28,
   "metadata": {},
   "outputs": [],
   "source": [
    "# ! pip install azure-search-documents==11.4.0b8 \n",
    "# ! pip install openai==0.28.1\n",
    "# ! pip install python-dotenv\n",
    "# ! pip install langchain==0.0.336\n",
    "# ! pip install tiktoken\n",
    "# ! pip install azure-identity==1.12"
   ]
  },
  {
   "attachments": {},
   "cell_type": "markdown",
   "metadata": {},
   "source": [
    "## Import required libraries and environment variables"
   ]
  },
  {
   "cell_type": "code",
   "execution_count": 3,
   "metadata": {},
   "outputs": [
    {
     "data": {
      "text/plain": [
       "False"
      ]
     },
     "execution_count": 3,
     "metadata": {},
     "output_type": "execute_result"
    }
   ],
   "source": [
    "# Import required libraries  \n",
    "import openai\n",
    "import os  \n",
    "from dotenv import load_dotenv\n",
    "from langchain.embeddings.openai import OpenAIEmbeddings\n",
    "from langchain.vectorstores.azuresearch import AzureSearch\n",
    "from azure.search.documents.indexes.models import (\n",
    "    SemanticSettings,\n",
    "    SemanticConfiguration,\n",
    "    PrioritizedFields,\n",
    "    SemanticField\n",
    ")\n",
    "load_dotenv()"
   ]
  },
  {
   "cell_type": "markdown",
   "metadata": {},
   "source": [
    "## Configure OpenAI Settings"
   ]
  },
  {
   "cell_type": "code",
   "execution_count": 18,
   "metadata": {},
   "outputs": [],
   "source": [
    "# Configure environment variables  \n",
    "load_dotenv()  \n",
    "openai.api_type: str = \"azure\"  \n",
    "openai.api_key = os.getenv(\"AZURE_OPENAI_API_KEY\")  \n",
    "openai.api_base = os.getenv(\"AZURE_OPENAI_ENDPOINT\")  \n",
    "openai.api_version = os.getenv(\"AZURE_OPENAI_API_VERSION\")  \n",
    "### solution for error below when execute Create embeddings and vector store instances paragraph\n",
    "# InvalidRequestError: The API deployment for this resource does not exist. If you created the deployment within the last 5 minutes, please wait a moment and try again.\n",
    "###\n",
    "# Replace your deployment for embedding in Azure OpenAI\n",
    "# model: str = \"text-embedding-ada-002\"\n",
    "model: str = \"startping_embedding\""
   ]
  },
  {
   "cell_type": "markdown",
   "metadata": {},
   "source": [
    "## Configure Vector Store Settings"
   ]
  },
  {
   "cell_type": "code",
   "execution_count": 19,
   "metadata": {},
   "outputs": [],
   "source": [
    "vector_store_address: str = os.getenv(\"AZURE_SEARCH_SERVICE_ENDPOINT\")  \n",
    "vector_store_password: str = os.getenv(\"AZURE_SEARCH_ADMIN_KEY\") \n",
    "index_name: str = \"langchain-vector-demo\""
   ]
  },
  {
   "attachments": {},
   "cell_type": "markdown",
   "metadata": {},
   "source": [
    "## Create embeddings and vector store instances\n",
    "Read your data, generate OpenAI embeddings and export to a format to insert your Azure Cognitive Search index:"
   ]
  },
  {
   "cell_type": "code",
   "execution_count": 20,
   "metadata": {},
   "outputs": [],
   "source": [
    "### solution for error below, add openai_api_key setting to OpenAIEmbeddings\n",
    "# \"name\": \"AuthenticationError\",\n",
    "# \"message\": \"Access denied due to invalid subscription key or wrong API endpoint. Make sure to provide a valid key for an active subscription \n",
    "# and use a correct regional API endpoint for your resource.\",\n",
    "###\n",
    "embeddings: OpenAIEmbeddings = OpenAIEmbeddings(deployment=model, chunk_size=1, openai_api_base=os.getenv(\"AZURE_OPENAI_ENDPOINT\"), openai_api_type=\"azure\", openai_api_key=os.getenv(\"AZURE_OPENAI_API_KEY\") )\n",
    "# embeddings: OpenAIEmbeddings = OpenAIEmbeddings(deployment=model, model=model, chunk_size=1, openai_api_base=os.getenv(\"AZURE_OPENAI_ENDPOINT\"), openai_api_type=\"azure\")\n",
    "index_name: str = \"langchain-vector-demo\"\n",
    "vector_store: AzureSearch = AzureSearch(\n",
    "    azure_search_endpoint=vector_store_address,\n",
    "    azure_search_key=vector_store_password,\n",
    "    index_name=index_name,\n",
    "    embedding_function=embeddings.embed_query,\n",
    "    semantic_configuration_name='config',\n",
    "        semantic_settings=SemanticSettings(\n",
    "            default_configuration='config',\n",
    "            configurations=[\n",
    "                SemanticConfiguration(\n",
    "                    name='config',\n",
    "                    prioritized_fields=PrioritizedFields(\n",
    "                        title_field=SemanticField(field_name='content'),\n",
    "                        prioritized_content_fields=[SemanticField(field_name='content')],\n",
    "                        prioritized_keywords_fields=[SemanticField(field_name='metadata')]\n",
    "                    ))\n",
    "            ])\n",
    "    )"
   ]
  },
  {
   "cell_type": "markdown",
   "metadata": {},
   "source": [
    "## Insert text and embeddings into vector store"
   ]
  },
  {
   "cell_type": "code",
   "execution_count": 7,
   "metadata": {},
   "outputs": [
    {
     "data": {
      "text/plain": [
       "['OGQ5ZjVkNWMtYjk3MC00Y2I3LTgxOGMtYzk5YTliNWY4NGYx',\n",
       " 'MjI2ZjgwNmMtMDUxMy00MGI0LTk5Y2UtNzM1ODIzYzEzZGFm',\n",
       " 'MzQ5MzE2NGYtNjVhMC00NmFhLWFiNmYtYTc5NDQwYzFlODdh',\n",
       " 'NzZjOTNjMWEtNzg1YS00Y2QwLTk2NDMtZWFkYTMyZjMyM2Zj',\n",
       " 'YzU2ZGJhZWEtYjVhZi00M2M5LWE5ZGMtYTMzNWY2YjkwZjY5',\n",
       " 'YTgyODMzZTUtZDhiMy00YzA3LTk0M2ItOTIwN2QxYjMzNTky',\n",
       " 'YTJhOWRhNWUtZDBjNS00NDRhLTk2NDEtYWU3Mjk1OTYwZDAw',\n",
       " 'YjExNWRjNjQtNzE2Yi00OThlLThhYTUtODM0YjQwNDNlNWU4',\n",
       " 'MmU1YThjOGUtNTNkOS00ZGFlLTlkZTMtNGJhM2U2ZThjMGJm',\n",
       " 'OGE3MjQwZGEtNzA5NS00NjEwLThhMTItMzAyOGFiNzFmYWU2',\n",
       " 'OTA4ZjZiYTAtYmJlMS00NzgwLTk3MTktZTM1Mjk0NTAxZDVl',\n",
       " 'Yjk5NjhkYTktOTU0My00YjdlLTg0N2YtYmI3NWY5MjFhZWY5',\n",
       " 'ZDI1Y2I1M2EtMjZlYS00M2FkLTgxMTUtYzA1NjA4MTg0ZjI2',\n",
       " 'NDE0ZjA1YjQtMjBhOC00M2YzLTk0MDctMjI1NjZmZTdkMjli',\n",
       " 'MjBhODc5NTktY2E4NC00NTRmLWEyOTQtYjQyODQ5YjBmMmI2',\n",
       " 'MDhlZmFjZTctMDE0Ny00ZTE0LTk4MjMtZWU5YzRmYTU2MGM0',\n",
       " 'NWU0ZmNlYjMtYjliNy00NjQyLTgxNzktYzFjNDY4ZGY1YWNl',\n",
       " 'ZjBlY2UyNzktMDcyNi00NmY3LTg0ZTgtOTNkOWZmZTFmNGU0',\n",
       " 'MWYwY2U0ZGEtY2EwYi00NWZlLWJmYmQtZGZmNGZmMDJhMmM3',\n",
       " 'OWVjMGFkZDgtYjcyNC00YjIyLWE2ZjEtNzg3MmJjM2RhN2Yy',\n",
       " 'NTJjYjlmMjAtMWQ1Mi00NzIzLWExYjEtNWY3ODFkYTdhOGQ1',\n",
       " 'ODEzN2RmMjYtODA3ZC00NmFiLWFlNTgtMDZhOTkyZTcwYWJl',\n",
       " 'Zjc0MmJkNDgtMmI2Zi00YjEyLWJiOTMtODE0YjNiMjg1YTQw',\n",
       " 'N2I5YjU1MzUtN2VkMC00OGE3LThjZGMtMzlmYjJiM2E1ZmUy',\n",
       " 'ZTY0OTY1MDktOTI2ZC00MTA4LTk3NTItNGVmZGI2YzY1MDc3',\n",
       " 'MDBhNDM2NjAtZjA0Mi00ZjU1LWFiNmUtNmE1YzYzMjkyYmYy',\n",
       " 'M2E3NDlkM2YtZjRmMC00NGZmLTllNDctN2NiNDQwMWFkNjk5',\n",
       " 'MzNhOTljOWYtNjliZi00NmMyLTgwNzUtZDYxOWFmZmQ0NmIw',\n",
       " 'MTIwY2VhNjUtYjlkNy00OTFlLWJmMTAtNDg2YzE4NThhNDdj',\n",
       " 'MTFmMzdmZTUtZDNlMi00Y2U1LWIxMDktMTRjN2FmMWZhZTY1',\n",
       " 'MTZlM2VjNmUtMTNhZS00NDdlLThkNWMtN2Q4Yjg5OWJhZWZk',\n",
       " 'YWMzYWUyZGUtNDkxZC00YWJkLThmYmMtYWYwZWY4YzVlMzIx',\n",
       " 'NTI4ZWFkNWItOTJlMS00ZTM2LTkxYzYtYWVjNDMwZDcwN2Ey',\n",
       " 'NmUyMzIxOWEtZmYzMi00ZGU3LWJmYWMtM2UxY2NmZDEzNmZm',\n",
       " 'YzQ2OTI4ZDItYjY1NC00OTMzLTk3YjUtYmNjOGI0NTYzMmI3',\n",
       " 'ZDA3NTI2MjktZTE1MC00YmRlLTkwYjItMWNhYzEwODFmNDc3',\n",
       " 'ZTI4MzgyZGQtNTdlNi00Mzc0LWJkMzYtNmRjYjA4ZDQ0YzJj',\n",
       " 'NzliMmY2MmYtYWJlYS00YjkxLTgyNWQtYTg4ZDFlYmQ4ZDA4',\n",
       " 'YjU2ODJkN2YtZDcwYS00ZDY4LWI4ZGUtZjFiYmVlMjFjYmEz',\n",
       " 'ODZmNWZkODgtMjgzNC00Y2MyLWFhY2QtYzFhMjUxMTI5NTA5',\n",
       " 'ZjBkODI0NmMtMDNmYy00MWEwLWI2NTAtNzFiMTI1YWRiMTk2',\n",
       " 'MjU2Y2VjOWItYzY0Ni00MjAzLTg3YzMtMmM3YzExOWRlYmU2']"
      ]
     },
     "execution_count": 7,
     "metadata": {},
     "output_type": "execute_result"
    }
   ],
   "source": [
    "from langchain.document_loaders import TextLoader\n",
    "from langchain.text_splitter import CharacterTextSplitter\n",
    "\n",
    "loader = TextLoader(\"./data/state_of_the_union.txt\", encoding=\"utf-8\")\n",
    "\n",
    "documents = loader.load()\n",
    "text_splitter = CharacterTextSplitter(chunk_size=1000, chunk_overlap=0)\n",
    "docs = text_splitter.split_documents(documents)\n",
    "\n",
    "vector_store.add_documents(documents=docs)"
   ]
  },
  {
   "cell_type": "markdown",
   "metadata": {},
   "source": [
    "## Perform a vector similarity search"
   ]
  },
  {
   "cell_type": "code",
   "execution_count": 8,
   "metadata": {},
   "outputs": [
    {
     "name": "stdout",
     "output_type": "stream",
     "text": [
      "Tonight. I call on the Senate to: Pass the Freedom to Vote Act. Pass the John Lewis Voting Rights Act. And while you’re at it, pass the Disclose Act so Americans can know who is funding our elections. \n",
      "\n",
      "Tonight, I’d like to honor someone who has dedicated his life to serve this country: Justice Stephen Breyer—an Army veteran, Constitutional scholar, and retiring Justice of the United States Supreme Court. Justice Breyer, thank you for your service. \n",
      "\n",
      "One of the most serious constitutional responsibilities a President has is nominating someone to serve on the United States Supreme Court. \n",
      "\n",
      "And I did that 4 days ago, when I nominated Circuit Court of Appeals Judge Ketanji Brown Jackson. One of our nation’s top legal minds, who will continue Justice Breyer’s legacy of excellence.\n"
     ]
    }
   ],
   "source": [
    "# Perform a similarity search\n",
    "docs = vector_store.similarity_search(\n",
    "    query=\"What did the president say about Ketanji Brown Jackson\",\n",
    "    k=3,\n",
    "    search_type=\"similarity\",\n",
    ")\n",
    "print(docs[0].page_content)"
   ]
  },
  {
   "cell_type": "markdown",
   "metadata": {},
   "source": [
    "## Perform a hybrid search"
   ]
  },
  {
   "cell_type": "code",
   "execution_count": 9,
   "metadata": {},
   "outputs": [
    {
     "name": "stdout",
     "output_type": "stream",
     "text": [
      "Tonight. I call on the Senate to: Pass the Freedom to Vote Act. Pass the John Lewis Voting Rights Act. And while you’re at it, pass the Disclose Act so Americans can know who is funding our elections. \n",
      "\n",
      "Tonight, I’d like to honor someone who has dedicated his life to serve this country: Justice Stephen Breyer—an Army veteran, Constitutional scholar, and retiring Justice of the United States Supreme Court. Justice Breyer, thank you for your service. \n",
      "\n",
      "One of the most serious constitutional responsibilities a President has is nominating someone to serve on the United States Supreme Court. \n",
      "\n",
      "And I did that 4 days ago, when I nominated Circuit Court of Appeals Judge Ketanji Brown Jackson. One of our nation’s top legal minds, who will continue Justice Breyer’s legacy of excellence.\n"
     ]
    }
   ],
   "source": [
    "# Perform a hybrid search\n",
    "docs = vector_store.similarity_search(\n",
    "    query=\"What did the president say about Ketanji Brown Jackson\",\n",
    "    k=3, \n",
    "    search_type=\"hybrid\"\n",
    ")\n",
    "print(docs[0].page_content)"
   ]
  },
  {
   "cell_type": "markdown",
   "metadata": {},
   "source": [
    "## Perform a Hybrid Search with Semantic re-ranking (powered by Bing)"
   ]
  },
  {
   "cell_type": "code",
   "execution_count": 21,
   "metadata": {},
   "outputs": [
    {
     "name": "stdout",
     "output_type": "stream",
     "text": [
      "--------------------------------------------------------------------------------\n",
      "Content: Tonight. I call on the Senate to: Pass the Freedom to Vote Act. Pass the John Lewis Voting Rights Act. And while you’re at it, pass the Disclose Act so Americans can know who is funding our elections. \n",
      "\n",
      "Tonight, I’d like to honor someone who has dedicated his life to serve this country: Justice Stephen Breyer—an Army veteran, Constitutional scholar, and retiring Justice of the United States Supreme Court. Justice Breyer, thank you for your service. \n",
      "\n",
      "One of the most serious constitutional responsibilities a President has is nominating someone to serve on the United States Supreme Court. \n",
      "\n",
      "And I did that 4 days ago, when I nominated Circuit Court of Appeals Judge Ketanji Brown Jackson. One of our nation’s top legal minds, who will continue Justice Breyer’s legacy of excellence.\n",
      "Score: 0.03181818127632141\n",
      "Caption: One of the most serious constitutional responsibilities a President has is nominating someone to serve on the United States Supreme Court. And I did that 4 days ago, when I nominated Circuit Court of Appeals Judge Ketanji Brown Jackson. One of our nation’s top legal minds, who will continue Justice Breyer’s legacy of excellence..\u0000\n",
      "--------------------------------------------------------------------------------\n",
      "Content: We’re going after the criminals who stole billions in relief money meant for small businesses and millions of Americans.  \n",
      "\n",
      "And tonight, I’m announcing that the Justice Department will name a chief prosecutor for pandemic fraud. \n",
      "\n",
      "By the end of this year, the deficit will be down to less than half what it was before I took office.  \n",
      "\n",
      "The only president ever to cut the deficit by more than one trillion dollars in a single year. \n",
      "\n",
      "Lowering your costs also means demanding more competition. \n",
      "\n",
      "I’m a capitalist, but capitalism without competition isn’t capitalism. \n",
      "\n",
      "It’s exploitation—and it drives up prices. \n",
      "\n",
      "When corporations don’t have to compete, their profits go up, your prices go up, and small businesses and family farmers and ranchers go under. \n",
      "\n",
      "We see it happening with ocean carriers moving goods in and out of America. \n",
      "\n",
      "During the pandemic, these foreign-owned companies raised prices by as much as 1,000% and made record profits.\n",
      "Score: 0.028991596773266792\n",
      "Caption: The only president ever to cut the deficit by more than one trillion dollars in a single year. Lowering your costs also means demanding more competition. I’m a capitalist, but capitalism without competition isn’t capitalism. It’s exploitation—and it drives up prices.\n",
      "--------------------------------------------------------------------------------\n",
      "Content: And built the strongest, freest, and most prosperous nation the world has ever known. \n",
      "\n",
      "Now is the hour. \n",
      "\n",
      "Our moment of responsibility. \n",
      "\n",
      "Our test of resolve and conscience, of history itself. \n",
      "\n",
      "It is in this moment that our character is formed. Our purpose is found. Our future is forged. \n",
      "\n",
      "Well I know this nation.  \n",
      "\n",
      "We will meet the test. \n",
      "\n",
      "To protect freedom and liberty, to expand fairness and opportunity. \n",
      "\n",
      "We will save democracy. \n",
      "\n",
      "As hard as these times have been, I am more optimistic about America today than I have been my whole life. \n",
      "\n",
      "Because I see the future that is within our grasp. \n",
      "\n",
      "Because I know there is simply nothing beyond our capacity. \n",
      "\n",
      "We are the only nation on Earth that has always turned every crisis we have faced into an opportunity. \n",
      "\n",
      "The only nation that can be defined by a single word: possibilities. \n",
      "\n",
      "So on this night, in our 245th year as a nation, I have come to report on the State of the Union.\n",
      "Score: 0.02547874115407467\n",
      "Caption: To protect freedom and liberty, to expand fairness and opportunity. We<em> will</em> save democracy. As hard as these times<em> have</em> been, I<em> am</em> more optimistic about America today than I<em> have</em> been my whole life. Because I see the future that<em> is</em> within our grasp. Because I know there<em> is</em> simply nothing beyond our capacity.\n"
     ]
    }
   ],
   "source": [
    "### solution for error below\n",
    "### You need create AI Serach with at least basic priceing tier , and enable Semantic Ranker in its settings (left side)\n",
    "# Message: Semantic search is not enabled for this service.\n",
    "# Parameter name: queryType\n",
    "# Exception Details:\t(SemanticQueriesNotAvailable) Semantic search is not enabled for this service.\n",
    "# \tCode: SemanticQueriesNotAvailable\n",
    "# \tMessage: Semantic search is not enabled for this service.\n",
    "###    \n",
    "# Perform a hybrid search with semantic reranking  \n",
    "docs_and_scores = vector_store.semantic_hybrid_search_with_score(  \n",
    "    query=\"What did the president say about Ketanji Brown Jackson\",  \n",
    "    k=3,  \n",
    ")  \n",
    "  \n",
    "# Print the results  \n",
    "for doc, score in docs_and_scores:  \n",
    "    print(\"-\" * 80)  \n",
    "    answers = doc.metadata['answers']  \n",
    "    if answers:  \n",
    "        if answers.get('highlights'):  \n",
    "            print(f\"Semantic Answer: {answers['highlights']}\")  \n",
    "        else:  \n",
    "            print(f\"Semantic Answer: {answers['text']}\")  \n",
    "        print(f\"Semantic Answer Score: {score}\")  \n",
    "    print(\"Content:\", doc.page_content)  \n",
    "    captions = doc.metadata['captions']\n",
    "    print(f\"Score: {score}\") \n",
    "    if captions:  \n",
    "        if captions.get('highlights'):  \n",
    "            print(f\"Caption: {captions['highlights']}\")  \n",
    "        else:  \n",
    "            print(f\"Caption: {captions['text']}\")  \n",
    "    else:  \n",
    "        print(\"Caption not available\")  \n"
   ]
  },
  {
   "cell_type": "code",
   "execution_count": null,
   "metadata": {},
   "outputs": [],
   "source": []
  }
 ],
 "metadata": {
  "kernelspec": {
   "display_name": "Python 3",
   "language": "python",
   "name": "python3"
  },
  "language_info": {
   "codemirror_mode": {
    "name": "ipython",
    "version": 3
   },
   "file_extension": ".py",
   "mimetype": "text/x-python",
   "name": "python",
   "nbconvert_exporter": "python",
   "pygments_lexer": "ipython3",
   "version": "3.10.10"
  },
  "orig_nbformat": 4
 },
 "nbformat": 4,
 "nbformat_minor": 2
}
