{
 "cells": [
  {
   "cell_type": "markdown",
   "metadata": {},
   "source": [
    "# Create a flow"
   ]
  },
  {
   "cell_type": "code",
   "execution_count": 4,
   "metadata": {},
   "outputs": [
    {
     "name": "stdout",
     "output_type": "stream",
     "text": [
      "Creating flow from scratch...\n",
      "Creating .promptflow folder...\n",
      "Creating azure_openai.yaml...\n",
      "Creating chat.jinja2...\n",
      "Creating flow.dag.yaml...\n",
      "Creating openai.yaml...\n",
      "Creating README.md...\n",
      "Creating C:\\code\\azure_openai_vic\\HandsOn\\Week3\\promptflow\\chatbot_demo\\requirements.txt...\n",
      "Creating C:\\code\\azure_openai_vic\\HandsOn\\Week3\\promptflow\\chatbot_demo\\.gitignore...\n",
      "Done. Created chat flow folder: C:\\code\\azure_openai_vic\\HandsOn\\Week3\\promptflow\\chatbot_demo.\n",
      "The generated chat flow is requiring a connection named open_ai_connection, please follow the steps in README.md to create if you haven't done that.\n",
      "You can execute this command to test the flow, pf flow test --flow ./promptflow/chatbot_demo --interactive\n"
     ]
    }
   ],
   "source": [
    "!pf flow init --flow ./promptflow/chatbot_demo --type chat"
   ]
  },
  {
   "cell_type": "markdown",
   "metadata": {},
   "source": [
    "# Setup a connection file for APIs\n",
    "\n",
    "For OpenAI key, establish a connection by running the command, using the openai.yaml file in the my_chatbot folder, which stores your OpenAI key (override keys and name with --set to avoid yaml file changes):\n",
    "\n",
    "```\n",
    "pf connection create --file ./my_chatbot/openai.yaml --set api_key=<your_api_key> --name open_ai_connection\n",
    "```\n",
    "\n",
    "For Azure OpenAI key, establish the connection by running the command, using the azure_openai.yaml file:\n",
    "\n",
    "```\n",
    "pf connection create --file ./my_chatbot/azure_openai.yaml --set api_key=<your_api_key> api_base=<your_api_base> --name open_ai_connection\n",
    "```"
   ]
  },
  {
   "cell_type": "code",
   "execution_count": null,
   "metadata": {},
   "outputs": [],
   "source": [
    "!pf connection create --file ./chatbot_demo/azure_openai.yaml --set api_key=<your_api_key> api_base=<your_api_base> --name open_ai_connection"
   ]
  },
  {
   "cell_type": "markdown",
   "metadata": {},
   "source": [
    "# Batch Testing a flow\n",
    "\n",
    "```\n",
    "!pf run create --flow ./promptflow/chatbot_demo --data ./promotflow/chatbot_demo/chatbot_demo_batch.jsonl --column-mapping question='$data.input' chat_history='$data.history' --stream --name \"chatbot_demo_run\"\n",
    "```"
   ]
  },
  {
   "cell_type": "code",
   "execution_count": 9,
   "metadata": {},
   "outputs": [
    {
     "name": "stdout",
     "output_type": "stream",
     "text": [
      "2023-11-15 23:10:27 -0500    4212 execution          INFO     Process 4212 started.\n",
      "2023-11-15 23:10:27 -0500   29096 execution          INFO     Process 29096 started.\n",
      "2023-11-15 23:10:27 -0500    2076 execution          INFO     Process 2076 started.\n",
      "2023-11-15 23:10:28 -0500    4212 execution          INFO     Process 4212 received start signal message: start\n",
      "2023-11-15 23:10:28 -0500    4212 execution          INFO     Process 4212 sent ready signal message.\n",
      "2023-11-15 23:10:28 -0500   22976 execution          INFO     Process 4212 get ready_msg: ready\n",
      "2023-11-15 23:10:28 -0500   22976 execution          INFO     Process name: Process-3, Process id: 4212, Line number: 0 start execution.\n",
      "2023-11-15 23:10:28 -0500    2076 execution          INFO     Process 2076 received start signal message: start\n",
      "2023-11-15 23:10:28 -0500   29096 execution          INFO     Process 29096 received start signal message: start\n",
      "2023-11-15 23:10:28 -0500    2076 execution          INFO     Process 2076 sent ready signal message.\n",
      "\n",
      "2023-11-15 23:10:28 -0500   22976 execution          INFO     Process 29096 get ready_msg: ready\n",
      "2023-11-15 23:10:28 -0500   22976 execution          INFO     Process 2076 get ready_msg: ready\n",
      "2023-11-15 23:10:28 -0500   22976 execution          INFO     Process name: Process-2, Process id: 29096, Line number: 1 start execution.\n",
      "2023-11-15 23:10:28 -0500   22976 execution          INFO     Process name: Process-4, Process id: 2076, Line number: 2 start execution.\n",
      "2023-11-15 23:10:28 -0500   22976 execution          INFO     Process name: Process-3, Process id: 4212, Line number: 0 completed.\n",
      "2023-11-15 23:10:28 -0500   22976 execution          INFO     Process name: Process-4, Process id: 2076, Line number: 2 completed.\n",
      "2023-11-15 23:10:28 -0500   22976 execution          INFO     Process name: Process-2, Process id: 29096, Line number: 1 completed.\n",
      "2023-11-15 23:10:29 -0500   22976 execution          INFO     Process 1 queue empty, exit.\n",
      "2023-11-15 23:10:29 -0500   22976 execution          INFO     Process 0 queue empty, exit.\n",
      "2023-11-15 23:10:29 -0500   22976 execution          INFO     Process 2 queue empty, exit.\n",
      "2023-11-15 23:10:29 -0500   22976 execution          ERROR    3/3 flow run failed, indexes: [0,1,2], exception of index 0: Failed to parse the flow input. The value for flow input 'chat_history' in line 0 of input data was interpreted as JSON string since its type is 'list'. However, the value '$data.history' is invalid for JSON parsing. Error details: (JSONDecodeError) Expecting value: line 1 column 1 (char 0). Please make sure your inputs are properly formatted.\n",
      "======= Run Summary =======\n",
      "\n",
      "Run name: \"chatbot_demo_run3\"\n",
      "Run status: \"Completed\"\n",
      "Start time: \"2023-11-15 23:10:18.867484\"\n",
      "Duration: \"0:00:10.638957\"\n",
      "Output path: \"C:\\Users\\louisli\\.promptflow\\.runs\\chatbot_demo_run3\"\n",
      "\n",
      "\n",
      "\n",
      "{\n",
      "    \"name\": \"chatbot_demo_run3\",\n",
      "    \"created_on\": \"2023-11-15T23:10:18.867484\",\n",
      "    \"status\": \"Completed\",\n",
      "    \"display_name\": \"chatbot_demo\",\n",
      "    \"description\": null,\n",
      "    \"tags\": null,\n",
      "    \"properties\": {\n",
      "        \"flow_path\": \"C:/code/azure_openai_vic/HandsOn/Week3/promptflow/chatbot_demo\",\n",
      "        \"output_path\": \"C:/Users/louisli/.promptflow/.runs/chatbot_demo_run3\",\n",
      "        \"system_metrics\": {}\n",
      "    },\n",
      "    \"flow_name\": \"chatbot_demo\",\n",
      "    \"data\": \"C:/code/azure_openai_vic/HandsOn/Week3/promptflow/chatbot_demo/chatbot_demo_batch.jsonl\",\n",
      "    \"output\": \"C:/Users/louisli/.promptflow/.runs/chatbot_demo_run3/flow_outputs/output.jsonl\",\n",
      "    \"error\": {\n",
      "        \"message\": \"Failed to run 3/3 lines: First error message is: Failed to parse the flow input. The value for flow input 'chat_history' in line 0 of input data was interpreted as JSON string since its type is 'list'. However, the value '$data.history' is invalid for JSON parsing. Error details: (JSONDecodeError) Expecting value: line 1 column 1 (char 0). Please make sure your inputs are properly formatted.\",\n",
      "        \"messageFormat\": \"\",\n",
      "        \"messageParameters\": {},\n",
      "        \"referenceCode\": \"Runtime\",\n",
      "        \"code\": \"BulkRunException\",\n",
      "        \"innerError\": null,\n",
      "        \"additionalInfo\": [\n",
      "            {\n",
      "                \"type\": \"BulkRunLineErrors\",\n",
      "                \"info\": {\n",
      "                    \"errors\": [\n",
      "                        {\n",
      "                            \"line number\": 0,\n",
      "                            \"error\": {\n",
      "                                \"message\": \"Failed to parse the flow input. The value for flow input 'chat_history' in line 0 of input data was interpreted as JSON string since its type is 'list'. However, the value '$data.history' is invalid for JSON parsing. Error details: (JSONDecodeError) Expecting value: line 1 column 1 (char 0). Please make sure your inputs are properly formatted.\",\n",
      "                                \"messageFormat\": \"Failed to parse the flow input. The value for flow input {flow_input_info} was interpreted as JSON string since its type is '{value_type}'. However, the value '{input_value}' is invalid for JSON parsing. Error details: {error_type_and_message}. Please make sure your inputs are properly formatted.\",\n",
      "                                \"messageParameters\": {\n",
      "                                    \"flow_input_info\": \"'chat_history' in line 0 of input data\",\n",
      "                                    \"input_value\": \"$data.history\",\n",
      "                                    \"value_type\": \"ValueType.LIST\",\n",
      "                                    \"error_type_and_message\": \"(JSONDecodeError) Expecting value: line 1 column 1 (char 0)\"\n",
      "                                },\n",
      "                                \"referenceCode\": \"Executor\",\n",
      "                                \"code\": \"UserError\",\n",
      "                                \"innerError\": {\n",
      "                                    \"code\": \"ValidationError\",\n",
      "                                    \"innerError\": {\n",
      "                                        \"code\": \"InvalidFlowRequest\",\n",
      "                                        \"innerError\": {\n",
      "                                            \"code\": \"InputParseError\",\n",
      "                                            \"innerError\": null\n",
      "                                        }\n",
      "                                    }\n",
      "                                },\n",
      "                                \"debugInfo\": {\n",
      "                                    \"type\": \"InputParseError\",\n",
      "                                    \"message\": \"Failed to parse the flow input. The value for flow input 'chat_history' in line 0 of input data was interpreted as JSON string since its type is 'list'. However, the value '$data.history' is invalid for JSON parsing. Error details: (JSONDecodeError) Expecting value: line 1 column 1 (char 0). Please make sure your inputs are properly formatted.\",\n",
      "                                    \"stackTrace\": \"\\nThe above exception was the direct cause of the following exception:\\n\\nTraceback (most recent call last):\\n  File \\\"C:\\\\Users\\\\louisli\\\\Miniconda3\\\\envs\\\\gpt\\\\lib\\\\site-packages\\\\promptflow\\\\executor\\\\flow_executor.py\\\", line 890, in _exec\\n    inputs = FlowValidator.ensure_flow_inputs_type(flow=self._flow, inputs=inputs, idx=line_number)\\n  File \\\"C:\\\\Users\\\\louisli\\\\Miniconda3\\\\envs\\\\gpt\\\\lib\\\\site-packages\\\\promptflow\\\\executor\\\\flow_validator.py\\\", line 231, in ensure_flow_inputs_type\\n    return FlowValidator.resolve_flow_inputs_type(flow, inputs, idx)\\n  File \\\"C:\\\\Users\\\\louisli\\\\Miniconda3\\\\envs\\\\gpt\\\\lib\\\\site-packages\\\\promptflow\\\\executor\\\\flow_validator.py\\\", line 186, in resolve_flow_inputs_type\\n    raise InputParseError(\\n\",\n",
      "                                    \"innerException\": {\n",
      "                                        \"type\": \"JSONDecodeError\",\n",
      "                                        \"message\": \"Expecting value: line 1 column 1 (char 0)\",\n",
      "                                        \"stackTrace\": \"Traceback (most recent call last):\\n  File \\\"C:\\\\Users\\\\louisli\\\\Miniconda3\\\\envs\\\\gpt\\\\lib\\\\site-packages\\\\promptflow\\\\executor\\\\flow_validator.py\\\", line 174, in resolve_flow_inputs_type\\n    updated_inputs[k] = v.type.parse(inputs[k])\\n  File \\\"C:\\\\Users\\\\louisli\\\\Miniconda3\\\\envs\\\\gpt\\\\lib\\\\site-packages\\\\promptflow\\\\contracts\\\\tool.py\\\", line 114, in parse\\n    v = json.loads(v)\\n  File \\\"C:\\\\Users\\\\louisli\\\\Miniconda3\\\\envs\\\\gpt\\\\lib\\\\json\\\\__init__.py\\\", line 346, in loads\\n    return _default_decoder.decode(s)\\n  File \\\"C:\\\\Users\\\\louisli\\\\Miniconda3\\\\envs\\\\gpt\\\\lib\\\\json\\\\decoder.py\\\", line 337, in decode\\n    obj, end = self.raw_decode(s, idx=_w(s, 0).end())\\n  File \\\"C:\\\\Users\\\\louisli\\\\Miniconda3\\\\envs\\\\gpt\\\\lib\\\\json\\\\decoder.py\\\", line 355, in raw_decode\\n    raise JSONDecodeError(\\\"Expecting value\\\", s, err.value) from None\\n\",\n",
      "                                        \"innerException\": null\n",
      "                                    }\n",
      "                                }\n",
      "                            }\n",
      "                        },\n",
      "                        {\n",
      "                            \"line number\": 1,\n",
      "                            \"error\": {\n",
      "                                \"message\": \"Failed to parse the flow input. The value for flow input 'chat_history' in line 1 of input data was interpreted as JSON string since its type is 'list'. However, the value '$data.history' is invalid for JSON parsing. Error details: (JSONDecodeError) Expecting value: line 1 column 1 (char 0). Please make sure your inputs are properly formatted.\",\n",
      "                                \"messageFormat\": \"Failed to parse the flow input. The value for flow input {flow_input_info} was interpreted as JSON string since its type is '{value_type}'. However, the value '{input_value}' is invalid for JSON parsing. Error details: {error_type_and_message}. Please make sure your inputs are properly formatted.\",\n",
      "                                \"messageParameters\": {\n",
      "                                    \"flow_input_info\": \"'chat_history' in line 1 of input data\",\n",
      "                                    \"input_value\": \"$data.history\",\n",
      "                                    \"value_type\": \"ValueType.LIST\",\n",
      "                                    \"error_type_and_message\": \"(JSONDecodeError) Expecting value: line 1 column 1 (char 0)\"\n",
      "                                },\n",
      "                                \"referenceCode\": \"Executor\",\n",
      "                                \"code\": \"UserError\",\n",
      "                                \"innerError\": {\n",
      "                                    \"code\": \"ValidationError\",\n",
      "                                    \"innerError\": {\n",
      "                                        \"code\": \"InvalidFlowRequest\",\n",
      "                                        \"innerError\": {\n",
      "                                            \"code\": \"InputParseError\",\n",
      "                                            \"innerError\": null\n",
      "                                        }\n",
      "                                    }\n",
      "                                },\n",
      "                                \"debugInfo\": {\n",
      "                                    \"type\": \"InputParseError\",\n",
      "                                    \"message\": \"Failed to parse the flow input. The value for flow input 'chat_history' in line 1 of input data was interpreted as JSON string since its type is 'list'. However, the value '$data.history' is invalid for JSON parsing. Error details: (JSONDecodeError) Expecting value: line 1 column 1 (char 0). Please make sure your inputs are properly formatted.\",\n",
      "                                    \"stackTrace\": \"\\nThe above exception was the direct cause of the following exception:\\n\\nTraceback (most recent call last):\\n  File \\\"C:\\\\Users\\\\louisli\\\\Miniconda3\\\\envs\\\\gpt\\\\lib\\\\site-packages\\\\promptflow\\\\executor\\\\flow_executor.py\\\", line 890, in _exec\\n    inputs = FlowValidator.ensure_flow_inputs_type(flow=self._flow, inputs=inputs, idx=line_number)\\n  File \\\"C:\\\\Users\\\\louisli\\\\Miniconda3\\\\envs\\\\gpt\\\\lib\\\\site-packages\\\\promptflow\\\\executor\\\\flow_validator.py\\\", line 231, in ensure_flow_inputs_type\\n    return FlowValidator.resolve_flow_inputs_type(flow, inputs, idx)\\n  File \\\"C:\\\\Users\\\\louisli\\\\Miniconda3\\\\envs\\\\gpt\\\\lib\\\\site-packages\\\\promptflow\\\\executor\\\\flow_validator.py\\\", line 186, in resolve_flow_inputs_type\\n    raise InputParseError(\\n\",\n",
      "                                    \"innerException\": {\n",
      "                                        \"type\": \"JSONDecodeError\",\n",
      "                                        \"message\": \"Expecting value: line 1 column 1 (char 0)\",\n",
      "                                        \"stackTrace\": \"Traceback (most recent call last):\\n  File \\\"C:\\\\Users\\\\louisli\\\\Miniconda3\\\\envs\\\\gpt\\\\lib\\\\site-packages\\\\promptflow\\\\executor\\\\flow_validator.py\\\", line 174, in resolve_flow_inputs_type\\n    updated_inputs[k] = v.type.parse(inputs[k])\\n  File \\\"C:\\\\Users\\\\louisli\\\\Miniconda3\\\\envs\\\\gpt\\\\lib\\\\site-packages\\\\promptflow\\\\contracts\\\\tool.py\\\", line 114, in parse\\n    v = json.loads(v)\\n  File \\\"C:\\\\Users\\\\louisli\\\\Miniconda3\\\\envs\\\\gpt\\\\lib\\\\json\\\\__init__.py\\\", line 346, in loads\\n    return _default_decoder.decode(s)\\n  File \\\"C:\\\\Users\\\\louisli\\\\Miniconda3\\\\envs\\\\gpt\\\\lib\\\\json\\\\decoder.py\\\", line 337, in decode\\n    obj, end = self.raw_decode(s, idx=_w(s, 0).end())\\n  File \\\"C:\\\\Users\\\\louisli\\\\Miniconda3\\\\envs\\\\gpt\\\\lib\\\\json\\\\decoder.py\\\", line 355, in raw_decode\\n    raise JSONDecodeError(\\\"Expecting value\\\", s, err.value) from None\\n\",\n",
      "                                        \"innerException\": null\n",
      "                                    }\n",
      "                                }\n",
      "                            }\n",
      "                        },\n",
      "                        {\n",
      "                            \"line number\": 2,\n",
      "                            \"error\": {\n",
      "                                \"message\": \"Failed to parse the flow input. The value for flow input 'chat_history' in line 2 of input data was interpreted as JSON string since its type is 'list'. However, the value '$data.history' is invalid for JSON parsing. Error details: (JSONDecodeError) Expecting value: line 1 column 1 (char 0). Please make sure your inputs are properly formatted.\",\n",
      "                                \"messageFormat\": \"Failed to parse the flow input. The value for flow input {flow_input_info} was interpreted as JSON string since its type is '{value_type}'. However, the value '{input_value}' is invalid for JSON parsing. Error details: {error_type_and_message}. Please make sure your inputs are properly formatted.\",\n",
      "                                \"messageParameters\": {\n",
      "                                    \"flow_input_info\": \"'chat_history' in line 2 of input data\",\n",
      "                                    \"input_value\": \"$data.history\",\n",
      "                                    \"value_type\": \"ValueType.LIST\",\n",
      "                                    \"error_type_and_message\": \"(JSONDecodeError) Expecting value: line 1 column 1 (char 0)\"\n",
      "                                },\n",
      "                                \"referenceCode\": \"Executor\",\n",
      "                                \"code\": \"UserError\",\n",
      "                                \"innerError\": {\n",
      "                                    \"code\": \"ValidationError\",\n",
      "                                    \"innerError\": {\n",
      "                                        \"code\": \"InvalidFlowRequest\",\n",
      "                                        \"innerError\": {\n",
      "                                            \"code\": \"InputParseError\",\n",
      "                                            \"innerError\": null\n",
      "                                        }\n",
      "                                    }\n",
      "                                },\n",
      "                                \"debugInfo\": {\n",
      "                                    \"type\": \"InputParseError\",\n",
      "                                    \"message\": \"Failed to parse the flow input. The value for flow input 'chat_history' in line 2 of input data was interpreted as JSON string since its type is 'list'. However, the value '$data.history' is invalid for JSON parsing. Error details: (JSONDecodeError) Expecting value: line 1 column 1 (char 0). Please make sure your inputs are properly formatted.\",\n",
      "                                    \"stackTrace\": \"\\nThe above exception was the direct cause of the following exception:\\n\\nTraceback (most recent call last):\\n  File \\\"C:\\\\Users\\\\louisli\\\\Miniconda3\\\\envs\\\\gpt\\\\lib\\\\site-packages\\\\promptflow\\\\executor\\\\flow_executor.py\\\", line 890, in _exec\\n    inputs = FlowValidator.ensure_flow_inputs_type(flow=self._flow, inputs=inputs, idx=line_number)\\n  File \\\"C:\\\\Users\\\\louisli\\\\Miniconda3\\\\envs\\\\gpt\\\\lib\\\\site-packages\\\\promptflow\\\\executor\\\\flow_validator.py\\\", line 231, in ensure_flow_inputs_type\\n    return FlowValidator.resolve_flow_inputs_type(flow, inputs, idx)\\n  File \\\"C:\\\\Users\\\\louisli\\\\Miniconda3\\\\envs\\\\gpt\\\\lib\\\\site-packages\\\\promptflow\\\\executor\\\\flow_validator.py\\\", line 186, in resolve_flow_inputs_type\\n    raise InputParseError(\\n\",\n",
      "                                    \"innerException\": {\n",
      "                                        \"type\": \"JSONDecodeError\",\n",
      "                                        \"message\": \"Expecting value: line 1 column 1 (char 0)\",\n",
      "                                        \"stackTrace\": \"Traceback (most recent call last):\\n  File \\\"C:\\\\Users\\\\louisli\\\\Miniconda3\\\\envs\\\\gpt\\\\lib\\\\site-packages\\\\promptflow\\\\executor\\\\flow_validator.py\\\", line 174, in resolve_flow_inputs_type\\n    updated_inputs[k] = v.type.parse(inputs[k])\\n  File \\\"C:\\\\Users\\\\louisli\\\\Miniconda3\\\\envs\\\\gpt\\\\lib\\\\site-packages\\\\promptflow\\\\contracts\\\\tool.py\\\", line 114, in parse\\n    v = json.loads(v)\\n  File \\\"C:\\\\Users\\\\louisli\\\\Miniconda3\\\\envs\\\\gpt\\\\lib\\\\json\\\\__init__.py\\\", line 346, in loads\\n    return _default_decoder.decode(s)\\n  File \\\"C:\\\\Users\\\\louisli\\\\Miniconda3\\\\envs\\\\gpt\\\\lib\\\\json\\\\decoder.py\\\", line 337, in decode\\n    obj, end = self.raw_decode(s, idx=_w(s, 0).end())\\n  File \\\"C:\\\\Users\\\\louisli\\\\Miniconda3\\\\envs\\\\gpt\\\\lib\\\\json\\\\decoder.py\\\", line 355, in raw_decode\\n    raise JSONDecodeError(\\\"Expecting value\\\", s, err.value) from None\\n\",\n",
      "                                        \"innerException\": null\n",
      "                                    }\n",
      "                                }\n",
      "                            }\n",
      "                        }\n",
      "                    ]\n",
      "                }\n",
      "            }\n",
      "        ],\n",
      "        \"debugInfo\": {\n",
      "            \"type\": \"BulkRunException\",\n",
      "            \"message\": \"Failed to run 3/3 lines: First error message is: Failed to parse the flow input. The value for flow input 'chat_history' in line 0 of input data was interpreted as JSON string since its type is 'list'. However, the value '$data.history' is invalid for JSON parsing. Error details: (JSONDecodeError) Expecting value: line 1 column 1 (char 0). Please make sure your inputs are properly formatted.\",\n",
      "            \"stackTrace\": \"Traceback (most recent call last):\\n\",\n",
      "            \"innerException\": null\n",
      "        }\n",
      "    }\n",
      "}\n"
     ]
    }
   ],
   "source": [
    "!pf run create --flow promptflow/chatbot_demo --data promptflow/chatbot_demo/chatbot_demo_batch.jsonl --column-mapping question='$data.input' chat_history='$data.history' --stream --name \"chatbot_demo_run3\""
   ]
  },
  {
   "cell_type": "markdown",
   "metadata": {},
   "source": [
    "\n",
    "# Testing flow interactively\n",
    "\n",
    "Interact with your chatbot by running: (press Ctrl + C to end the session)\n",
    "\n",
    "```\n",
    "pf flow test --flow ./my_chatbot --interactive\n",
    "```\n",
    "\n",
    "\n",
    "# Show run details:\n",
    "```\n",
    "pf run show-details -n ask_bing_search_1\n",
    "```\n",
    "\n",
    "# Visualize result metrics\n",
    "\n",
    "```\n",
    "pf run visualize -n ask_bing_search_1\n",
    "\n",
    "```"
   ]
  },
  {
   "cell_type": "markdown",
   "metadata": {},
   "source": [
    "# Serve the flow locally\n",
    "\n",
    "```\n",
    "pf flow serve --source ./chatbot_demo --port 8080\n",
    "```"
   ]
  },
  {
   "cell_type": "markdown",
   "metadata": {},
   "source": [
    "# Build Docker"
   ]
  },
  {
   "cell_type": "code",
   "execution_count": null,
   "metadata": {},
   "outputs": [],
   "source": [
    "!pf flow build --source ./chatbot_demo --output ./chatbot_demo/docker --format docker --verbose"
   ]
  },
  {
   "cell_type": "markdown",
   "metadata": {},
   "source": [
    "Now we can go ahead and build the docker image"
   ]
  },
  {
   "cell_type": "code",
   "execution_count": 3,
   "metadata": {},
   "outputs": [
    {
     "name": "stderr",
     "output_type": "stream",
     "text": [
      "'docker' is not recognized as an internal or external command,\n",
      "operable program or batch file.\n"
     ]
    }
   ],
   "source": [
    "!docker build ./chatbot_demo/docker -t chatbot_demo"
   ]
  },
  {
   "cell_type": "markdown",
   "metadata": {},
   "source": [
    "# Deploy to Azure\n",
    "\n",
    "## 1. From local to Azure App\n",
    "\n",
    "### Log in to your registry\n",
    "Have Azure CLI and Docker CLI installed locally on your host machine. Docker provides packages that easily configure Docker on any Mac OS, Windows, or Linux system.\n"
   ]
  },
  {
   "cell_type": "code",
   "execution_count": null,
   "metadata": {},
   "outputs": [],
   "source": [
    "!az login"
   ]
  },
  {
   "cell_type": "code",
   "execution_count": null,
   "metadata": {},
   "outputs": [],
   "source": [
    "!az acr login --name <Azure Container Registry Name>"
   ]
  },
  {
   "cell_type": "markdown",
   "metadata": {},
   "source": [
    "### Pull and tag your image\n",
    "For this example, you will pull a public \"hello world\" image locally and provide a tag before you push the image to your registry."
   ]
  },
  {
   "cell_type": "code",
   "execution_count": null,
   "metadata": {},
   "outputs": [],
   "source": [
    "!docker tag mcr.microsoft.com/mcr/chatbot_demo <Azure Container Registry Name>/samples/hello-world"
   ]
  },
  {
   "cell_type": "markdown",
   "metadata": {},
   "source": [
    "### Push the image to your registry\n",
    "Now that you've tagged the \"hello world\" image with the fully qualfied path to your private registry, you can push it to the registry with docker push\n"
   ]
  },
  {
   "cell_type": "markdown",
   "metadata": {},
   "source": [
    "docker push <Azure Container Registry Name>/samples/hello-world"
   ]
  }
 ],
 "metadata": {
  "kernelspec": {
   "display_name": "gpt",
   "language": "python",
   "name": "python3"
  },
  "language_info": {
   "codemirror_mode": {
    "name": "ipython",
    "version": 3
   },
   "file_extension": ".py",
   "mimetype": "text/x-python",
   "name": "python",
   "nbconvert_exporter": "python",
   "pygments_lexer": "ipython3",
   "version": "3.10.10"
  }
 },
 "nbformat": 4,
 "nbformat_minor": 2
}
