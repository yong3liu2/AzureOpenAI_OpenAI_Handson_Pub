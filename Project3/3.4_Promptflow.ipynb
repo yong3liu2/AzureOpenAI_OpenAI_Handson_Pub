{
 "cells": [
  {
   "cell_type": "markdown",
   "metadata": {},
   "source": [
    "Assignment 3\n",
    "\n",
    "# Prompt Flow: \n",
    "\n",
    "* Bing Search flow \n",
    "\n",
    "    * Ask questions with Bing Search API \n",
    "\n",
    "    * Deploy to endpoint "
   ]
  },
  {
   "cell_type": "markdown",
   "metadata": {},
   "source": [
    "# Create a flow"
   ]
  },
  {
   "cell_type": "markdown",
   "metadata": {},
   "source": [
    "usage: pf flow init [-h] [--type {standard,evaluation,chat}] [-y] --flow FLOW [--entry ENTRY] [--function FUNCTION]\n",
    "                    [--prompt-template PROMPT_TEMPLATE [PROMPT_TEMPLATE ...]] [--verbose] [-d]"
   ]
  },
  {
   "cell_type": "code",
   "execution_count": 8,
   "metadata": {},
   "outputs": [
    {
     "name": "stdout",
     "output_type": "stream",
     "text": [
      "1.0.0\n"
     ]
    }
   ],
   "source": [
    "!pf -v"
   ]
  },
  {
   "cell_type": "code",
   "execution_count": 9,
   "metadata": {},
   "outputs": [
    {
     "name": "stdout",
     "output_type": "stream",
     "text": [
      "Creating flow from scratch...\n",
      "Creating .promptflow folder...\n",
      "Creating data.jsonl...\n",
      "Creating flow.dag.yaml...\n",
      "Creating hello.jinja2...\n",
      "Creating hello.py...\n",
      "Creating __pycache__ folder...\n",
      "Creating C:\\HOME\\AI\\MyGitProjects\\AzureOpenAI\\Week3\\promptflow\\bing_search_serp\\requirements.txt...\n",
      "Creating C:\\HOME\\AI\\MyGitProjects\\AzureOpenAI\\Week3\\promptflow\\bing_search_serp\\.gitignore...\n",
      "Done. Created standard flow folder: C:\\HOME\\AI\\MyGitProjects\\AzureOpenAI\\Week3\\promptflow\\bing_search_serp.\n",
      "You can execute this command to test the flow, pf flow test --flow promptflow/bing_search_serp --input promptflow/bing_search_serp\\data.jsonl\n"
     ]
    }
   ],
   "source": [
    "!pf flow init --flow promptflow/bing_search_serp --type standard"
   ]
  },
  {
   "cell_type": "markdown",
   "metadata": {},
   "source": [
    "# Batch Testing a flow - did not run this step in this assignment\n",
    "\n",
    "```\n",
    "!pf run create --flow ./promptflow/chatbot_demo --data ./promotflow/chatbot_demo/chatbot_demo_batch.jsonl --column-mapping question='$data.input' chat_history='$data.history' --stream --name \"chatbot_demo_run\"\n",
    "```"
   ]
  },
  {
   "cell_type": "code",
   "execution_count": null,
   "metadata": {},
   "outputs": [],
   "source": [
    "# !pf run create --flow promptflow/chatbot_demo --data promptflow/chatbot_demo/chatbot_demo_batch.jsonl --column-mapping question='$data.input' chat_history='$data.history' --stream --name \"chatbot_demo_run\""
   ]
  },
  {
   "cell_type": "markdown",
   "metadata": {},
   "source": [
    "#### TODO: Here is an issue that in parameter: --column-mapping question='$data.text', the '$data.text' did not return the true content, but just \"$data.text\" as a string. Need to find out why this is the case?\n",
    "\n",
    "In data.jsonl file: \n",
    "\n",
    "{\"question\":\"Sam Altman join Microsoft and return back to OpenAI as of 11/22/2023?\"}\n",
    "\n",
    "{\"question\":\"Who is the United States president as of 11/22/2023?\"}"
   ]
  },
  {
   "cell_type": "code",
   "execution_count": 8,
   "metadata": {},
   "outputs": [
    {
     "name": "stdout",
     "output_type": "stream",
     "text": [
      "2023-11-22 13:48:03 -0500   19684 execution          INFO     Process 19684 started.\n",
      "2023-11-22 13:47:58 -0500   10552 execution          WARNING  Available max worker count -9 is less than 1, set it to 1.\n",
      "2023-11-22 13:47:58 -0500   10552 execution          INFO     Process 10552 uses 170.48828125,\n",
      "        total memory 8108.02734375, total memory in use: 7154.89453125,\n",
      "        available memory: 953.1328125, available max worker count: 1\n",
      "2023-11-22 13:47:58 -0500   10552 execution.bulk     INFO     Not using fork, process count: 1\n",
      "2023-11-22 13:48:04 -0500   10552 execution          INFO     Process name: SpawnProcess-2, Process id: 19684, Line number: 0 start execution.\n",
      "2023-11-22 13:48:07 -0500   10552 execution          INFO     Process name: SpawnProcess-2, Process id: 19684, Line number: 0 completed.\n",
      "2023-11-22 13:48:07 -0500   10552 execution.bulk     INFO     Finished 1 / 2 lines.\n",
      "2023-11-22 13:48:07 -0500   10552 execution.bulk     INFO     Average execution time for completed lines: 9.27 seconds. Estimated time for incomplete lines: 9.27 seconds.\n",
      "2023-11-22 13:48:07 -0500   10552 execution          INFO     Process name: SpawnProcess-2, Process id: 19684, Line number: 1 start execution.\n",
      "2023-11-22 13:48:09 -0500   10552 execution          INFO     Process name: SpawnProcess-2, Process id: 19684, Line number: 1 completed.\n",
      "2023-11-22 13:48:09 -0500   10552 execution.bulk     INFO     Finished 2 / 2 lines.\n",
      "2023-11-22 13:48:09 -0500   10552 execution.bulk     INFO     Average execution time for completed lines: 5.23 seconds. Estimated time for incomplete lines: 0.0 seconds.\n",
      "======= Run Summary =======\n",
      "\n",
      "Run name: \"bing_search_serp_run003\"\n",
      "Run status: \"Completed\"\n",
      "Start time: \"2023-11-22 13:47:48.656227\"\n",
      "Duration: \"0:00:21.648761\"\n",
      "Output path: \"C:\\Users\\Yong\\.promptflow\\.runs\\bing_search_serp_run003\"\n",
      "\n",
      "\n",
      "\n",
      "{\n",
      "    \"name\": \"bing_search_serp_run003\",\n",
      "    \"created_on\": \"2023-11-22T13:47:48.656227\",\n",
      "    \"status\": \"Completed\",\n",
      "    \"display_name\": \"bing_search_serp\",\n",
      "    \"description\": null,\n",
      "    \"tags\": null,\n",
      "    \"properties\": {\n",
      "        \"flow_path\": \"C:/HOME/AI/MyGitProjects/AzureOpenAI/Week3/promptflow/bing_search_serp\",\n",
      "        \"output_path\": \"C:/Users/Yong/.promptflow/.runs/bing_search_serp_run003\",\n",
      "        \"system_metrics\": {}\n",
      "    },\n",
      "    \"flow_name\": \"bing_search_serp\",\n",
      "    \"data\": \"C:/HOME/AI/MyGitProjects/AzureOpenAI/Week3/promptflow/bing_search_serp/data.jsonl\",\n",
      "    \"output\": \"C:/Users/Yong/.promptflow/.runs/bing_search_serp_run003/flow_outputs/output.jsonl\"\n",
      "}\n"
     ]
    }
   ],
   "source": [
    "!pf run create --flow promptflow/bing_search_serp --data ./promptflow/bing_search_serp/data.jsonl --column-mapping question='$data.question' --stream --name \"bing_search_serp_run003\""
   ]
  },
  {
   "cell_type": "markdown",
   "metadata": {},
   "source": [
    "\n",
    "# Testing flow interactively\n",
    "\n",
    "Interact with your chatbot by running: (press Ctrl + C to end the session)\n",
    "\n",
    "```\n",
    "pf flow test --flow ./my_chatbot --interactive\n",
    "```\n",
    "\n",
    "\n",
    "# Show run details:\n",
    "```\n",
    "pf run show-details -n ask_bing_search_1\n",
    "```\n",
    "\n",
    "# Visualize result metrics\n",
    "\n",
    "```\n",
    "pf run visualize -n ask_bing_search_1\n",
    "\n",
    "```"
   ]
  },
  {
   "cell_type": "code",
   "execution_count": null,
   "metadata": {},
   "outputs": [],
   "source": [
    "!pf run show-details -n bing_search_serp_run003"
   ]
  },
  {
   "cell_type": "code",
   "execution_count": 9,
   "metadata": {},
   "outputs": [
    {
     "name": "stdout",
     "output_type": "stream",
     "text": [
      "The HTML file is generated at 'C:\\\\Users\\\\Yong\\\\AppData\\\\Local\\\\Temp\\\\pf-visualize-detail-jclkyqiu.html'.\n",
      "Trying to view the result in a web browser...\n",
      "Successfully visualized from the web browser.\n"
     ]
    }
   ],
   "source": [
    "!pf run visualize -n bing_search_serp_run003"
   ]
  },
  {
   "cell_type": "markdown",
   "metadata": {},
   "source": [
    "# Serve the flow locally\n",
    "\n",
    "```\n",
    "pf flow serve --source ./chatbot_demo --port 8080\n",
    "```"
   ]
  },
  {
   "cell_type": "code",
   "execution_count": 7,
   "metadata": {},
   "outputs": [
    {
     "name": "stdout",
     "output_type": "stream",
     "text": [
      "^C\n"
     ]
    }
   ],
   "source": [
    "!pf flow serve --source ./promptflow/bing_search_serp --port 8080 --verbose"
   ]
  }
 ],
 "metadata": {
  "kernelspec": {
   "display_name": "gpt",
   "language": "python",
   "name": "python3"
  },
  "language_info": {
   "codemirror_mode": {
    "name": "ipython",
    "version": 3
   },
   "file_extension": ".py",
   "mimetype": "text/x-python",
   "name": "python",
   "nbconvert_exporter": "python",
   "pygments_lexer": "ipython3",
   "version": "3.11.6"
  }
 },
 "nbformat": 4,
 "nbformat_minor": 2
}
