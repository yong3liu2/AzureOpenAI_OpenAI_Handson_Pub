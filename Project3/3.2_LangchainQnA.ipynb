{
 "cells": [
  {
   "attachments": {},
   "cell_type": "markdown",
   "metadata": {},
   "source": [
    "Assignment 2\n",
    "\n",
    "# Langchain QnA \n",
    "\n",
    "* Data source: Arxiv.org/physics - data have been embedded into Azure AI Search (Azure Cognitive Search)\n"
   ]
  },
  {
   "cell_type": "markdown",
   "metadata": {},
   "source": [
    "#### Setup Azure OpenAI"
   ]
  },
  {
   "cell_type": "code",
   "execution_count": 6,
   "metadata": {},
   "outputs": [],
   "source": [
    "import os\n",
    "import openai\n",
    "from dotenv import load_dotenv\n",
    "# Set up Azure OpenAI\n",
    "load_dotenv()\n",
    "\n",
    "openai.api_type = \"azure\"\n",
    "\n",
    "AZURE_OPENAI_API_VERSION = os.getenv(\"AAG_AZURE_OPENAI_API_VERSION\")\n",
    "openai.api_version = AZURE_OPENAI_API_VERSION\n",
    "\n",
    "AZURE_OPENAI_API_KEY = os.getenv(\"AAG_AZURE_OPENAI_API_KEY\").strip()\n",
    "assert AZURE_OPENAI_API_KEY, \"ERROR: Azure OpenAI Key is missing\"\n",
    "openai.api_key = AZURE_OPENAI_API_KEY\n",
    "\n",
    "AZURE_OPENAI_ENDPOINT = os.getenv(\"AAG_AZURE_OPENAI_ENDPOINT\",\"\").strip()\n",
    "assert AZURE_OPENAI_ENDPOINT, \"ERROR: Azure OpenAI Endpoint is missing\"\n",
    "openai.api_base = AZURE_OPENAI_ENDPOINT\n",
    "\n",
    "# Deployment for Chat\n",
    "# DEPLOYMENT_NAME_CHAT = os.getenv('DEPLOYMENT_NAME_CHAT')\n",
    "DEPLOYMENT_NAME_CHAT = os.getenv('AAG_DEPLOYMENT_NAME_CHAT_16K')\n",
    "\n",
    "# Deployment for embedding\n",
    "DEPLOYMENT_NAME_EMBEDDING = os.getenv(\"AAG_DEPLOYMENT_NAME_EMBEDDING\")\n",
    "model: str = DEPLOYMENT_NAME_EMBEDDING"
   ]
  },
  {
   "cell_type": "markdown",
   "metadata": {},
   "source": [
    "#### Setup the Langchain Azure Cognitive Search Retriever\n",
    "\n",
    "* https://python.langchain.com/docs/integrations/retrievers/azure_cognitive_search#using-the-azure-cognitive-search-retriever"
   ]
  },
  {
   "cell_type": "code",
   "execution_count": 7,
   "metadata": {},
   "outputs": [],
   "source": [
    "from langchain.retrievers import AzureCognitiveSearchRetriever\n",
    "\n",
    "# os.environ[\"AZURE_COGNITIVE_SEARCH_SERVICE_NAME\"] = \"<YOUR_ACS_SERVICE_NAME>\"\n",
    "# This is NOT the whole end point string, like: https://yongaisearch.search.windows.net\n",
    "os.environ[\"AZURE_COGNITIVE_SEARCH_SERVICE_NAME\"] = \"yongaisearch\"\n",
    "\n",
    "#  os.environ[\"AZURE_COGNITIVE_SEARCH_INDEX_NAME\"] = \"<YOUR_ACS_INDEX_NAME>\"\n",
    "os.environ[\"AZURE_COGNITIVE_SEARCH_INDEX_NAME\"] = \"langchain-vector-arxiv-physics\"\n",
    "\n",
    "# os.environ[\"AZURE_COGNITIVE_SEARCH_API_KEY\"] = \"<YOUR_API_KEY>\"\n",
    "os.environ[\"AZURE_COGNITIVE_SEARCH_API_KEY\"] = os.getenv(\"AAG_AZURE_SEARCH_ADMIN_KEY\")\n",
    "\n",
    "# retriever = AzureCognitiveSearchRetriever(content_key=\"content\", top_k=3)\n",
    "\n",
    "# retriever.get_relevant_documents(\"what is Oumuamua?\")"
   ]
  },
  {
   "cell_type": "markdown",
   "metadata": {},
   "source": [
    "#### Use langchain: load_summarize_chain to summarize document(s)"
   ]
  },
  {
   "cell_type": "code",
   "execution_count": 8,
   "metadata": {},
   "outputs": [],
   "source": [
    "from langchain.chains.summarize import load_summarize_chain\n",
    "from langchain.chat_models import AzureChatOpenAI\n",
    "\n",
    "# Construct Azure OpenAI\n",
    "llm = AzureChatOpenAI(\n",
    "    openai_api_type = \"azure\",\n",
    "    api_version = AZURE_OPENAI_API_VERSION,\n",
    "    azure_endpoint = AZURE_OPENAI_ENDPOINT,    \n",
    "    api_key = AZURE_OPENAI_API_KEY,\n",
    "    azure_deployment = DEPLOYMENT_NAME_CHAT,\n",
    "    temperature=0)\n",
    "\n",
    "# from langchain.document_loaders import WebBaseLoader\n",
    "# loader = WebBaseLoader(\"https://lilianweng.github.io/posts/2023-06-23-agent/\")\n",
    "# docs = loader.load()\n",
    "\n",
    "# llm = ChatOpenAI(temperature=0, model_name=\"gpt-3.5-turbo-16k\")\n",
    "summarize_chain = load_summarize_chain(llm, chain_type=\"stuff\")\n",
    "\n",
    "# chain.run(docs)"
   ]
  },
  {
   "cell_type": "markdown",
   "metadata": {},
   "source": [
    "#### Main chatbot loop"
   ]
  },
  {
   "cell_type": "code",
   "execution_count": 9,
   "metadata": {},
   "outputs": [
    {
     "name": "stdout",
     "output_type": "stream",
     "text": [
      "Start chatting with the bot ('quit' to exit):\n",
      "Me: Oumuamua is what?\n",
      "Bot: The concise summary of the given information is that various scientific papers and sources have been referenced, discussing topics such as the nature of the interstellar object 'Oumuamua, its non-gravitational acceleration, its cometary fractal aggregate model, and the potential effectiveness of electric sails. These sources also cover topics like X-ray faint isolated neutron stars, nearby stellar groups, extreme ultraviolet sources, and the modeling of 'Oumuamua's light curve.\n",
      "Me: Oumuamua Considered as an Alien Craft?\n",
      "Bot: This paper discusses the hypothesis that the interstellar object 'Oumuamua could be an alien spacecraft. The author considers the possibility of both controlled and uncontrolled flight and discusses the challenges and research programs that arise from this hypothesis. The paper highlights the need for a targeted research program to test the alien craft interpretation of 'Oumuamua and suggests that similar considerations can be applied to future interstellar objects. The acceleration of 'Oumuamua as it left the solar system is cited as evidence supporting the alien craft hypothesis.\n",
      "Me: Where did Oumuamua come from?\n",
      "Bot: Table 1 provides a summary of cases, issues, and tests related to interstellar objects. The uncontrolled cases involve estimating the time for useful orientation and the possibility of close-up inspection for future objects. Inadvertent cases involve signs of large-scale mining and the potential for close-up inspection and identifying marks. The population cases discuss the feasibility of a stellar system-wide economy and ongoing surveys to determine population density. The controlled cases focus on determining the origin of interstellar objects, with calculations needed for course corrections and data suggesting exclusion of certain stars.\n",
      "Me: Are we aliens?\n",
      "Bot: This article discusses the potential integration of life detection and origin of life studies through the use of Bayesian reasoning. It highlights the trade-off between having a well-constrained prior for life or a definitive biosignature, and the need for data and models to evaluate the biogenicity of potential signatures. The article also emphasizes the importance of considering the possibility of life with different chemical features than those found on Earth.\n",
      "Me: quit\n",
      "Exiting conversation.\n"
     ]
    }
   ],
   "source": [
    "# Function to handle bot responses\n",
    "\n",
    "def chat_with_bot(top_k_value):\n",
    "    retriever = AzureCognitiveSearchRetriever(content_key=\"content\", top_k=top_k_value)\n",
    "    while True:\n",
    "        # 0. Get user input\n",
    "        user_input = input(\"You: \")\n",
    "        print(\"Me:\", user_input)\n",
    "        if user_input.lower() == 'quit':\n",
    "            print(\"Exiting conversation.\")\n",
    "            break  # Exit the loop if user inputs 'quit'\n",
    "\n",
    "        # bot_response = retriever.get_relevant_documents(user_input)\n",
    "        docs = retriever.get_relevant_documents(user_input)\n",
    "        bot_response = summarize_chain.run(docs)\n",
    "\n",
    "        print(\"Bot:\", bot_response)\n",
    "\n",
    "# Start the conversation\n",
    "print(\"Start chatting with the bot ('quit' to exit):\")\n",
    "chat_with_bot(1)"
   ]
  }
 ],
 "metadata": {
  "kernelspec": {
   "display_name": "Python 3",
   "language": "python",
   "name": "python3"
  },
  "language_info": {
   "codemirror_mode": {
    "name": "ipython",
    "version": 3
   },
   "file_extension": ".py",
   "mimetype": "text/x-python",
   "name": "python",
   "nbconvert_exporter": "python",
   "pygments_lexer": "ipython3",
   "version": "3.11.6"
  },
  "orig_nbformat": 4
 },
 "nbformat": 4,
 "nbformat_minor": 2
}
