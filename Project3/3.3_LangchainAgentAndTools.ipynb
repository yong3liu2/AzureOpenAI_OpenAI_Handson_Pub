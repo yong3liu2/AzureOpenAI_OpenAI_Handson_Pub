{
 "cells": [
  {
   "attachments": {},
   "cell_type": "markdown",
   "metadata": {},
   "source": [
    "Assignment 3\n",
    "\n",
    "# Langchain Agent and Tools: \n",
    "\n",
    "* With Bing Search \n",
    "\n",
    "* Answering questions from titanic.CSV file.  \n",
    "\n",
    "    For example: how many passengers have more than 2 siblings? \n"
   ]
  },
  {
   "cell_type": "markdown",
   "metadata": {},
   "source": [
    "#### Configure OpenAI Settings"
   ]
  },
  {
   "cell_type": "code",
   "execution_count": 1,
   "metadata": {},
   "outputs": [],
   "source": [
    "import os\n",
    "import openai\n",
    "from dotenv import load_dotenv\n",
    "# Set up Azure OpenAI\n",
    "load_dotenv()\n",
    "\n",
    "openai.api_type = \"azure\"\n",
    "\n",
    "AZURE_OPENAI_API_VERSION = os.getenv(\"AAG_AZURE_OPENAI_API_VERSION\")\n",
    "openai.api_version = AZURE_OPENAI_API_VERSION\n",
    "\n",
    "AZURE_OPENAI_API_KEY = os.getenv(\"AAG_AZURE_OPENAI_API_KEY\").strip()\n",
    "assert AZURE_OPENAI_API_KEY, \"ERROR: Azure OpenAI Key is missing\"\n",
    "openai.api_key = AZURE_OPENAI_API_KEY\n",
    "\n",
    "AZURE_OPENAI_ENDPOINT = os.getenv(\"AAG_AZURE_OPENAI_ENDPOINT\",\"\").strip()\n",
    "assert AZURE_OPENAI_ENDPOINT, \"ERROR: Azure OpenAI Endpoint is missing\"\n",
    "openai.api_base = AZURE_OPENAI_ENDPOINT\n",
    "\n",
    "# Deployment for Chat\n",
    "# DEPLOYMENT_NAME_CHAT = os.getenv('DEPLOYMENT_NAME_CHAT')\n",
    "DEPLOYMENT_NAME_CHAT = os.getenv('AAG_DEPLOYMENT_NAME_CHAT_16K')\n",
    "\n",
    "# Deployment for embedding\n",
    "DEPLOYMENT_NAME_EMBEDDING = os.getenv(\"AAG_DEPLOYMENT_NAME_EMBEDDING\")\n",
    "model: str = DEPLOYMENT_NAME_EMBEDDING\n",
    "\n",
    "# Deployment for embedding\n",
    "BING_SUBSCRIPTION_KEY = os.getenv(\"BING_SUBSCRIPTION_KEY\")"
   ]
  },
  {
   "cell_type": "markdown",
   "metadata": {},
   "source": [
    "#### Summarization - langchain: load_summarize_chain"
   ]
  },
  {
   "cell_type": "code",
   "execution_count": 18,
   "metadata": {},
   "outputs": [],
   "source": [
    "from langchain.docstore.document import Document\n",
    "from langchain.text_splitter import CharacterTextSplitter\n",
    "from langchain.chains.summarize import load_summarize_chain\n",
    "\n",
    "from langchain.chat_models import AzureChatOpenAI\n",
    "\n",
    "# Construct Azure OpenAI\n",
    "llm = AzureChatOpenAI(\n",
    "    openai_api_type = \"azure\",\n",
    "    api_version = AZURE_OPENAI_API_VERSION,\n",
    "    azure_endpoint = AZURE_OPENAI_ENDPOINT,    \n",
    "    api_key = AZURE_OPENAI_API_KEY,\n",
    "    azure_deployment = DEPLOYMENT_NAME_CHAT,\n",
    "    temperature=0)\n",
    "\n",
    "def generate_response(txt):\n",
    "    # Split text\n",
    "    text_splitter = CharacterTextSplitter()\n",
    "    texts = text_splitter.split_text(txt)\n",
    "    # Create multiple documents\n",
    "    docs = [Document(page_content=t) for t in texts]\n",
    "    # Text summarization\n",
    "    chain = load_summarize_chain(llm, chain_type='stuff')\n",
    "    return chain.run(docs)"
   ]
  },
  {
   "cell_type": "markdown",
   "metadata": {},
   "source": [
    "#### Get Bing Search API ready"
   ]
  },
  {
   "cell_type": "code",
   "execution_count": 36,
   "metadata": {},
   "outputs": [
    {
     "data": {
      "text/plain": [
       "'Sam Altman, the co-founder and CEO of OpenAI, was fired by the company\\'s board, causing shockwaves in the AI industry. Altman had taken over as CEO in 2019 and had implemented a \"capped profit\" arm to attract investors. Altman\\'s firing followed a pattern of clashes and conflicts in his career, including being fired by his mentor at Y Combinator.'"
      ]
     },
     "execution_count": 36,
     "metadata": {},
     "output_type": "execute_result"
    }
   ],
   "source": [
    "import os\n",
    "os.environ[\"BING_SUBSCRIPTION_KEY\"] = BING_SUBSCRIPTION_KEY\n",
    "os.environ[\"BING_SEARCH_URL\"] = \"https://api.bing.microsoft.com/v7.0/search\"\n",
    "\n",
    "from langchain.utilities import BingSearchAPIWrapper\n",
    "search = BingSearchAPIWrapper()\n",
    "# search.run(\"python\")\n",
    "html_string = search.run(\"When Sam Altman got fired?\")\n",
    "generate_response(html_string)"
   ]
  },
  {
   "cell_type": "markdown",
   "metadata": {},
   "source": [
    "#### Build an agent to work wiht local .csv file and answer questions based on .csv file"
   ]
  },
  {
   "cell_type": "code",
   "execution_count": 23,
   "metadata": {},
   "outputs": [],
   "source": [
    "from langchain.chat_models import AzureChatOpenAI\n",
    "from langchain.agents import initialize_agent, AgentType\n",
    "from langchain_experimental.agents.agent_toolkits import create_csv_agent\n",
    "llm = AzureChatOpenAI(azure_deployment=\"gpt-35-turbo-16k\",\n",
    "                      temperature=0,\n",
    "                      azure_endpoint = AZURE_OPENAI_ENDPOINT,\n",
    "                      openai_api_type = \"azure\",\n",
    "                      api_key = AZURE_OPENAI_API_KEY)\n",
    "agent = create_csv_agent(\n",
    "    llm = llm,\n",
    "    path = \"./data_source/titanic.csv\",\n",
    "    verbose=False,\n",
    "    agent_type=AgentType.OPENAI_FUNCTIONS,\n",
    ")"
   ]
  },
  {
   "cell_type": "code",
   "execution_count": 24,
   "metadata": {},
   "outputs": [
    {
     "data": {
      "text/plain": [
       "'There are 891 rows in the dataframe.'"
      ]
     },
     "execution_count": 24,
     "metadata": {},
     "output_type": "execute_result"
    }
   ],
   "source": [
    "agent.run(\"how many rows are there?\")"
   ]
  },
  {
   "cell_type": "code",
   "execution_count": 25,
   "metadata": {},
   "outputs": [
    {
     "data": {
      "text/plain": [
       "'There are 46 people in the dataframe who have more than 2 siblings.'"
      ]
     },
     "execution_count": 25,
     "metadata": {},
     "output_type": "execute_result"
    }
   ],
   "source": [
    "agent.run(\"how many people have more than 2 siblings\")"
   ]
  },
  {
   "cell_type": "code",
   "execution_count": 35,
   "metadata": {},
   "outputs": [
    {
     "data": {
      "text/plain": [
       "'There are 7 people who have more than 7 siblings. Here is the table showing their names and the number of siblings they have:\\n\\n|    | Name                               |   SibSp |\\n|---:|:-----------------------------------|--------:|\\n| 159 | Sage, Master. Thomas Henry         |       8 |\\n| 180 | Sage, Miss. Constance Gladys       |       8 |\\n| 201 | Sage, Mr. Frederick                |       8 |\\n| 324 | Sage, Mr. George John Jr           |       8 |\\n| 792 | Sage, Miss. Stella Anna            |       8 |\\n| 846 | Sage, Mr. Douglas Bullen           |       8 |\\n| 863 | Sage, Miss. Dorothy Edith \"Dolly\"  |       8 |'"
      ]
     },
     "execution_count": 35,
     "metadata": {},
     "output_type": "execute_result"
    }
   ],
   "source": [
    "agent.run(\"how many people have more than 7 siblings and who are they? Please show siblings number in a table.\")"
   ]
  }
 ],
 "metadata": {
  "kernelspec": {
   "display_name": "Python 3",
   "language": "python",
   "name": "python3"
  },
  "language_info": {
   "codemirror_mode": {
    "name": "ipython",
    "version": 3
   },
   "file_extension": ".py",
   "mimetype": "text/x-python",
   "name": "python",
   "nbconvert_exporter": "python",
   "pygments_lexer": "ipython3",
   "version": "3.11.6"
  },
  "orig_nbformat": 4
 },
 "nbformat": 4,
 "nbformat_minor": 2
}
