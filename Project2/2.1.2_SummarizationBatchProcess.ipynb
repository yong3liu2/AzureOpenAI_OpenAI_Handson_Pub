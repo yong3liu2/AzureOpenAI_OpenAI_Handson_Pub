{
 "cells": [
  {
   "cell_type": "markdown",
   "metadata": {},
   "source": [
    "## Task: Summarization Batch Process\n",
    "\n",
    "* Data source: Arxiv papers for math/AI/physics (5 papers each) - processed by previous data preparation process.\n",
    "\n",
    "* File path: '../data_source/arxiv.org/<AI/math/physcis>/formrecognized_output/...'\n",
    "\n",
    "* Azure OpenAI Completion - summarize page by page in appended approach\n",
    "\n",
    "* Save the final summary into JSON file."
   ]
  },
  {
   "cell_type": "code",
   "execution_count": 6,
   "metadata": {},
   "outputs": [
    {
     "data": {
      "text/plain": [
       "True"
      ]
     },
     "execution_count": 6,
     "metadata": {},
     "output_type": "execute_result"
    }
   ],
   "source": [
    "import os\n",
    "from dotenv import load_dotenv\n",
    "load_dotenv()"
   ]
  },
  {
   "cell_type": "markdown",
   "metadata": {},
   "source": [
    "#### Set up Azure OpenAI"
   ]
  },
  {
   "cell_type": "code",
   "execution_count": 12,
   "metadata": {},
   "outputs": [],
   "source": [
    "# Note: The openai-python library support for Azure OpenAI is in preview. \n",
    "# This version is not supported in ChatCompletion.\n",
    "# import os\n",
    "import openai\n",
    "\n",
    "openai.api_type = \"azure\"\n",
    "# openai.api_version = \"2023-07-01-preview\"\n",
    "openai.api_version = \"2023-09-15-preview\"\n",
    "API_KEY = os.getenv(\"OPENAI_API_KEY\",\"\").strip()\n",
    "assert API_KEY, \"ERROR: Azure OpenAI Key is missing\"\n",
    "openai.api_key = API_KEY\n",
    "RESOURCE_ENDPOINT = os.getenv(\"OPENAI_API_ENDPOINT\",\"\").strip()\n",
    "assert RESOURCE_ENDPOINT, \"ERROR: Azure OpenAI Endpoint is missing\"\n",
    "assert \"openai.azure.com\" in RESOURCE_ENDPOINT.lower(), \"ERROR: Azure OpenAI Endpoint should be in the form: \\n\\n\\t<your unique endpoint identifier>.openai.azure.com\"\n",
    "openai.api_base = RESOURCE_ENDPOINT\n",
    "\n",
    "COMPLETIONS_MODEL = os.getenv('DEPLOYMENT_NAME')"
   ]
  },
  {
   "cell_type": "markdown",
   "metadata": {},
   "source": [
    "#### Use Azure OpenAI 'Completion' to summarize content"
   ]
  },
  {
   "cell_type": "code",
   "execution_count": 26,
   "metadata": {},
   "outputs": [],
   "source": [
    "# Use Azure OpenAI completion for summarization\n",
    "def openai_completion_summarization(previous_summary, new_content):\n",
    "    debug = False\n",
    "    if debug:\n",
    "        print(\"openai_completion_summarization(): start\")\n",
    "        print(\"openai_completion_summarization(): previous_summary: \", previous_summary)\n",
    "        print(\"openai_completion_summarization(): new_content: \", new_content)\n",
    "\n",
    "    # Construct prompt\n",
    "    # prompt_text = (\n",
    "    #     'Provide a summary of the contents below. Note that your summary should consider:\\n'\n",
    "    #     'Summary based on previous content:\\n ' +\n",
    "    #     previous_summary + ' \\n' +\n",
    "    #     'and the new content: \\n' + \n",
    "    #     new_content\n",
    "    # )\n",
    "\n",
    "    prompt_text = 'Provide a summary of the contents below.\\n' + \\\n",
    "        previous_summary + ' \\n ' + new_content    \n",
    "\n",
    "    # prompt_text = 'Provide a summary of the text below that captures its main idea.\\n\\n' + \\\n",
    "    #     previous_summary + ' \\n ' + new_content\n",
    "    \n",
    "    \n",
    "    if debug: print(\"prompt_text:\", prompt_text)\n",
    "\n",
    "    response = openai.Completion.create(\n",
    "        engine=COMPLETIONS_MODEL,\n",
    "        prompt=prompt_text,\n",
    "        temperature=0,\n",
    "        max_tokens=2000,\n",
    "        top_p=1,\n",
    "        frequency_penalty=0,\n",
    "        presence_penalty=0,\n",
    "        best_of=1,\n",
    "        stop=None)\n",
    "\n",
    "    if debug: \n",
    "        print(f\"\\nOpenAI completion summary: [{repr(response['choices'][0]['text'])}]\")\n",
    "        print(\"openai_completion_summarization(): end\")\n",
    "    return response['choices'][0]['text']"
   ]
  },
  {
   "cell_type": "markdown",
   "metadata": {},
   "source": [
    "#### Summarize whole document"
   ]
  },
  {
   "cell_type": "code",
   "execution_count": 29,
   "metadata": {},
   "outputs": [],
   "source": [
    "# Summrization with append approach\n",
    "def summerization_append(json_filename, page_content_in_json_file ):\n",
    "    print(\"summerization_append(): start\")\n",
    "    print(\"summerization_append(): json_filename: \", json_filename)\n",
    "    # print(\"summerization_append(): page_content_in_json_file: \", page_content_in_json_file)\n",
    "    debug = False\n",
    "\n",
    "    # Loop through the JSON and print page_content\n",
    "    previous_summary_text = 'None'\n",
    "    for page in reversed(page_content_in_json_file):\n",
    "        new_page_number = page.get('page_number', '')\n",
    "        new_page_content = page.get('page_content', '')\n",
    "        if debug:\n",
    "            print(\"Page number: \", new_page_number)\n",
    "\n",
    "        # print(\"Page content: \", new_page_content)\n",
    "        summary_result = openai_completion_summarization(previous_summary_text, new_page_content)\n",
    "        previous_summary_text = summary_result.split('\\n\\n', 1)[-1]\n",
    "        # time.sleep(2)\n",
    "        if debug:\n",
    "            print(\"Summary: \", previous_summary_text)\n",
    "            print(\"=\" * 50)  # Separating page contents for better readability\n",
    "\n",
    "    formrecognized_index = json_filename.find('_formrecognized')\n",
    "    # Extract the substring before '_formrecognized'\n",
    "    orig_filename = json_filename[:formrecognized_index]\n",
    "    final_summary = [{\"File name\": orig_filename,\n",
    "                    \"Summary\": previous_summary_text}]\n",
    "    print(\"summerization_append(): final_summary: \", final_summary)\n",
    "    print(\"summerization_append(): end\")\n",
    "    return final_summary"
   ]
  },
  {
   "cell_type": "markdown",
   "metadata": {},
   "source": [
    "#### Enter the folder path for JSON files\n",
    "For example:\n",
    "* './data_source/arxiv.org/AI/formrecognized_output'\n",
    "* './data_source/arxiv.org/math/formrecognized_output'\n",
    "* './data_source/arxiv.org/physcis/formrecognized_output'"
   ]
  },
  {
   "cell_type": "code",
   "execution_count": 34,
   "metadata": {},
   "outputs": [
    {
     "name": "stdout",
     "output_type": "stream",
     "text": [
      "Summarization batch process >>>\n",
      "Summary folder \"./data_source/arxiv.org/physcis\\finalsummary_output\" created.\n",
      "Found JSON file: 2111.07895.pdf_formrecognized.json, Full Path: ./data_source/arxiv.org/physcis/formrecognized_output\\2111.07895.pdf_formrecognized.json\n",
      "summerization_append(): start\n",
      "summerization_append(): json_filename:  2111.07895.pdf_formrecognized.json\n",
      "summerization_append(): final_summary:  [{'File name': '2111.07895.pdf', 'Summary': \" et al. 2017) or gas (Trilling et al. 2018) was detected from 'Oumuamua, so the acceleration is not due to cometary outgassing. The acceleration is consistent with the behavior of a solar sail (Loeb & Bialy 2018). The acceleration is also consistent with the behavior of a rocket (Jackson & Arkani-Hamed 2018). The acceleration is not consistent with the behavior of a comet (Bannister & Dybczynski 2019). The acceleration is not consistent with the behavior of a dust cloud (Bannister & Dybczynski 2019). The acceleration is not consistent with the behavior of a gas cloud (Bannister & Dybczynski 2019). The acceleration is not consistent with the behavior of a magnetic sail (Jackson & Arkani-Hamed 2018). The acceleration is not consistent with the behavior of a solar wind sail (Jackson & Arkani-Hamed 2018). The acceleration is not consistent with the behavior of a light sail (Jackson & Arkani-Hamed 2018). The acceleration is not consistent with the behavior of a magnetic sail (Jackson & Arkani-Hamed 2018). The acceleration is not consistent with the behavior of a solar wind sail (Jackson & Arkani-Hamed 2018). The acceleration is not consistent with the behavior of a light sail (Jackson & Arkani-Hamed 2018). The acceleration is not consistent with the behavior of a magnetic sail (Jackson & Arkani-Hamed 2018). The acceleration is not consistent with the behavior of a solar wind sail (Jackson & Arkani-Hamed 2018). The acceleration is not consistent with the behavior of a light sail (Jackson & Arkani-Hamed 2018). The acceleration is not consistent with the behavior of a magnetic sail (Jackson & Arkani-Hamed 2018). The acceleration is not consistent with the behavior of a solar wind sail (Jackson & Arkani-Hamed 2018). The acceleration is not consistent with the behavior of a light sail (Jackson & Arkani-Hamed 2018). The acceleration is not consistent with the behavior of a magnetic sail (Jackson & Arkani-Hamed 2018). The acceleration is not consistent with the behavior of a solar wind sail (Jackson & Arkani-Hamed 2018). The acceleration is not consistent with the behavior of a light sail (Jackson & Arkani-Hamed 2018). The acceleration is not consistent with the behavior of a magnetic sail (Jackson & Arkani-Hamed 2018). The acceleration is not consistent with the behavior of a solar wind sail (Jackson & Arkani-Hamed 2018). The acceleration is not consistent with the behavior of a light sail (Jackson & Arkani-Hamed 2018). The acceleration is not consistent with the behavior of a magnetic sail (Jackson & Arkani-Hamed 2018). The acceleration is not consistent with the behavior of a solar wind sail (Jackson & Arkani-Hamed 2018). The acceleration is not consistent with the behavior of a light sail (Jackson & Arkani-Hamed 2018). The acceleration is not consistent with the behavior of a magnetic sail (Jackson & Arkani-Hamed 2018). The acceleration is not consistent with the behavior of a solar wind sail (Jackson & Arkani-Hamed 2018). The acceleration is not consistent with the behavior of a light sail (Jackson & Arkani-Hamed 2018). The acceleration is not consistent with the behavior of a magnetic sail (Jackson & Arkani-Hamed 2018). The acceleration is not consistent with the behavior of a solar wind sail (Jackson & Arkani-Hamed 2018). The acceleration is not consistent with the behavior of a light sail (Jackson & Arkani-Hamed 2018). The acceleration is not consistent with the behavior of a magnetic sail (Jackson & Arkani-Hamed 2018). The acceleration is not consistent with the behavior of a solar wind sail (Jackson & Arkani-Hamed 2018). The acceleration is not consistent with the behavior of a light sail (Jackson & Arkani-Hamed 2018). The acceleration is not consistent with the behavior of a magnetic sail (Jackson & Arkani-Hamed 2018). The acceleration is not consistent with the behavior of a solar wind sail (Jackson & Arkani-Hamed 2018). The acceleration is not consistent with the behavior of a light sail (Jackson & Arkani-Hamed 2018). The acceleration is not consistent with the behavior of a magnetic sail (Jackson & Arkani-Hamed 2018). The acceleration is not consistent with the behavior of a solar wind sail (Jackson & Arkani-Hamed 2018). The acceleration is not consistent with the behavior of a light sail (Jackson & Arkani-Hamed 2018). The acceleration is not consistent with the behavior of a magnetic sail (Jackson & Arkani-Hamed 2018). The acceleration is not consistent with the behavior of a solar wind sail (Jackson & Arkani-Hamed 2018). The acceleration is not consistent with the behavior of a light sail (Jackson & Arkani-Hamed 2018). The acceleration is not consistent with the behavior of a magnetic sail (Jackson & Arkani-Hamed 2018). The acceleration is not consistent with the behavior of a solar wind sail (Jackson & Arkani-Hamed 2018). The acceleration is not consistent with the behavior of a light sail (Jackson & Arkani-Hamed 2018). The acceleration is not consistent with the behavior of a magnetic sail (Jackson & Arkani-Hamed 2018). The acceleration is not consistent with the behavior of a solar wind sail (Jackson & Arkani-Hamed 2018). The acceleration is not consistent with the behavior of a light sail (Jackson & Arkani-Hamed 2018). The acceleration is not consistent with the behavior of a magnetic sail (Jackson & Arkani-Hamed 2018). The acceleration is not consistent with the behavior of a solar wind sail (Jackson & Arkani-Hamed 2018). The acceleration is not consistent with the behavior of a light sail (Jackson & Arkani-Hamed 2018). The acceleration is not consistent with the behavior of a magnetic sail (Jackson & Arkani-Hamed 2018). The acceleration is not consistent with the behavior of a solar wind sail (Jackson & Arkani-Hamed 2018). The acceleration is not consistent with the behavior of a light sail (Jackson & Arkani-Hamed 2018). The acceleration is not consistent with the behavior of a magnetic sail (Jackson & Arkani-Hamed 2018). The acceleration is not consistent with the behavior of a solar wind sail (Jackson & Arkani-Hamed 2018). The acceleration is not consistent with the behavior of a light sail (Jackson & Arkani-Hamed 2018). The acceleration is not consistent with the behavior of a magnetic sail (Jackson & Arkani-Hamed 2018). The acceleration is not consistent with the behavior of a solar wind sail (Jackson & Arkani-Hamed 2018). The acceleration is not consistent with the behavior of a light sail (Jackson & Arkani-Hamed 2018). The acceleration is not consistent with the behavior of a magnetic sail (Jackson & Arkani-Hamed 2018). The acceleration is not consistent with the behavior of a solar wind sail (Jackson & Arkani-Hamed 2018). The acceleration is not consistent with the behavior of a light sail (Jackson & Arkani-Hamed 2018). The acceleration is not consistent with the behavior of a magnetic sail (Jackson & Arkani-Hamed 2018). The acceleration is not consistent with the behavior of a solar wind sail (Jackson & Arkani-Hamed 2018). The acceleration is not consistent with the behavior of a light sail (Jackson & Arkani-Hamed 2018). The acceleration is not consistent with the behavior of a magnetic sail (Jackson & Arkani-Hamed 2018). The acceleration is not consistent with the behavior of a solar wind sail (Jackson & Arkani-Hamed 2018). The acceleration is not consistent with the behavior of a light sail (Jackson & Arkani-Hamed 2018). The acceleration is not consistent with the behavior of a magnetic sail (Jackson & Arkani-Hamed 2018). The acceleration is not consistent with the behavior of a solar wind sail (Jackson & Arkani-Hamed 2018). The acceleration is not consistent with the behavior of a light sail (Jackson & Arkani-Hamed 2018). The acceleration is not consistent with the behavior of a magnetic sail (Jackson & Arkani-Hamed 2018). The acceleration is not consistent with the behavior of a solar wind sail (Jackson & Arkani-Hamed 2018). The acceleration is not consistent with the behavior of a light sail (Jackson & Arkani-Hamed 2018). The acceleration is not consistent with the behavior of a magnetic sail (Jackson & Arkani-Hamed 2018). The acceleration is not consistent with the behavior of a solar wind sail (Jackson & Arkani-Hamed 2018). The acceleration is not consistent with the behavior of a light sail (Jackson & Arkani-Hamed 2018). The acceleration is not consistent with the behavior of a magnetic sail (Jackson & Arkani-Hamed 2018). The acceleration is not consistent with the behavior of a solar wind sail (Jackson & Arkani-Hamed 2018). The acceleration is not consistent with the behavior of a light sail (Jackson & Arkani-Hamed 2018). The acceleration is not consistent with the behavior of a magnetic sail (Jackson & Arkani-H\"}]\n",
      "summerization_append(): end\n",
      "JSON data has been saved to ./data_source/arxiv.org/physcis\\finalsummary_output\\2111.07895.pdf_summary.json\n",
      "Found JSON file: 2207.00634.pdf_formrecognized.json, Full Path: ./data_source/arxiv.org/physcis/formrecognized_output\\2207.00634.pdf_formrecognized.json\n",
      "summerization_append(): start\n",
      "summerization_append(): json_filename:  2207.00634.pdf_formrecognized.json\n",
      "summerization_append(): final_summary:  [{'File name': '2207.00634.pdf', 'Summary': 'The contents discuss the need for further research and experiments to understand the origins of life and the search for life beyond Earth. The articles cover topics such as assembly theory, pathway complexity, physical boundaries and universality of evolution, biosignatures, molecular tree of life, search for life on other planets, rate of abiogenesis, convergence of synthetic paradigms, phosphine on Venus, experiments and theories on the emergence of life, challenges of interpreting data from exoplanets, lab-based origins of life experiments, CoLD Scale, Life Detection Knowledgebase, constraints on prior probability of life, and the importance of considering false positives when interpreting potential biosignatures. The use of Bayes equation in discriminating between hypotheses, such as detecting life on other planets, is also discussed. The articles emphasize the need for further research and experiments to understand the origins of life and the search for life beyond Earth. The importance of considering prior probabilities and confidence in interpreting data is illustrated through a hypothetical scenario of flipping a biased coin and using Bayes theorem to calculate the probability of having a fair coin based on the observed outcome. The difference between frequentist and Bayesian interpretations of probabilities is also discussed in relation to the search for life. The articles highlight the need for more general theories for life in order to search for life as we don\\'t know it and to increase confidence in detection even of life as we know it by avoiding false positives. The use of probabilistic methods to quantify uncertainty in detecting features of alien worlds is also mentioned. The application of Bayes theorem in assessing the hypothesis of \"life\" given a relevant biosignature observable is explained, and the assumption that life is either present or absent is discussed. The importance of having a smoking-gun biosignature or strong support for the prior existence of life in an environment is also emphasized. The articles also discuss the potential integration of life detection and origin of life studies through the use of Bayesian reasoning, and the need for a well-constrained and high probability prior for life in order to avoid false positives in detecting potential biosignatures. The limitations of current knowledge and models in making inferences about potential alien life are also highlighted, emphasizing the need for further research and data. Overall, the contents emphasize the need for a unified approach and strong theoretical and empirical reasons to understand the origins of life and the search for life beyond Earth.'}]\n",
      "summerization_append(): end\n",
      "JSON data has been saved to ./data_source/arxiv.org/physcis\\finalsummary_output\\2207.00634.pdf_summary.json\n",
      "Found JSON file: 2211.17085.pdf_formrecognized.json, Full Path: ./data_source/arxiv.org/physcis/formrecognized_output\\2211.17085.pdf_formrecognized.json\n",
      "summerization_append(): start\n",
      "summerization_append(): json_filename:  2211.17085.pdf_formrecognized.json\n",
      "summerization_append(): final_summary:  [{'File name': '2211.17085.pdf', 'Summary': \"This section provides a detailed analysis of Object 9252, which was detected during sky monitoring on August 24, 2018. The object's characteristics, including its distance, altitude, size, and speed, are described. The appendix includes figures showing the object's track and trajectory in pseudo colors, as well as a discussion of the technology used to detect the object. The section also discusses the object's angular velocity and color properties, with calculations and diagrams provided. The appendix also includes restored images of the object with different albedo values. The section concludes with a discussion of astronomical observations of bright flying objects, specifically unidentified aerial phenomena (UAPs), and their properties such as size, brightness, and variability. The section also discusses the use of parallax measurements and albedo values to determine the size of UAPs. The section also includes a discussion of the equipment and methods used for UAP observations, as well as the results of these observations. The Main Astronomical Observatory of NAS of Ukraine conducts an independent study of UAPs, using two meteor stations in Kyiv and Vinarivka. The section also discusses the two types of UAPs observed, Cosmics and Phantoms, and their high speeds and difficulty in detection. The results of previous UAP studies are also mentioned, including the detection of variable objects and their color characteristics. The section concludes with estimates of the size and speed of Phantoms observed in the troposphere.\"}]\n",
      "summerization_append(): end\n",
      "JSON data has been saved to ./data_source/arxiv.org/physcis\\finalsummary_output\\2211.17085.pdf_summary.json\n",
      "Found JSON file: 2303.17103.pdf_formrecognized.json, Full Path: ./data_source/arxiv.org/physcis/formrecognized_output\\2303.17103.pdf_formrecognized.json\n",
      "summerization_append(): start\n",
      "summerization_append(): json_filename:  2303.17103.pdf_formrecognized.json\n",
      "summerization_append(): final_summary:  [{'File name': '2303.17103.pdf', 'Summary': 'The contents below discuss a potential correlation between meteor showers and UFO sightings, as well as the role of the jet stream in the frequency and location of UFO sightings. The author presents data from the NUFORC data set, showing a significant overlap between the distribution of UFO sightings and meteor showers. A chi-square test is conducted to determine the significance of this correlation, and the results suggest a strong relationship between the two. The author also explores the possibility of lighter-than-air craft being carried by the jet stream, providing a potential explanation for widespread sightings in certain regions. The paper also mentions the presence of \"balloon incidents\" in the NUFORC data set, which could potentially be related to UFO sightings. The author acknowledges that further analysis is needed to fully understand the nature and origins of these sightings. The paper also discusses the potential for alien craft to use meteor showers as cover for approaching Earth, and examines data from the NUFORC database to see if there is a higher rate of UFO sightings during meteor showers. The methods used in the study, including data sets and analysis techniques, are also described. The paper concludes with a summary of the findings and the need for further research in this area.'}]\n",
      "summerization_append(): end\n",
      "JSON data has been saved to ./data_source/arxiv.org/physcis\\finalsummary_output\\2303.17103.pdf_summary.json\n",
      "Found JSON file: 2305.18566.pdf_formrecognized.json, Full Path: ./data_source/arxiv.org/physcis/formrecognized_output\\2305.18566.pdf_formrecognized.json\n",
      "summerization_append(): start\n",
      "summerization_append(): json_filename:  2305.18566.pdf_formrecognized.json\n",
      "summerization_append(): final_summary:  [{'File name': '2305.18566.pdf', 'Summary': 'The article discusses the need for a more inclusive and descriptive term for the study of unidentified aerial phenomena (UAP). The authors propose the term \"Unidentified Anomalous Phenomena\" (UAP) and discuss the history and current state of research on these phenomena. They highlight the lack of scientific attention and the potential for new technologies and approaches to advance our understanding of UAP. The article also outlines the instrumentation and techniques being used in the Galileo Project, a new initiative aimed at conducting a comprehensive aerial census and categorization of UAP. The importance of using a variety of instruments and techniques to accurately capture and analyze UAP data is emphasized, as well as the challenges and strategies for identifying and categorizing these anomalies. The potential implications of the extraterrestrial hypothesis in this field of research are also touched upon, along with the importance of considering all available data and using a rigorous approach in designing instrumentation for the study of UAP. The article also includes a list of authors and their affiliations, as well as information on the Open Access publication and distribution of the article. '}]\n",
      "summerization_append(): end\n",
      "JSON data has been saved to ./data_source/arxiv.org/physcis\\finalsummary_output\\2305.18566.pdf_summary.json\n",
      "Found JSON file: 2306.08773.pdf_formrecognized.json, Full Path: ./data_source/arxiv.org/physcis/formrecognized_output\\2306.08773.pdf_formrecognized.json\n",
      "summerization_append(): start\n",
      "summerization_append(): json_filename:  2306.08773.pdf_formrecognized.json\n",
      "summerization_append(): final_summary:  [{'File name': '2306.08773.pdf', 'Summary': 'The article discusses the \"Gimbal\" UAP encounter, which was recorded by a U.S. Navy F/A-18F Super Hornet\\'s AN/ASQ-228 ATFLIR targeting pod in January 2015 off the coast of Jacksonville, Florida. The article presents a reconstruction of the encounter using a simulator developed by UAP investigator Mick West. The article also discusses an alternative hypothesis proposed by West, which suggests that the object\\'s anomalous rotation is caused by the ATFLIR pod rotation and that the IR signature observed is an infrared \"glare\" from engine exhaust. The article includes figures and data to support the discussion, such as ground and air speed measurements and a potential flight path of the object. The article also discusses the lines of sight (LOS) and how they were estimated using the azimuth (Az) and elevation (El) angles indicated on the ATFLIR display. The article concludes by stating that the purpose of the discussion is to provide an overview of the investigations and encourage further investigation and interpretation from experts in aviation and military systems.'}]\n",
      "summerization_append(): end\n",
      "JSON data has been saved to ./data_source/arxiv.org/physcis\\finalsummary_output\\2306.08773.pdf_summary.json\n",
      "Finished processing JSON files.\n",
      "Summarization batch process is done! <<<\n"
     ]
    }
   ],
   "source": [
    "import os\n",
    "import json\n",
    "\n",
    "print(\"Summarization batch process >>>\")\n",
    "# Ask the user to provide the folder path for JSON files\n",
    "json_folder_path = input('Enter the path to the folder containing JSON files: ')\n",
    "\n",
    "# Check if the provided path exists\n",
    "if not os.path.exists(json_folder_path):\n",
    "    print(f'The folder path \"{json_folder_path}\" does not exist.')\n",
    "else:\n",
    "    # Get the parent directory of the JSON folder\n",
    "    parent_folder = os.path.dirname(json_folder_path)\n",
    "\n",
    "    # Create a new folder path one level above the parent folder\n",
    "    finalsummary_folder_path = os.path.join(parent_folder, 'finalsummary_output')\n",
    "\n",
    "    # Check if the Summary folder path exists\n",
    "    if not os.path.exists(finalsummary_folder_path):\n",
    "        # If it doesn't exist, create the new folder\n",
    "        os.makedirs(finalsummary_folder_path)\n",
    "        print(f'Summary folder \"{finalsummary_folder_path}\" created.')\n",
    "    else:\n",
    "        # If it exists, print a message\n",
    "        print(f'Summary folder \"{finalsummary_folder_path}\" already exists.')\n",
    "\n",
    "    # Loop through the files in the folder\n",
    "    for filename in os.listdir(json_folder_path):\n",
    "        # Check if the file is a JSON file\n",
    "        if filename.lower().endswith('.json'):\n",
    "            # If it's a JSON file, print the file name and read its content\n",
    "            full_path = os.path.join(json_folder_path, filename)\n",
    "            print(f'Found JSON file: {filename}, Full Path: {full_path}')\n",
    "\n",
    "            # Read JSON content\n",
    "            with open(full_path, 'r') as json_file:\n",
    "                json_content = json.load(json_file)\n",
    "                # print('JSON Content:')\n",
    "                # print(json.dumps(json_content, indent=2))  # Assuming you want to pretty-print the JSON\n",
    "\n",
    "                # 1. Summarize the whole document\n",
    "                summary_result = summerization_append(filename, json_content)\n",
    "\n",
    "                # 2. Save the JSON data to a file\n",
    "                # Find the position of '_formrecognized'\n",
    "                formrecognized_index = filename.find('_formrecognized')\n",
    "                # Extract the substring before '_formrecognized'\n",
    "                summary_filename = filename[:formrecognized_index] + '_summary.json'\n",
    "                summary_file_full_path = os.path.join(finalsummary_folder_path, summary_filename)\n",
    "                with open(summary_file_full_path, 'w') as summary_json_file:\n",
    "                    json.dump(summary_result, summary_json_file, indent=4)\n",
    "                print(f\"JSON data has been saved to {summary_file_full_path}\")\n",
    "                \n",
    "        # Break out of the loop after processing the first PDF file - testing only\n",
    "        # break\n",
    "    print('Finished processing JSON files.')\n",
    "print(\"Summarization batch process is done! <<<\")"
   ]
  }
 ],
 "metadata": {
  "kernelspec": {
   "display_name": "Python 3",
   "language": "python",
   "name": "python3"
  },
  "language_info": {
   "codemirror_mode": {
    "name": "ipython",
    "version": 3
   },
   "file_extension": ".py",
   "mimetype": "text/x-python",
   "name": "python",
   "nbconvert_exporter": "python",
   "pygments_lexer": "ipython3",
   "version": "3.11.6"
  }
 },
 "nbformat": 4,
 "nbformat_minor": 2
}
