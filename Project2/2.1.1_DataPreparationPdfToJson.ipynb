{
 "cells": [
  {
   "cell_type": "markdown",
   "metadata": {},
   "source": [
    "## Task: Data Preparation\n",
    "\n",
    "* Data source: Arxiv papers for math/AI/physics (5 papers each)\n",
    "\n",
    "* File path: '../data_source/arxiv.org/...'\n",
    "\n",
    "* Form Recognizer - analyze PDF file, page contents are returned.\n",
    "\n",
    "* Save the page contents into JSON file for later processing."
   ]
  },
  {
   "cell_type": "code",
   "execution_count": 10,
   "metadata": {},
   "outputs": [
    {
     "data": {
      "text/plain": [
       "True"
      ]
     },
     "execution_count": 10,
     "metadata": {},
     "output_type": "execute_result"
    }
   ],
   "source": [
    "import os\n",
    "from dotenv import load_dotenv\n",
    "load_dotenv()"
   ]
  },
  {
   "cell_type": "markdown",
   "metadata": {},
   "source": [
    "#### Read PDF file using form recognizer"
   ]
  },
  {
   "cell_type": "code",
   "execution_count": 11,
   "metadata": {},
   "outputs": [],
   "source": [
    "from azure.core.credentials import AzureKeyCredential\n",
    "from azure.ai.formrecognizer import DocumentAnalysisClient\n",
    "\n",
    "document_analysis_client = DocumentAnalysisClient(\n",
    "    endpoint=os.environ[\"AZURE_FORM_RECOGNIZER_ENDPOINT\"], \n",
    "    credential=AzureKeyCredential(os.environ[\"AZURE_FORM_RECOGNIZER_KEY\"]))\n",
    "\n",
    "def formrecognizer_document_analysis_client(file_name):\n",
    "    print(\"formrecognizer_document_analysis_client(): start: file name: \", file_name)\n",
    "    with open(file_name, \"rb\") as f:\n",
    "        poller = document_analysis_client.begin_analyze_document(\n",
    "            \"prebuilt-read\", document=f\n",
    "        )\n",
    "    result = poller.result()\n",
    "    print(\"formrecognizer_document_analysis_client(): end\")\n",
    "    return result.pages"
   ]
  },
  {
   "cell_type": "markdown",
   "metadata": {},
   "source": [
    "#### Put page contents into json structure and write to a JSON file so that we can it later."
   ]
  },
  {
   "cell_type": "code",
   "execution_count": 12,
   "metadata": {},
   "outputs": [],
   "source": [
    "import json\n",
    "\n",
    "def write_page_content_to_json_file(orig_file, formrecognize_result, output_json_file_folder):\n",
    "    print(\"write_page_content_to_json_file(): start\")\n",
    "    print(\"write_page_content_to_json_file(): orig_file file name: \", orig_file)\n",
    "    print(\"write_page_content_to_json_file(): output_json_file_folder: \", output_json_file_folder)\n",
    "\n",
    "    if formrecognize_result:\n",
    "        page_content = []\n",
    "        for page in formrecognize_result:\n",
    "            all_lines_content = []\n",
    "            for line_idx, line in enumerate(page.lines):\n",
    "                all_lines_content.append(' '.join([word.content for word in line.get_words()]))\n",
    "            page_content.append({'filename': orig_file,\n",
    "                'page_number':page.page_number, \n",
    "                'page_content':' '.join(all_lines_content)})\n",
    "        \n",
    "        # Save JSON data into a file so that we donot need to call form recongnizer again\n",
    "        # Specify the output file path\n",
    "        output_json_filename = orig_file + '_formrecognized.json'\n",
    "    \n",
    "        # Write content to an output file in the subfolder\n",
    "        output_filename = os.path.join(output_json_file_folder, output_json_filename)\n",
    "\n",
    "        # Save the JSON data to a file\n",
    "        with open(output_filename, 'w') as json_file:\n",
    "            json.dump(page_content, json_file, indent=4)\n",
    "        print(f\"write_page_content_to_json_file(): JSON data has been saved to {output_filename}\")\n",
    "        print(\"write_page_content_to_json_file(): end\")\n",
    "    else:\n",
    "        # TODO: more error handling ...\n",
    "        print(\"write_page_content_to_json_file(): error: form recognizer retruns error\")"
   ]
  },
  {
   "cell_type": "markdown",
   "metadata": {},
   "source": [
    "#### Enter the path to the PDF file folder.\n",
    "For example:\n",
    "* './data_source/arxiv.org/AI'\n",
    "* './data_source/arxiv.org/math'\n",
    "* './data_source/arxiv.org/physcis'"
   ]
  },
  {
   "cell_type": "code",
   "execution_count": 16,
   "metadata": {},
   "outputs": [
    {
     "name": "stdout",
     "output_type": "stream",
     "text": [
      "Data preparation >>>\n"
     ]
    },
    {
     "name": "stdout",
     "output_type": "stream",
     "text": [
      "Subfolder \"output_json_file\" already exists under ./data_source/arxiv.org/physcis\n",
      "Subfolder \"output_json_file\" folder path ./data_source/arxiv.org/physcis\\formrecongnized_output\n",
      "Found PDF file: ./data_source/arxiv.org/physcis\\2111.07895.pdf\n",
      "formrecognizer_document_analysis_client(): start: file name:  ./data_source/arxiv.org/physcis\\2111.07895.pdf\n",
      "formrecognizer_document_analysis_client(): end\n",
      "write_page_content_to_json_file(): start\n",
      "write_page_content_to_json_file(): orig_file file name:  2111.07895.pdf\n",
      "write_page_content_to_json_file(): output_json_file_folder:  ./data_source/arxiv.org/physcis\\formrecongnized_output\n",
      "write_page_content_to_json_file(): JSON data has been saved to ./data_source/arxiv.org/physcis\\formrecongnized_output\\2111.07895.pdf_formrecognized.json\n",
      "write_page_content_to_json_file(): end\n",
      "Found PDF file: ./data_source/arxiv.org/physcis\\2207.00634.pdf\n",
      "formrecognizer_document_analysis_client(): start: file name:  ./data_source/arxiv.org/physcis\\2207.00634.pdf\n",
      "formrecognizer_document_analysis_client(): end\n",
      "write_page_content_to_json_file(): start\n",
      "write_page_content_to_json_file(): orig_file file name:  2207.00634.pdf\n",
      "write_page_content_to_json_file(): output_json_file_folder:  ./data_source/arxiv.org/physcis\\formrecongnized_output\n",
      "write_page_content_to_json_file(): JSON data has been saved to ./data_source/arxiv.org/physcis\\formrecongnized_output\\2207.00634.pdf_formrecognized.json\n",
      "write_page_content_to_json_file(): end\n",
      "Found PDF file: ./data_source/arxiv.org/physcis\\2211.17085.pdf\n",
      "formrecognizer_document_analysis_client(): start: file name:  ./data_source/arxiv.org/physcis\\2211.17085.pdf\n",
      "formrecognizer_document_analysis_client(): end\n",
      "write_page_content_to_json_file(): start\n",
      "write_page_content_to_json_file(): orig_file file name:  2211.17085.pdf\n",
      "write_page_content_to_json_file(): output_json_file_folder:  ./data_source/arxiv.org/physcis\\formrecongnized_output\n",
      "write_page_content_to_json_file(): JSON data has been saved to ./data_source/arxiv.org/physcis\\formrecongnized_output\\2211.17085.pdf_formrecognized.json\n",
      "write_page_content_to_json_file(): end\n",
      "Found PDF file: ./data_source/arxiv.org/physcis\\2303.17103.pdf\n",
      "formrecognizer_document_analysis_client(): start: file name:  ./data_source/arxiv.org/physcis\\2303.17103.pdf\n",
      "formrecognizer_document_analysis_client(): end\n",
      "write_page_content_to_json_file(): start\n",
      "write_page_content_to_json_file(): orig_file file name:  2303.17103.pdf\n",
      "write_page_content_to_json_file(): output_json_file_folder:  ./data_source/arxiv.org/physcis\\formrecongnized_output\n",
      "write_page_content_to_json_file(): JSON data has been saved to ./data_source/arxiv.org/physcis\\formrecongnized_output\\2303.17103.pdf_formrecognized.json\n",
      "write_page_content_to_json_file(): end\n",
      "Found PDF file: ./data_source/arxiv.org/physcis\\2305.18566.pdf\n",
      "formrecognizer_document_analysis_client(): start: file name:  ./data_source/arxiv.org/physcis\\2305.18566.pdf\n",
      "formrecognizer_document_analysis_client(): end\n",
      "write_page_content_to_json_file(): start\n",
      "write_page_content_to_json_file(): orig_file file name:  2305.18566.pdf\n",
      "write_page_content_to_json_file(): output_json_file_folder:  ./data_source/arxiv.org/physcis\\formrecongnized_output\n",
      "write_page_content_to_json_file(): JSON data has been saved to ./data_source/arxiv.org/physcis\\formrecongnized_output\\2305.18566.pdf_formrecognized.json\n",
      "write_page_content_to_json_file(): end\n",
      "Found PDF file: ./data_source/arxiv.org/physcis\\2306.08773.pdf\n",
      "formrecognizer_document_analysis_client(): start: file name:  ./data_source/arxiv.org/physcis\\2306.08773.pdf\n",
      "formrecognizer_document_analysis_client(): end\n",
      "write_page_content_to_json_file(): start\n",
      "write_page_content_to_json_file(): orig_file file name:  2306.08773.pdf\n",
      "write_page_content_to_json_file(): output_json_file_folder:  ./data_source/arxiv.org/physcis\\formrecongnized_output\n",
      "write_page_content_to_json_file(): JSON data has been saved to ./data_source/arxiv.org/physcis\\formrecongnized_output\\2306.08773.pdf_formrecognized.json\n",
      "write_page_content_to_json_file(): end\n",
      "Data preparation is done! <<<\n"
     ]
    }
   ],
   "source": [
    "import os\n",
    "\n",
    "print(\"Data preparation >>>\")\n",
    "# Ask the user to provide the folder path\n",
    "folder_path = input('Enter the path to the folder: ')\n",
    "\n",
    "# Check if the provided path exists\n",
    "if not os.path.exists(folder_path):\n",
    "    print(f'The folder path \"{folder_path}\" does not exist.')\n",
    "else:\n",
    "    # Create a subfolder called 'output_json_file' if it doesn't exist\n",
    "    output_folder_path = os.path.join(folder_path, 'formrecognized_output')\n",
    "    \n",
    "    if not os.path.exists(output_folder_path):\n",
    "        os.makedirs(output_folder_path)\n",
    "        print(f'Subfolder \"output_json_file\" created under {folder_path}')\n",
    "    else:\n",
    "        print(f'Subfolder \"output_json_file\" already exists under {folder_path}')\n",
    "    print(f'Subfolder \"output_json_file\" folder path {output_folder_path}')\n",
    "\n",
    "    # Loop through the files in the folder\n",
    "    for filename in os.listdir(folder_path):\n",
    "        # Check if the file is a PDF\n",
    "        if filename.lower().endswith('.pdf'):\n",
    "            # If it's a PDF, print the file name or perform any other desired action\n",
    "            # print(f'Found PDF file: {filename}')\n",
    "            orig_file_with_full_path = os.path.join(folder_path, filename)\n",
    "            print(f'Found PDF file: {orig_file_with_full_path}')\n",
    "\n",
    "            # 1. Call formrecognizer to process pdf document\n",
    "            formrecognize_result = formrecognizer_document_analysis_client(orig_file_with_full_path)\n",
    "            # print(formrecognize_result)\n",
    "            \n",
    "            # 2. Write page content into a json file for later use, like embedding, summary, ...\n",
    "            write_page_content_to_json_file(filename, formrecognize_result, output_folder_path)\n",
    "            \n",
    "            # Break out of the loop after processing the first PDF file - testing only\n",
    "            # break\n",
    "print(\"Data preparation is done! <<<\")"
   ]
  }
 ],
 "metadata": {
  "kernelspec": {
   "display_name": "Python 3",
   "language": "python",
   "name": "python3"
  },
  "language_info": {
   "codemirror_mode": {
    "name": "ipython",
    "version": 3
   },
   "file_extension": ".py",
   "mimetype": "text/x-python",
   "name": "python",
   "nbconvert_exporter": "python",
   "pygments_lexer": "ipython3",
   "version": "3.11.6"
  }
 },
 "nbformat": 4,
 "nbformat_minor": 2
}
