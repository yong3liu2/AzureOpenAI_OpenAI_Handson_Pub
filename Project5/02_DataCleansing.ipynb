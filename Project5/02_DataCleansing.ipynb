{
 "cells": [
  {
   "cell_type": "markdown",
   "metadata": {},
   "source": [
    "Tools and Agent\n",
    "\n",
    "# Build Tools and Agent\n",
    "\n",
    "* LangChain: https://python.langchain.com/docs/modules/agents/\n"
   ]
  },
  {
   "cell_type": "markdown",
   "metadata": {},
   "source": [
    "## Configure OpenAI Settings"
   ]
  },
  {
   "cell_type": "code",
   "execution_count": 6,
   "metadata": {},
   "outputs": [],
   "source": [
    "import os\n",
    "import openai\n",
    "from dotenv import load_dotenv\n",
    "# Set up Azure OpenAI\n",
    "load_dotenv()\n",
    "\n",
    "openai.api_type = \"azure\"\n",
    "\n",
    "AZURE_OPENAI_API_VERSION = os.getenv(\"AAG_AZURE_OPENAI_API_VERSION\")\n",
    "openai.api_version = AZURE_OPENAI_API_VERSION\n",
    "\n",
    "AZURE_OPENAI_API_KEY = os.getenv(\"AAG_AZURE_OPENAI_API_KEY\").strip()\n",
    "assert AZURE_OPENAI_API_KEY, \"ERROR: Azure OpenAI Key is missing\"\n",
    "openai.api_key = AZURE_OPENAI_API_KEY\n",
    "\n",
    "AZURE_OPENAI_ENDPOINT = os.getenv(\"AAG_AZURE_OPENAI_ENDPOINT\", \"\").strip()\n",
    "assert AZURE_OPENAI_ENDPOINT, \"ERROR: Azure OpenAI Endpoint is missing\"\n",
    "openai.api_base = AZURE_OPENAI_ENDPOINT\n",
    "\n",
    "# Deployment for Chat\n",
    "# DEPLOYMENT_NAME_CHAT = os.getenv('DEPLOYMENT_NAME_CHAT')\n",
    "DEPLOYMENT_NAME_CHAT = os.getenv('AAG_DEPLOYMENT_NAME_CHAT_16K')\n",
    "\n",
    "# Deployment for embedding\n",
    "DEPLOYMENT_NAME_EMBEDDING = os.getenv(\"AAG_DEPLOYMENT_NAME_EMBEDDING\")\n",
    "model: str = DEPLOYMENT_NAME_EMBEDDING\n",
    "\n",
    "# Azure AI Search (Cognitive vector store)\n",
    "vector_store_address: str = os.getenv(\"AAG_AZURE_SEARCH_SERVICE_ENDPOINT\")\n",
    "vector_store_password: str = os.getenv(\"AAG_AZURE_SEARCH_ADMIN_KEY\")\n",
    "# index_name: str = \"langchain-vector-arxiv-physics\"\n",
    "\n",
    "# Deployment for embedding\n",
    "BING_SUBSCRIPTION_KEY = os.getenv(\"BING_SUBSCRIPTION_KEY\")"
   ]
  },
  {
   "cell_type": "markdown",
   "metadata": {},
   "source": [
    "## Langchain Set up"
   ]
  },
  {
   "cell_type": "code",
   "execution_count": 7,
   "metadata": {},
   "outputs": [],
   "source": [
    "from langchain.chat_models import AzureChatOpenAI\n",
    "# Azure OpenAI model\n",
    "llm = AzureChatOpenAI(\n",
    "    azure_deployment=\"gpt-35-turbo-16k\",\n",
    "    temperature=0,\n",
    "    azure_endpoint=AZURE_OPENAI_ENDPOINT,\n",
    "    openai_api_type=\"azure\",\n",
    "    api_key=AZURE_OPENAI_API_KEY,\n",
    ")"
   ]
  },
  {
   "cell_type": "markdown",
   "metadata": {},
   "source": [
    "## Prepare Tools for Agent"
   ]
  },
  {
   "cell_type": "markdown",
   "metadata": {},
   "source": [
    "### Tool: Faiss db retriever"
   ]
  },
  {
   "cell_type": "code",
   "execution_count": 8,
   "metadata": {},
   "outputs": [],
   "source": [
    "from langchain.embeddings.openai import OpenAIEmbeddings\n",
    "from langchain.vectorstores import FAISS\n",
    "\n",
    "# Get Azure OpenAI embedding\n",
    "embeddings: OpenAIEmbeddings = OpenAIEmbeddings(\n",
    "    deployment=model,\n",
    "    model=model,\n",
    "    chunk_size=1,\n",
    "    openai_api_base=AZURE_OPENAI_ENDPOINT,\n",
    "    openai_api_type=\"azure\",\n",
    "    api_key=AZURE_OPENAI_API_KEY,\n",
    ")"
   ]
  },
  {
   "cell_type": "code",
   "execution_count": 9,
   "metadata": {},
   "outputs": [],
   "source": [
    "# Merge all FAISS db\n",
    "faiss_db = FAISS.load_local(\"faiss_index_travel\", embeddings)\n",
    "\n",
    "# Set up the retriever we want to use, and then turn it into a retriever tool\n",
    "faiss_travel_retriever = faiss_db.as_retriever()"
   ]
  },
  {
   "cell_type": "code",
   "execution_count": 10,
   "metadata": {},
   "outputs": [
    {
     "data": {
      "text/plain": [
       "{'1ef2b53d-f0a5-41dc-b42c-fdd23e566c54': Document(page_content='12/1/23, 2:22 PM Car rental in Salt Lake City | Expedia\\nhttps://www.expedia.com/trips/72674734923624/details/Nzg1NzU5NjUtYzIyZi01NDU1LWJmNGYtYzA5ZWMxMjc3Mjc5O2M0NDMwODUyLWVmZjkt… 1/2Car rental in Salt Lake City\\nDec 6, 2023 - Dec 12, 2023\\nSign in to see all booking details and manage your trip.\\nSign in\\nFox\\nConfirmation: #WF********\\nExpedia itinerary: 7267**********\\nReservation details\\nPick-up\\nWed, Dec 6\\n2:30pmDrop-off\\nTue, Dec 12\\n2:15pm\\nPick-up and drop-off instructions\\nLocation\\nManage booking\\nChange, cancel, and support\\nPricing and rewards\\nMenu\\nHelpGet the app EnglishList your propertySupportTrips More travel', metadata={'source': 'data_source\\\\Car rental in Salt Lake City _ Expedia.pdf', 'page': 0}),\n",
       " 'cefa2327-9df4-40b8-bbda-b551d93e7ce8': Document(page_content=\"12/1/23, 2:07 PM JetBlue - Trip review\\nhttps://managetrips.jetblue.com/dx/B6DX/#/myb?carReservation=false&hotelReservation=false&locale=en-US 1/4Manage your trip\\nThere has been a change to your flight. If this new flight does not work for you then use the\\n'Change' link below.\\nConﬁrmation code\\nIHHZZC Ticketed\\n\\uf152 \\uf12c \\uf11e\\nNew York-JFK\\uf10d Salt Lake City CONFIRMED\\nDec 6, 2023\\n11:00 am\\nNew York-JFK\\uf10dDec 6, 2023\\n02:15 pm\\nSalt Lake City5 hrs 15 mins\\nNonstop\\nBlue Basic\\nB6871 A320Operated by JetBlue\\nDetails \\uf116\\nSalt Lake City\\uf10d New York-JFK CONFIRMED\\nDec 12, 2023\\n03:11 pm\\nSalt Lake City\\uf10dDec 12, 2023\\n09:38 pm\\nNew York-JFK4 hrs 27 mins\\nNonstop\\nBlue Basic\\nB6872 A320Operated by JetBlueYour flights\\uf10f\", metadata={'source': 'data_source\\\\JetBlue - Trip review.pdf', 'page': 0}),\n",
       " '19165f6c-2d3d-4048-8fdd-25c8fd96e82a': Document(page_content='12/1/23, 2:03 PM Queens Discount Parking JFK Airport Parking | Way\\nhttps://www.way.com/parkingdetails/5069801/Queens-Discount-Parking-JFK-Airport-Parking?cid=5069802 1/5\\nQueens Discount Parking JFK Airport Parking\\n14707 Guy R Brewer Boulevard, New York, United States ★ ★ ★ ★ ★4 (539 Ratings)\\nFavorites\\n Been Here 658\\n Share\\nJFK > JFK Parking Lots > Queens Discount Parking JFK Airport ParkingBooking Overview Reviews Nearby\\nBOOKING\\nSelect a parking type\\nWhy Book With Us?\\nBesides the lowest price guarantee, we offer a unique set of benefits that only Way can!\\nAccess To Roadside Assistance.\\nGet Discounts On Gas, Car Wash, Parking And More When You Check Out.\\xa0\\nView more benefits\\xa0 Outdoor Valet (Daily) From  $7.50\\nCheck-In\\nWed, Dec 06, 09:00 AMCheck-Out\\nTue, Dec 12, 11:30 PM\\nAdd to Bag\\nOVERVIEW\\nOperating Hours\\nSunday: 24 hours\\nMonday: 24 hours\\nTuesday: 24 hours\\nWednesday: 24 hours\\nThursday: 24 hours\\nFriday: 24 hours\\nSaturday: 24 hoursLocation Type\\nCommercial Parking Lot or Garage\\nAbout SpaceJFK Airport JFK1\\nMY BAG PROCEED TO CHECKOUT\\n1 \\ue90c', metadata={'source': 'data_source\\\\Queens Discount Parking JFK Airport Parking _ Way.pdf', 'page': 0}),\n",
       " '1c77a792-9943-45e1-9f39-e68d5c76dbd3': Document(page_content='12/1/23, 2:10 PM Reservation Confirmation #84544955 for Fairfield Inn & Suites Salt Lake City South\\nhttps://res-marriott.com/H/2/v710000018b156c7fb390364a434b5c38d0/1d17a3a7-0c2e-447c-880c-9f47008d290d/HTML 1/9\\nENHANCE YOUR ST AY|SUMMAR Y OF CHARGES |CONT ACT US\\nFairfield Inn & Suites Salt Lake City South\\n594 W est 4500 South Salt Lake City Utah\\n84123 USA\\n+1-801-265-9600\\nThank you for booking with us, Mr . Jian Gao.\\nYou’re ready to go.\\nWed, Dec 06, 2023 – Tue, Dec 12, 2023\\nConfirmation Number: 84544955\\nCheck-In: Wednesday , December 6, 2023 03:00 PM\\nCheck-Out: Tuesday , December 12, 2023 11:00 AM\\nNumber of rooms 1 Room\\nGuests per room 2 Adults\\nGuarantee Method Credit Card Guarantee, V isa\\nTotal for Stay (all rooms) 811.53 USD\\nRoom 1', metadata={'source': 'data_source\\\\Reservation Confirmation #84544955 for Fairfield Inn & Suites Salt Lake City South.pdf', 'page': 0})}"
      ]
     },
     "execution_count": 10,
     "metadata": {},
     "output_type": "execute_result"
    }
   ],
   "source": [
    "# List FAISS index\n",
    "faiss_db.docstore._dict"
   ]
  },
  {
   "cell_type": "code",
   "execution_count": 11,
   "metadata": {},
   "outputs": [],
   "source": [
    "from langchain.agents.agent_toolkits import create_retriever_tool\n",
    "from langchain.agents import initialize_agent\n",
    "\n",
    "# Tool define\n",
    "faiss_retriever_travel = create_retriever_tool(\n",
    "    faiss_travel_retriever,\n",
    "    \"Travel information retrieval\",\n",
    "    \"This tool is help searching for information in personal travel itineraries, like flight, hotel, Inn, car rental, airport parking\",\n",
    ")"
   ]
  },
  {
   "cell_type": "code",
   "execution_count": 12,
   "metadata": {},
   "outputs": [],
   "source": [
    "# Next, let's load some tools to use. Note that the `llm-math` tool uses an LLM, so we need to pass that in.\n",
    "faiss_retriever_tools = [\n",
    "    faiss_retriever_travel,\n",
    "    ]\n",
    "\n",
    "# tools = load_tools([\"bing-search\"], llm=llm)\n",
    "travel_agent = initialize_agent(\n",
    "    faiss_retriever_tools,\n",
    "    llm,\n",
    "    agent=\"zero-shot-react-description\",\n",
    "    verbose=True,\n",
    "    handle_parsing_errors=True,\n",
    "    max_iterations=8,\n",
    ")"
   ]
  },
  {
   "cell_type": "code",
   "execution_count": 13,
   "metadata": {},
   "outputs": [
    {
     "name": "stdout",
     "output_type": "stream",
     "text": [
      "\n",
      "\n",
      "\u001b[1m> Entering new AgentExecutor chain...\u001b[0m\n"
     ]
    },
    {
     "name": "stdout",
     "output_type": "stream",
     "text": [
      "\u001b[32;1m\u001b[1;3mI need to retrieve parking information and convert it to JSON format.\n",
      "Action: Travel information retrieval\n",
      "Action Input: Parking information\u001b[0m\n",
      "Observation: \u001b[36;1m\u001b[1;3m[Document(page_content='12/1/23, 2:03 PM Queens Discount Parking JFK Airport Parking | Way\\nhttps://www.way.com/parkingdetails/5069801/Queens-Discount-Parking-JFK-Airport-Parking?cid=5069802 1/5\\nQueens Discount Parking JFK Airport Parking\\n14707 Guy R Brewer Boulevard, New York, United States ★ ★ ★ ★ ★4 (539 Ratings)\\nFavorites\\n Been Here 658\\n Share\\nJFK > JFK Parking Lots > Queens Discount Parking JFK Airport ParkingBooking Overview Reviews Nearby\\nBOOKING\\nSelect a parking type\\nWhy Book With Us?\\nBesides the lowest price guarantee, we offer a unique set of benefits that only Way can!\\nAccess To Roadside Assistance.\\nGet Discounts On Gas, Car Wash, Parking And More When You Check Out.\\xa0\\nView more benefits\\xa0 Outdoor Valet (Daily) From  $7.50\\nCheck-In\\nWed, Dec 06, 09:00 AMCheck-Out\\nTue, Dec 12, 11:30 PM\\nAdd to Bag\\nOVERVIEW\\nOperating Hours\\nSunday: 24 hours\\nMonday: 24 hours\\nTuesday: 24 hours\\nWednesday: 24 hours\\nThursday: 24 hours\\nFriday: 24 hours\\nSaturday: 24 hoursLocation Type\\nCommercial Parking Lot or Garage\\nAbout SpaceJFK Airport JFK1\\nMY BAG PROCEED TO CHECKOUT\\n1 \\ue90c', metadata={'source': 'data_source\\\\Queens Discount Parking JFK Airport Parking _ Way.pdf', 'page': 0}), Document(page_content='12/1/23, 2:22 PM Car rental in Salt Lake City | Expedia\\nhttps://www.expedia.com/trips/72674734923624/details/Nzg1NzU5NjUtYzIyZi01NDU1LWJmNGYtYzA5ZWMxMjc3Mjc5O2M0NDMwODUyLWVmZjkt… 1/2Car rental in Salt Lake City\\nDec 6, 2023 - Dec 12, 2023\\nSign in to see all booking details and manage your trip.\\nSign in\\nFox\\nConfirmation: #WF********\\nExpedia itinerary: 7267**********\\nReservation details\\nPick-up\\nWed, Dec 6\\n2:30pmDrop-off\\nTue, Dec 12\\n2:15pm\\nPick-up and drop-off instructions\\nLocation\\nManage booking\\nChange, cancel, and support\\nPricing and rewards\\nMenu\\nHelpGet the app EnglishList your propertySupportTrips More travel', metadata={'source': 'data_source\\\\Car rental in Salt Lake City _ Expedia.pdf', 'page': 0}), Document(page_content='12/1/23, 2:10 PM Reservation Confirmation #84544955 for Fairfield Inn & Suites Salt Lake City South\\nhttps://res-marriott.com/H/2/v710000018b156c7fb390364a434b5c38d0/1d17a3a7-0c2e-447c-880c-9f47008d290d/HTML 1/9\\nENHANCE YOUR ST AY|SUMMAR Y OF CHARGES |CONT ACT US\\nFairfield Inn & Suites Salt Lake City South\\n594 W est 4500 South Salt Lake City Utah\\n84123 USA\\n+1-801-265-9600\\nThank you for booking with us, Mr . Jian Gao.\\nYou’re ready to go.\\nWed, Dec 06, 2023 – Tue, Dec 12, 2023\\nConfirmation Number: 84544955\\nCheck-In: Wednesday , December 6, 2023 03:00 PM\\nCheck-Out: Tuesday , December 12, 2023 11:00 AM\\nNumber of rooms 1 Room\\nGuests per room 2 Adults\\nGuarantee Method Credit Card Guarantee, V isa\\nTotal for Stay (all rooms) 811.53 USD\\nRoom 1', metadata={'source': 'data_source\\\\Reservation Confirmation #84544955 for Fairfield Inn & Suites Salt Lake City South.pdf', 'page': 0}), Document(page_content=\"12/1/23, 2:07 PM JetBlue - Trip review\\nhttps://managetrips.jetblue.com/dx/B6DX/#/myb?carReservation=false&hotelReservation=false&locale=en-US 1/4Manage your trip\\nThere has been a change to your flight. If this new flight does not work for you then use the\\n'Change' link below.\\nConﬁrmation code\\nIHHZZC Ticketed\\n\\uf152 \\uf12c \\uf11e\\nNew York-JFK\\uf10d Salt Lake City CONFIRMED\\nDec 6, 2023\\n11:00 am\\nNew York-JFK\\uf10dDec 6, 2023\\n02:15 pm\\nSalt Lake City5 hrs 15 mins\\nNonstop\\nBlue Basic\\nB6871 A320Operated by JetBlue\\nDetails \\uf116\\nSalt Lake City\\uf10d New York-JFK CONFIRMED\\nDec 12, 2023\\n03:11 pm\\nSalt Lake City\\uf10dDec 12, 2023\\n09:38 pm\\nNew York-JFK4 hrs 27 mins\\nNonstop\\nBlue Basic\\nB6872 A320Operated by JetBlueYour flights\\uf10f\", metadata={'source': 'data_source\\\\JetBlue - Trip review.pdf', 'page': 0})]\u001b[0m\n",
      "Thought:\u001b[32;1m\u001b[1;3mI have retrieved the parking information.\n",
      "Action: Convert the parking information to JSON format.\n",
      "Action Input: Parking information\u001b[0m\n",
      "Observation: Convert the parking information to JSON format. is not a valid tool, try one of [Travel information retrieval].\n",
      "Thought:\u001b[32;1m\u001b[1;3mI need to use the Travel information retrieval tool to convert the parking information to JSON format.\n",
      "Action: Travel information retrieval\n",
      "Action Input: Parking information\u001b[0m\n",
      "Observation: \u001b[36;1m\u001b[1;3m[Document(page_content='12/1/23, 2:03 PM Queens Discount Parking JFK Airport Parking | Way\\nhttps://www.way.com/parkingdetails/5069801/Queens-Discount-Parking-JFK-Airport-Parking?cid=5069802 1/5\\nQueens Discount Parking JFK Airport Parking\\n14707 Guy R Brewer Boulevard, New York, United States ★ ★ ★ ★ ★4 (539 Ratings)\\nFavorites\\n Been Here 658\\n Share\\nJFK > JFK Parking Lots > Queens Discount Parking JFK Airport ParkingBooking Overview Reviews Nearby\\nBOOKING\\nSelect a parking type\\nWhy Book With Us?\\nBesides the lowest price guarantee, we offer a unique set of benefits that only Way can!\\nAccess To Roadside Assistance.\\nGet Discounts On Gas, Car Wash, Parking And More When You Check Out.\\xa0\\nView more benefits\\xa0 Outdoor Valet (Daily) From  $7.50\\nCheck-In\\nWed, Dec 06, 09:00 AMCheck-Out\\nTue, Dec 12, 11:30 PM\\nAdd to Bag\\nOVERVIEW\\nOperating Hours\\nSunday: 24 hours\\nMonday: 24 hours\\nTuesday: 24 hours\\nWednesday: 24 hours\\nThursday: 24 hours\\nFriday: 24 hours\\nSaturday: 24 hoursLocation Type\\nCommercial Parking Lot or Garage\\nAbout SpaceJFK Airport JFK1\\nMY BAG PROCEED TO CHECKOUT\\n1 \\ue90c', metadata={'source': 'data_source\\\\Queens Discount Parking JFK Airport Parking _ Way.pdf', 'page': 0}), Document(page_content='12/1/23, 2:22 PM Car rental in Salt Lake City | Expedia\\nhttps://www.expedia.com/trips/72674734923624/details/Nzg1NzU5NjUtYzIyZi01NDU1LWJmNGYtYzA5ZWMxMjc3Mjc5O2M0NDMwODUyLWVmZjkt… 1/2Car rental in Salt Lake City\\nDec 6, 2023 - Dec 12, 2023\\nSign in to see all booking details and manage your trip.\\nSign in\\nFox\\nConfirmation: #WF********\\nExpedia itinerary: 7267**********\\nReservation details\\nPick-up\\nWed, Dec 6\\n2:30pmDrop-off\\nTue, Dec 12\\n2:15pm\\nPick-up and drop-off instructions\\nLocation\\nManage booking\\nChange, cancel, and support\\nPricing and rewards\\nMenu\\nHelpGet the app EnglishList your propertySupportTrips More travel', metadata={'source': 'data_source\\\\Car rental in Salt Lake City _ Expedia.pdf', 'page': 0}), Document(page_content='12/1/23, 2:10 PM Reservation Confirmation #84544955 for Fairfield Inn & Suites Salt Lake City South\\nhttps://res-marriott.com/H/2/v710000018b156c7fb390364a434b5c38d0/1d17a3a7-0c2e-447c-880c-9f47008d290d/HTML 1/9\\nENHANCE YOUR ST AY|SUMMAR Y OF CHARGES |CONT ACT US\\nFairfield Inn & Suites Salt Lake City South\\n594 W est 4500 South Salt Lake City Utah\\n84123 USA\\n+1-801-265-9600\\nThank you for booking with us, Mr . Jian Gao.\\nYou’re ready to go.\\nWed, Dec 06, 2023 – Tue, Dec 12, 2023\\nConfirmation Number: 84544955\\nCheck-In: Wednesday , December 6, 2023 03:00 PM\\nCheck-Out: Tuesday , December 12, 2023 11:00 AM\\nNumber of rooms 1 Room\\nGuests per room 2 Adults\\nGuarantee Method Credit Card Guarantee, V isa\\nTotal for Stay (all rooms) 811.53 USD\\nRoom 1', metadata={'source': 'data_source\\\\Reservation Confirmation #84544955 for Fairfield Inn & Suites Salt Lake City South.pdf', 'page': 0}), Document(page_content=\"12/1/23, 2:07 PM JetBlue - Trip review\\nhttps://managetrips.jetblue.com/dx/B6DX/#/myb?carReservation=false&hotelReservation=false&locale=en-US 1/4Manage your trip\\nThere has been a change to your flight. If this new flight does not work for you then use the\\n'Change' link below.\\nConﬁrmation code\\nIHHZZC Ticketed\\n\\uf152 \\uf12c \\uf11e\\nNew York-JFK\\uf10d Salt Lake City CONFIRMED\\nDec 6, 2023\\n11:00 am\\nNew York-JFK\\uf10dDec 6, 2023\\n02:15 pm\\nSalt Lake City5 hrs 15 mins\\nNonstop\\nBlue Basic\\nB6871 A320Operated by JetBlue\\nDetails \\uf116\\nSalt Lake City\\uf10d New York-JFK CONFIRMED\\nDec 12, 2023\\n03:11 pm\\nSalt Lake City\\uf10dDec 12, 2023\\n09:38 pm\\nNew York-JFK4 hrs 27 mins\\nNonstop\\nBlue Basic\\nB6872 A320Operated by JetBlueYour flights\\uf10f\", metadata={'source': 'data_source\\\\JetBlue - Trip review.pdf', 'page': 0})]\u001b[0m\n",
      "Thought:\u001b[32;1m\u001b[1;3mI have retrieved the parking information.\n",
      "Action: Convert the parking information to JSON format.\n",
      "Action Input: Parking information\u001b[0m\n",
      "Observation: Convert the parking information to JSON format. is not a valid tool, try one of [Travel information retrieval].\n",
      "Thought:\u001b[32;1m\u001b[1;3mI need to use the Travel information retrieval tool to convert the parking information to JSON format.\n",
      "Action: Travel information retrieval\n",
      "Action Input: Parking information\u001b[0m\n",
      "Observation: \u001b[36;1m\u001b[1;3m[Document(page_content='12/1/23, 2:03 PM Queens Discount Parking JFK Airport Parking | Way\\nhttps://www.way.com/parkingdetails/5069801/Queens-Discount-Parking-JFK-Airport-Parking?cid=5069802 1/5\\nQueens Discount Parking JFK Airport Parking\\n14707 Guy R Brewer Boulevard, New York, United States ★ ★ ★ ★ ★4 (539 Ratings)\\nFavorites\\n Been Here 658\\n Share\\nJFK > JFK Parking Lots > Queens Discount Parking JFK Airport ParkingBooking Overview Reviews Nearby\\nBOOKING\\nSelect a parking type\\nWhy Book With Us?\\nBesides the lowest price guarantee, we offer a unique set of benefits that only Way can!\\nAccess To Roadside Assistance.\\nGet Discounts On Gas, Car Wash, Parking And More When You Check Out.\\xa0\\nView more benefits\\xa0 Outdoor Valet (Daily) From  $7.50\\nCheck-In\\nWed, Dec 06, 09:00 AMCheck-Out\\nTue, Dec 12, 11:30 PM\\nAdd to Bag\\nOVERVIEW\\nOperating Hours\\nSunday: 24 hours\\nMonday: 24 hours\\nTuesday: 24 hours\\nWednesday: 24 hours\\nThursday: 24 hours\\nFriday: 24 hours\\nSaturday: 24 hoursLocation Type\\nCommercial Parking Lot or Garage\\nAbout SpaceJFK Airport JFK1\\nMY BAG PROCEED TO CHECKOUT\\n1 \\ue90c', metadata={'source': 'data_source\\\\Queens Discount Parking JFK Airport Parking _ Way.pdf', 'page': 0}), Document(page_content='12/1/23, 2:22 PM Car rental in Salt Lake City | Expedia\\nhttps://www.expedia.com/trips/72674734923624/details/Nzg1NzU5NjUtYzIyZi01NDU1LWJmNGYtYzA5ZWMxMjc3Mjc5O2M0NDMwODUyLWVmZjkt… 1/2Car rental in Salt Lake City\\nDec 6, 2023 - Dec 12, 2023\\nSign in to see all booking details and manage your trip.\\nSign in\\nFox\\nConfirmation: #WF********\\nExpedia itinerary: 7267**********\\nReservation details\\nPick-up\\nWed, Dec 6\\n2:30pmDrop-off\\nTue, Dec 12\\n2:15pm\\nPick-up and drop-off instructions\\nLocation\\nManage booking\\nChange, cancel, and support\\nPricing and rewards\\nMenu\\nHelpGet the app EnglishList your propertySupportTrips More travel', metadata={'source': 'data_source\\\\Car rental in Salt Lake City _ Expedia.pdf', 'page': 0}), Document(page_content='12/1/23, 2:10 PM Reservation Confirmation #84544955 for Fairfield Inn & Suites Salt Lake City South\\nhttps://res-marriott.com/H/2/v710000018b156c7fb390364a434b5c38d0/1d17a3a7-0c2e-447c-880c-9f47008d290d/HTML 1/9\\nENHANCE YOUR ST AY|SUMMAR Y OF CHARGES |CONT ACT US\\nFairfield Inn & Suites Salt Lake City South\\n594 W est 4500 South Salt Lake City Utah\\n84123 USA\\n+1-801-265-9600\\nThank you for booking with us, Mr . Jian Gao.\\nYou’re ready to go.\\nWed, Dec 06, 2023 – Tue, Dec 12, 2023\\nConfirmation Number: 84544955\\nCheck-In: Wednesday , December 6, 2023 03:00 PM\\nCheck-Out: Tuesday , December 12, 2023 11:00 AM\\nNumber of rooms 1 Room\\nGuests per room 2 Adults\\nGuarantee Method Credit Card Guarantee, V isa\\nTotal for Stay (all rooms) 811.53 USD\\nRoom 1', metadata={'source': 'data_source\\\\Reservation Confirmation #84544955 for Fairfield Inn & Suites Salt Lake City South.pdf', 'page': 0}), Document(page_content=\"12/1/23, 2:07 PM JetBlue - Trip review\\nhttps://managetrips.jetblue.com/dx/B6DX/#/myb?carReservation=false&hotelReservation=false&locale=en-US 1/4Manage your trip\\nThere has been a change to your flight. If this new flight does not work for you then use the\\n'Change' link below.\\nConﬁrmation code\\nIHHZZC Ticketed\\n\\uf152 \\uf12c \\uf11e\\nNew York-JFK\\uf10d Salt Lake City CONFIRMED\\nDec 6, 2023\\n11:00 am\\nNew York-JFK\\uf10dDec 6, 2023\\n02:15 pm\\nSalt Lake City5 hrs 15 mins\\nNonstop\\nBlue Basic\\nB6871 A320Operated by JetBlue\\nDetails \\uf116\\nSalt Lake City\\uf10d New York-JFK CONFIRMED\\nDec 12, 2023\\n03:11 pm\\nSalt Lake City\\uf10dDec 12, 2023\\n09:38 pm\\nNew York-JFK4 hrs 27 mins\\nNonstop\\nBlue Basic\\nB6872 A320Operated by JetBlueYour flights\\uf10f\", metadata={'source': 'data_source\\\\JetBlue - Trip review.pdf', 'page': 0})]\u001b[0m\n",
      "Thought:\u001b[32;1m\u001b[1;3mI have retrieved the parking information.\n",
      "Action: Convert the parking information to JSON format.\n",
      "Action Input: Parking information\u001b[0m\n",
      "Observation: Convert the parking information to JSON format. is not a valid tool, try one of [Travel information retrieval].\n",
      "Thought:\u001b[32;1m\u001b[1;3mI need to use the Travel information retrieval tool to convert the parking information to JSON format.\n",
      "Action: Travel information retrieval\n",
      "Action Input: Parking information\u001b[0m\n",
      "Observation: \u001b[36;1m\u001b[1;3m[Document(page_content='12/1/23, 2:03 PM Queens Discount Parking JFK Airport Parking | Way\\nhttps://www.way.com/parkingdetails/5069801/Queens-Discount-Parking-JFK-Airport-Parking?cid=5069802 1/5\\nQueens Discount Parking JFK Airport Parking\\n14707 Guy R Brewer Boulevard, New York, United States ★ ★ ★ ★ ★4 (539 Ratings)\\nFavorites\\n Been Here 658\\n Share\\nJFK > JFK Parking Lots > Queens Discount Parking JFK Airport ParkingBooking Overview Reviews Nearby\\nBOOKING\\nSelect a parking type\\nWhy Book With Us?\\nBesides the lowest price guarantee, we offer a unique set of benefits that only Way can!\\nAccess To Roadside Assistance.\\nGet Discounts On Gas, Car Wash, Parking And More When You Check Out.\\xa0\\nView more benefits\\xa0 Outdoor Valet (Daily) From  $7.50\\nCheck-In\\nWed, Dec 06, 09:00 AMCheck-Out\\nTue, Dec 12, 11:30 PM\\nAdd to Bag\\nOVERVIEW\\nOperating Hours\\nSunday: 24 hours\\nMonday: 24 hours\\nTuesday: 24 hours\\nWednesday: 24 hours\\nThursday: 24 hours\\nFriday: 24 hours\\nSaturday: 24 hoursLocation Type\\nCommercial Parking Lot or Garage\\nAbout SpaceJFK Airport JFK1\\nMY BAG PROCEED TO CHECKOUT\\n1 \\ue90c', metadata={'source': 'data_source\\\\Queens Discount Parking JFK Airport Parking _ Way.pdf', 'page': 0}), Document(page_content='12/1/23, 2:22 PM Car rental in Salt Lake City | Expedia\\nhttps://www.expedia.com/trips/72674734923624/details/Nzg1NzU5NjUtYzIyZi01NDU1LWJmNGYtYzA5ZWMxMjc3Mjc5O2M0NDMwODUyLWVmZjkt… 1/2Car rental in Salt Lake City\\nDec 6, 2023 - Dec 12, 2023\\nSign in to see all booking details and manage your trip.\\nSign in\\nFox\\nConfirmation: #WF********\\nExpedia itinerary: 7267**********\\nReservation details\\nPick-up\\nWed, Dec 6\\n2:30pmDrop-off\\nTue, Dec 12\\n2:15pm\\nPick-up and drop-off instructions\\nLocation\\nManage booking\\nChange, cancel, and support\\nPricing and rewards\\nMenu\\nHelpGet the app EnglishList your propertySupportTrips More travel', metadata={'source': 'data_source\\\\Car rental in Salt Lake City _ Expedia.pdf', 'page': 0}), Document(page_content='12/1/23, 2:10 PM Reservation Confirmation #84544955 for Fairfield Inn & Suites Salt Lake City South\\nhttps://res-marriott.com/H/2/v710000018b156c7fb390364a434b5c38d0/1d17a3a7-0c2e-447c-880c-9f47008d290d/HTML 1/9\\nENHANCE YOUR ST AY|SUMMAR Y OF CHARGES |CONT ACT US\\nFairfield Inn & Suites Salt Lake City South\\n594 W est 4500 South Salt Lake City Utah\\n84123 USA\\n+1-801-265-9600\\nThank you for booking with us, Mr . Jian Gao.\\nYou’re ready to go.\\nWed, Dec 06, 2023 – Tue, Dec 12, 2023\\nConfirmation Number: 84544955\\nCheck-In: Wednesday , December 6, 2023 03:00 PM\\nCheck-Out: Tuesday , December 12, 2023 11:00 AM\\nNumber of rooms 1 Room\\nGuests per room 2 Adults\\nGuarantee Method Credit Card Guarantee, V isa\\nTotal for Stay (all rooms) 811.53 USD\\nRoom 1', metadata={'source': 'data_source\\\\Reservation Confirmation #84544955 for Fairfield Inn & Suites Salt Lake City South.pdf', 'page': 0}), Document(page_content=\"12/1/23, 2:07 PM JetBlue - Trip review\\nhttps://managetrips.jetblue.com/dx/B6DX/#/myb?carReservation=false&hotelReservation=false&locale=en-US 1/4Manage your trip\\nThere has been a change to your flight. If this new flight does not work for you then use the\\n'Change' link below.\\nConﬁrmation code\\nIHHZZC Ticketed\\n\\uf152 \\uf12c \\uf11e\\nNew York-JFK\\uf10d Salt Lake City CONFIRMED\\nDec 6, 2023\\n11:00 am\\nNew York-JFK\\uf10dDec 6, 2023\\n02:15 pm\\nSalt Lake City5 hrs 15 mins\\nNonstop\\nBlue Basic\\nB6871 A320Operated by JetBlue\\nDetails \\uf116\\nSalt Lake City\\uf10d New York-JFK CONFIRMED\\nDec 12, 2023\\n03:11 pm\\nSalt Lake City\\uf10dDec 12, 2023\\n09:38 pm\\nNew York-JFK4 hrs 27 mins\\nNonstop\\nBlue Basic\\nB6872 A320Operated by JetBlueYour flights\\uf10f\", metadata={'source': 'data_source\\\\JetBlue - Trip review.pdf', 'page': 0})]\u001b[0m\n",
      "Thought:\u001b[32;1m\u001b[1;3mI have retrieved the parking information and converted it to JSON format.\n",
      "Final Answer: The parking information is as follows:\n",
      "{\n",
      "  \"address\": \"14707 Guy R Brewer Boulevard, New York, United States\",\n",
      "  \"rating\": \"4\",\n",
      "  \"reviews\": \"539\",\n",
      "  \"type\": \"Commercial Parking Lot or Garage\",\n",
      "  \"operating_hours\": {\n",
      "    \"Sunday\": \"24 hours\",\n",
      "    \"Monday\": \"24 hours\",\n",
      "    \"Tuesday\": \"24 hours\",\n",
      "    \"Wednesday\": \"24 hours\",\n",
      "    \"Thursday\": \"24 hours\",\n",
      "    \"Friday\": \"24 hours\",\n",
      "    \"Saturday\": \"24 hours\"\n",
      "  }\n",
      "}\u001b[0m\n",
      "\n",
      "\u001b[1m> Finished chain.\u001b[0m\n"
     ]
    }
   ],
   "source": [
    "\n",
    "# Now let's test it out!\n",
    "airport_parking = travel_agent.run(\"Could you find out my parking information include address, finally make them in JSON format\")"
   ]
  },
  {
   "cell_type": "code",
   "execution_count": 15,
   "metadata": {},
   "outputs": [
    {
     "data": {
      "text/plain": [
       "'The parking information is as follows:\\n{\\n  \"address\": \"14707 Guy R Brewer Boulevard, New York, United States\",\\n  \"rating\": \"4\",\\n  \"reviews\": \"539\",\\n  \"type\": \"Commercial Parking Lot or Garage\",\\n  \"operating_hours\": {\\n    \"Sunday\": \"24 hours\",\\n    \"Monday\": \"24 hours\",\\n    \"Tuesday\": \"24 hours\",\\n    \"Wednesday\": \"24 hours\",\\n    \"Thursday\": \"24 hours\",\\n    \"Friday\": \"24 hours\",\\n    \"Saturday\": \"24 hours\"\\n  }\\n}'"
      ]
     },
     "execution_count": 15,
     "metadata": {},
     "output_type": "execute_result"
    }
   ],
   "source": [
    "airport_parking"
   ]
  },
  {
   "cell_type": "code",
   "execution_count": 18,
   "metadata": {},
   "outputs": [
    {
     "name": "stdout",
     "output_type": "stream",
     "text": [
      "\n",
      "\n",
      "\u001b[1m> Entering new AgentExecutor chain...\u001b[0m\n"
     ]
    },
    {
     "name": "stdout",
     "output_type": "stream",
     "text": [
      "\u001b[32;1m\u001b[1;3mI need to retrieve the flight information and convert it to JSON format.\n",
      "Action: Travel information retrieval\n",
      "Action Input: Flight information\u001b[0m\n",
      "Observation: \u001b[36;1m\u001b[1;3m[Document(page_content=\"12/1/23, 2:07 PM JetBlue - Trip review\\nhttps://managetrips.jetblue.com/dx/B6DX/#/myb?carReservation=false&hotelReservation=false&locale=en-US 1/4Manage your trip\\nThere has been a change to your flight. If this new flight does not work for you then use the\\n'Change' link below.\\nConﬁrmation code\\nIHHZZC Ticketed\\n\\uf152 \\uf12c \\uf11e\\nNew York-JFK\\uf10d Salt Lake City CONFIRMED\\nDec 6, 2023\\n11:00 am\\nNew York-JFK\\uf10dDec 6, 2023\\n02:15 pm\\nSalt Lake City5 hrs 15 mins\\nNonstop\\nBlue Basic\\nB6871 A320Operated by JetBlue\\nDetails \\uf116\\nSalt Lake City\\uf10d New York-JFK CONFIRMED\\nDec 12, 2023\\n03:11 pm\\nSalt Lake City\\uf10dDec 12, 2023\\n09:38 pm\\nNew York-JFK4 hrs 27 mins\\nNonstop\\nBlue Basic\\nB6872 A320Operated by JetBlueYour flights\\uf10f\", metadata={'source': 'data_source\\\\JetBlue - Trip review.pdf', 'page': 0}), Document(page_content='12/1/23, 2:10 PM Reservation Confirmation #84544955 for Fairfield Inn & Suites Salt Lake City South\\nhttps://res-marriott.com/H/2/v710000018b156c7fb390364a434b5c38d0/1d17a3a7-0c2e-447c-880c-9f47008d290d/HTML 1/9\\nENHANCE YOUR ST AY|SUMMAR Y OF CHARGES |CONT ACT US\\nFairfield Inn & Suites Salt Lake City South\\n594 W est 4500 South Salt Lake City Utah\\n84123 USA\\n+1-801-265-9600\\nThank you for booking with us, Mr . Jian Gao.\\nYou’re ready to go.\\nWed, Dec 06, 2023 – Tue, Dec 12, 2023\\nConfirmation Number: 84544955\\nCheck-In: Wednesday , December 6, 2023 03:00 PM\\nCheck-Out: Tuesday , December 12, 2023 11:00 AM\\nNumber of rooms 1 Room\\nGuests per room 2 Adults\\nGuarantee Method Credit Card Guarantee, V isa\\nTotal for Stay (all rooms) 811.53 USD\\nRoom 1', metadata={'source': 'data_source\\\\Reservation Confirmation #84544955 for Fairfield Inn & Suites Salt Lake City South.pdf', 'page': 0}), Document(page_content='12/1/23, 2:22 PM Car rental in Salt Lake City | Expedia\\nhttps://www.expedia.com/trips/72674734923624/details/Nzg1NzU5NjUtYzIyZi01NDU1LWJmNGYtYzA5ZWMxMjc3Mjc5O2M0NDMwODUyLWVmZjkt… 1/2Car rental in Salt Lake City\\nDec 6, 2023 - Dec 12, 2023\\nSign in to see all booking details and manage your trip.\\nSign in\\nFox\\nConfirmation: #WF********\\nExpedia itinerary: 7267**********\\nReservation details\\nPick-up\\nWed, Dec 6\\n2:30pmDrop-off\\nTue, Dec 12\\n2:15pm\\nPick-up and drop-off instructions\\nLocation\\nManage booking\\nChange, cancel, and support\\nPricing and rewards\\nMenu\\nHelpGet the app EnglishList your propertySupportTrips More travel', metadata={'source': 'data_source\\\\Car rental in Salt Lake City _ Expedia.pdf', 'page': 0}), Document(page_content='12/1/23, 2:03 PM Queens Discount Parking JFK Airport Parking | Way\\nhttps://www.way.com/parkingdetails/5069801/Queens-Discount-Parking-JFK-Airport-Parking?cid=5069802 1/5\\nQueens Discount Parking JFK Airport Parking\\n14707 Guy R Brewer Boulevard, New York, United States ★ ★ ★ ★ ★4 (539 Ratings)\\nFavorites\\n Been Here 658\\n Share\\nJFK > JFK Parking Lots > Queens Discount Parking JFK Airport ParkingBooking Overview Reviews Nearby\\nBOOKING\\nSelect a parking type\\nWhy Book With Us?\\nBesides the lowest price guarantee, we offer a unique set of benefits that only Way can!\\nAccess To Roadside Assistance.\\nGet Discounts On Gas, Car Wash, Parking And More When You Check Out.\\xa0\\nView more benefits\\xa0 Outdoor Valet (Daily) From  $7.50\\nCheck-In\\nWed, Dec 06, 09:00 AMCheck-Out\\nTue, Dec 12, 11:30 PM\\nAdd to Bag\\nOVERVIEW\\nOperating Hours\\nSunday: 24 hours\\nMonday: 24 hours\\nTuesday: 24 hours\\nWednesday: 24 hours\\nThursday: 24 hours\\nFriday: 24 hours\\nSaturday: 24 hoursLocation Type\\nCommercial Parking Lot or Garage\\nAbout SpaceJFK Airport JFK1\\nMY BAG PROCEED TO CHECKOUT\\n1 \\ue90c', metadata={'source': 'data_source\\\\Queens Discount Parking JFK Airport Parking _ Way.pdf', 'page': 0})]\u001b[0m\n",
      "Thought:\u001b[32;1m\u001b[1;3mI have retrieved the flight information and it is in JSON format.\n",
      "Final Answer: The flight information is as follows:\n",
      "{\n",
      "  \"flight1\": {\n",
      "    \"departure\": \"New York-JFK\",\n",
      "    \"arrival\": \"Salt Lake City\",\n",
      "    \"date\": \"Dec 6, 2023\",\n",
      "    \"departureTime\": \"11:00 am\",\n",
      "    \"arrivalTime\": \"02:15 pm\",\n",
      "    \"duration\": \"5 hrs 15 mins\",\n",
      "    \"stops\": \"Nonstop\",\n",
      "    \"class\": \"Blue Basic\",\n",
      "    \"flightNumber\": \"B6871\",\n",
      "    \"operatedBy\": \"JetBlue\"\n",
      "  },\n",
      "  \"flight2\": {\n",
      "    \"departure\": \"Salt Lake City\",\n",
      "    \"arrival\": \"New York-JFK\",\n",
      "    \"date\": \"Dec 12, 2023\",\n",
      "    \"departureTime\": \"03:11 pm\",\n",
      "    \"arrivalTime\": \"09:38 pm\",\n",
      "    \"duration\": \"4 hrs 27 mins\",\n",
      "    \"stops\": \"Nonstop\",\n",
      "    \"class\": \"Blue Basic\",\n",
      "    \"flightNumber\": \"B6872\",\n",
      "    \"operatedBy\": \"JetBlue\"\n",
      "  }\n",
      "}\u001b[0m\n",
      "\n",
      "\u001b[1m> Finished chain.\u001b[0m\n"
     ]
    }
   ],
   "source": [
    "# Now let's test it out!\n",
    "flight_info = travel_agent.run(\"Could you find out my flight information, finally make them in JSON format\")"
   ]
  },
  {
   "cell_type": "code",
   "execution_count": 19,
   "metadata": {},
   "outputs": [
    {
     "data": {
      "text/plain": [
       "'The flight information is as follows:\\n{\\n  \"flight1\": {\\n    \"departure\": \"New York-JFK\",\\n    \"arrival\": \"Salt Lake City\",\\n    \"date\": \"Dec 6, 2023\",\\n    \"departureTime\": \"11:00 am\",\\n    \"arrivalTime\": \"02:15 pm\",\\n    \"duration\": \"5 hrs 15 mins\",\\n    \"stops\": \"Nonstop\",\\n    \"class\": \"Blue Basic\",\\n    \"flightNumber\": \"B6871\",\\n    \"operatedBy\": \"JetBlue\"\\n  },\\n  \"flight2\": {\\n    \"departure\": \"Salt Lake City\",\\n    \"arrival\": \"New York-JFK\",\\n    \"date\": \"Dec 12, 2023\",\\n    \"departureTime\": \"03:11 pm\",\\n    \"arrivalTime\": \"09:38 pm\",\\n    \"duration\": \"4 hrs 27 mins\",\\n    \"stops\": \"Nonstop\",\\n    \"class\": \"Blue Basic\",\\n    \"flightNumber\": \"B6872\",\\n    \"operatedBy\": \"JetBlue\"\\n  }\\n}'"
      ]
     },
     "execution_count": 19,
     "metadata": {},
     "output_type": "execute_result"
    }
   ],
   "source": [
    "flight_info"
   ]
  },
  {
   "cell_type": "code",
   "execution_count": 20,
   "metadata": {},
   "outputs": [
    {
     "name": "stdout",
     "output_type": "stream",
     "text": [
      "\n",
      "\n",
      "\u001b[1m> Entering new AgentExecutor chain...\u001b[0m\n"
     ]
    },
    {
     "name": "stdout",
     "output_type": "stream",
     "text": [
      "\u001b[32;1m\u001b[1;3mI need to retrieve the car rental information and convert it to JSON format.\n",
      "Action: Travel information retrieval\n",
      "Action Input: Car rental information\u001b[0m\n",
      "Observation: \u001b[36;1m\u001b[1;3m[Document(page_content='12/1/23, 2:22 PM Car rental in Salt Lake City | Expedia\\nhttps://www.expedia.com/trips/72674734923624/details/Nzg1NzU5NjUtYzIyZi01NDU1LWJmNGYtYzA5ZWMxMjc3Mjc5O2M0NDMwODUyLWVmZjkt… 1/2Car rental in Salt Lake City\\nDec 6, 2023 - Dec 12, 2023\\nSign in to see all booking details and manage your trip.\\nSign in\\nFox\\nConfirmation: #WF********\\nExpedia itinerary: 7267**********\\nReservation details\\nPick-up\\nWed, Dec 6\\n2:30pmDrop-off\\nTue, Dec 12\\n2:15pm\\nPick-up and drop-off instructions\\nLocation\\nManage booking\\nChange, cancel, and support\\nPricing and rewards\\nMenu\\nHelpGet the app EnglishList your propertySupportTrips More travel', metadata={'source': 'data_source\\\\Car rental in Salt Lake City _ Expedia.pdf', 'page': 0}), Document(page_content='12/1/23, 2:03 PM Queens Discount Parking JFK Airport Parking | Way\\nhttps://www.way.com/parkingdetails/5069801/Queens-Discount-Parking-JFK-Airport-Parking?cid=5069802 1/5\\nQueens Discount Parking JFK Airport Parking\\n14707 Guy R Brewer Boulevard, New York, United States ★ ★ ★ ★ ★4 (539 Ratings)\\nFavorites\\n Been Here 658\\n Share\\nJFK > JFK Parking Lots > Queens Discount Parking JFK Airport ParkingBooking Overview Reviews Nearby\\nBOOKING\\nSelect a parking type\\nWhy Book With Us?\\nBesides the lowest price guarantee, we offer a unique set of benefits that only Way can!\\nAccess To Roadside Assistance.\\nGet Discounts On Gas, Car Wash, Parking And More When You Check Out.\\xa0\\nView more benefits\\xa0 Outdoor Valet (Daily) From  $7.50\\nCheck-In\\nWed, Dec 06, 09:00 AMCheck-Out\\nTue, Dec 12, 11:30 PM\\nAdd to Bag\\nOVERVIEW\\nOperating Hours\\nSunday: 24 hours\\nMonday: 24 hours\\nTuesday: 24 hours\\nWednesday: 24 hours\\nThursday: 24 hours\\nFriday: 24 hours\\nSaturday: 24 hoursLocation Type\\nCommercial Parking Lot or Garage\\nAbout SpaceJFK Airport JFK1\\nMY BAG PROCEED TO CHECKOUT\\n1 \\ue90c', metadata={'source': 'data_source\\\\Queens Discount Parking JFK Airport Parking _ Way.pdf', 'page': 0}), Document(page_content=\"12/1/23, 2:07 PM JetBlue - Trip review\\nhttps://managetrips.jetblue.com/dx/B6DX/#/myb?carReservation=false&hotelReservation=false&locale=en-US 1/4Manage your trip\\nThere has been a change to your flight. If this new flight does not work for you then use the\\n'Change' link below.\\nConﬁrmation code\\nIHHZZC Ticketed\\n\\uf152 \\uf12c \\uf11e\\nNew York-JFK\\uf10d Salt Lake City CONFIRMED\\nDec 6, 2023\\n11:00 am\\nNew York-JFK\\uf10dDec 6, 2023\\n02:15 pm\\nSalt Lake City5 hrs 15 mins\\nNonstop\\nBlue Basic\\nB6871 A320Operated by JetBlue\\nDetails \\uf116\\nSalt Lake City\\uf10d New York-JFK CONFIRMED\\nDec 12, 2023\\n03:11 pm\\nSalt Lake City\\uf10dDec 12, 2023\\n09:38 pm\\nNew York-JFK4 hrs 27 mins\\nNonstop\\nBlue Basic\\nB6872 A320Operated by JetBlueYour flights\\uf10f\", metadata={'source': 'data_source\\\\JetBlue - Trip review.pdf', 'page': 0}), Document(page_content='12/1/23, 2:10 PM Reservation Confirmation #84544955 for Fairfield Inn & Suites Salt Lake City South\\nhttps://res-marriott.com/H/2/v710000018b156c7fb390364a434b5c38d0/1d17a3a7-0c2e-447c-880c-9f47008d290d/HTML 1/9\\nENHANCE YOUR ST AY|SUMMAR Y OF CHARGES |CONT ACT US\\nFairfield Inn & Suites Salt Lake City South\\n594 W est 4500 South Salt Lake City Utah\\n84123 USA\\n+1-801-265-9600\\nThank you for booking with us, Mr . Jian Gao.\\nYou’re ready to go.\\nWed, Dec 06, 2023 – Tue, Dec 12, 2023\\nConfirmation Number: 84544955\\nCheck-In: Wednesday , December 6, 2023 03:00 PM\\nCheck-Out: Tuesday , December 12, 2023 11:00 AM\\nNumber of rooms 1 Room\\nGuests per room 2 Adults\\nGuarantee Method Credit Card Guarantee, V isa\\nTotal for Stay (all rooms) 811.53 USD\\nRoom 1', metadata={'source': 'data_source\\\\Reservation Confirmation #84544955 for Fairfield Inn & Suites Salt Lake City South.pdf', 'page': 0})]\u001b[0m\n",
      "Thought:\u001b[32;1m\u001b[1;3mI have retrieved the car rental information.\n",
      "Action: Convert the car rental information to JSON format.\n",
      "Action Input: Car rental information\u001b[0m\n",
      "Observation: Convert the car rental information to JSON format. is not a valid tool, try one of [Travel information retrieval].\n",
      "Thought:\u001b[32;1m\u001b[1;3mI need to use the Travel information retrieval tool to convert the car rental information to JSON format.\n",
      "Action: Travel information retrieval\n",
      "Action Input: Car rental information\u001b[0m\n",
      "Observation: \u001b[36;1m\u001b[1;3m[Document(page_content='12/1/23, 2:22 PM Car rental in Salt Lake City | Expedia\\nhttps://www.expedia.com/trips/72674734923624/details/Nzg1NzU5NjUtYzIyZi01NDU1LWJmNGYtYzA5ZWMxMjc3Mjc5O2M0NDMwODUyLWVmZjkt… 1/2Car rental in Salt Lake City\\nDec 6, 2023 - Dec 12, 2023\\nSign in to see all booking details and manage your trip.\\nSign in\\nFox\\nConfirmation: #WF********\\nExpedia itinerary: 7267**********\\nReservation details\\nPick-up\\nWed, Dec 6\\n2:30pmDrop-off\\nTue, Dec 12\\n2:15pm\\nPick-up and drop-off instructions\\nLocation\\nManage booking\\nChange, cancel, and support\\nPricing and rewards\\nMenu\\nHelpGet the app EnglishList your propertySupportTrips More travel', metadata={'source': 'data_source\\\\Car rental in Salt Lake City _ Expedia.pdf', 'page': 0}), Document(page_content='12/1/23, 2:03 PM Queens Discount Parking JFK Airport Parking | Way\\nhttps://www.way.com/parkingdetails/5069801/Queens-Discount-Parking-JFK-Airport-Parking?cid=5069802 1/5\\nQueens Discount Parking JFK Airport Parking\\n14707 Guy R Brewer Boulevard, New York, United States ★ ★ ★ ★ ★4 (539 Ratings)\\nFavorites\\n Been Here 658\\n Share\\nJFK > JFK Parking Lots > Queens Discount Parking JFK Airport ParkingBooking Overview Reviews Nearby\\nBOOKING\\nSelect a parking type\\nWhy Book With Us?\\nBesides the lowest price guarantee, we offer a unique set of benefits that only Way can!\\nAccess To Roadside Assistance.\\nGet Discounts On Gas, Car Wash, Parking And More When You Check Out.\\xa0\\nView more benefits\\xa0 Outdoor Valet (Daily) From  $7.50\\nCheck-In\\nWed, Dec 06, 09:00 AMCheck-Out\\nTue, Dec 12, 11:30 PM\\nAdd to Bag\\nOVERVIEW\\nOperating Hours\\nSunday: 24 hours\\nMonday: 24 hours\\nTuesday: 24 hours\\nWednesday: 24 hours\\nThursday: 24 hours\\nFriday: 24 hours\\nSaturday: 24 hoursLocation Type\\nCommercial Parking Lot or Garage\\nAbout SpaceJFK Airport JFK1\\nMY BAG PROCEED TO CHECKOUT\\n1 \\ue90c', metadata={'source': 'data_source\\\\Queens Discount Parking JFK Airport Parking _ Way.pdf', 'page': 0}), Document(page_content=\"12/1/23, 2:07 PM JetBlue - Trip review\\nhttps://managetrips.jetblue.com/dx/B6DX/#/myb?carReservation=false&hotelReservation=false&locale=en-US 1/4Manage your trip\\nThere has been a change to your flight. If this new flight does not work for you then use the\\n'Change' link below.\\nConﬁrmation code\\nIHHZZC Ticketed\\n\\uf152 \\uf12c \\uf11e\\nNew York-JFK\\uf10d Salt Lake City CONFIRMED\\nDec 6, 2023\\n11:00 am\\nNew York-JFK\\uf10dDec 6, 2023\\n02:15 pm\\nSalt Lake City5 hrs 15 mins\\nNonstop\\nBlue Basic\\nB6871 A320Operated by JetBlue\\nDetails \\uf116\\nSalt Lake City\\uf10d New York-JFK CONFIRMED\\nDec 12, 2023\\n03:11 pm\\nSalt Lake City\\uf10dDec 12, 2023\\n09:38 pm\\nNew York-JFK4 hrs 27 mins\\nNonstop\\nBlue Basic\\nB6872 A320Operated by JetBlueYour flights\\uf10f\", metadata={'source': 'data_source\\\\JetBlue - Trip review.pdf', 'page': 0}), Document(page_content='12/1/23, 2:10 PM Reservation Confirmation #84544955 for Fairfield Inn & Suites Salt Lake City South\\nhttps://res-marriott.com/H/2/v710000018b156c7fb390364a434b5c38d0/1d17a3a7-0c2e-447c-880c-9f47008d290d/HTML 1/9\\nENHANCE YOUR ST AY|SUMMAR Y OF CHARGES |CONT ACT US\\nFairfield Inn & Suites Salt Lake City South\\n594 W est 4500 South Salt Lake City Utah\\n84123 USA\\n+1-801-265-9600\\nThank you for booking with us, Mr . Jian Gao.\\nYou’re ready to go.\\nWed, Dec 06, 2023 – Tue, Dec 12, 2023\\nConfirmation Number: 84544955\\nCheck-In: Wednesday , December 6, 2023 03:00 PM\\nCheck-Out: Tuesday , December 12, 2023 11:00 AM\\nNumber of rooms 1 Room\\nGuests per room 2 Adults\\nGuarantee Method Credit Card Guarantee, V isa\\nTotal for Stay (all rooms) 811.53 USD\\nRoom 1', metadata={'source': 'data_source\\\\Reservation Confirmation #84544955 for Fairfield Inn & Suites Salt Lake City South.pdf', 'page': 0})]\u001b[0m\n",
      "Thought:\u001b[32;1m\u001b[1;3mI have retrieved the car rental information.\n",
      "Action: Convert the car rental information to JSON format.\n",
      "Action Input: Car rental information\u001b[0m\n",
      "Observation: Convert the car rental information to JSON format. is not a valid tool, try one of [Travel information retrieval].\n",
      "Thought:\u001b[32;1m\u001b[1;3mI need to use the Travel information retrieval tool to convert the car rental information to JSON format.\n",
      "Action: Travel information retrieval\n",
      "Action Input: Car rental information\u001b[0m\n",
      "Observation: \u001b[36;1m\u001b[1;3m[Document(page_content='12/1/23, 2:22 PM Car rental in Salt Lake City | Expedia\\nhttps://www.expedia.com/trips/72674734923624/details/Nzg1NzU5NjUtYzIyZi01NDU1LWJmNGYtYzA5ZWMxMjc3Mjc5O2M0NDMwODUyLWVmZjkt… 1/2Car rental in Salt Lake City\\nDec 6, 2023 - Dec 12, 2023\\nSign in to see all booking details and manage your trip.\\nSign in\\nFox\\nConfirmation: #WF********\\nExpedia itinerary: 7267**********\\nReservation details\\nPick-up\\nWed, Dec 6\\n2:30pmDrop-off\\nTue, Dec 12\\n2:15pm\\nPick-up and drop-off instructions\\nLocation\\nManage booking\\nChange, cancel, and support\\nPricing and rewards\\nMenu\\nHelpGet the app EnglishList your propertySupportTrips More travel', metadata={'source': 'data_source\\\\Car rental in Salt Lake City _ Expedia.pdf', 'page': 0}), Document(page_content='12/1/23, 2:03 PM Queens Discount Parking JFK Airport Parking | Way\\nhttps://www.way.com/parkingdetails/5069801/Queens-Discount-Parking-JFK-Airport-Parking?cid=5069802 1/5\\nQueens Discount Parking JFK Airport Parking\\n14707 Guy R Brewer Boulevard, New York, United States ★ ★ ★ ★ ★4 (539 Ratings)\\nFavorites\\n Been Here 658\\n Share\\nJFK > JFK Parking Lots > Queens Discount Parking JFK Airport ParkingBooking Overview Reviews Nearby\\nBOOKING\\nSelect a parking type\\nWhy Book With Us?\\nBesides the lowest price guarantee, we offer a unique set of benefits that only Way can!\\nAccess To Roadside Assistance.\\nGet Discounts On Gas, Car Wash, Parking And More When You Check Out.\\xa0\\nView more benefits\\xa0 Outdoor Valet (Daily) From  $7.50\\nCheck-In\\nWed, Dec 06, 09:00 AMCheck-Out\\nTue, Dec 12, 11:30 PM\\nAdd to Bag\\nOVERVIEW\\nOperating Hours\\nSunday: 24 hours\\nMonday: 24 hours\\nTuesday: 24 hours\\nWednesday: 24 hours\\nThursday: 24 hours\\nFriday: 24 hours\\nSaturday: 24 hoursLocation Type\\nCommercial Parking Lot or Garage\\nAbout SpaceJFK Airport JFK1\\nMY BAG PROCEED TO CHECKOUT\\n1 \\ue90c', metadata={'source': 'data_source\\\\Queens Discount Parking JFK Airport Parking _ Way.pdf', 'page': 0}), Document(page_content=\"12/1/23, 2:07 PM JetBlue - Trip review\\nhttps://managetrips.jetblue.com/dx/B6DX/#/myb?carReservation=false&hotelReservation=false&locale=en-US 1/4Manage your trip\\nThere has been a change to your flight. If this new flight does not work for you then use the\\n'Change' link below.\\nConﬁrmation code\\nIHHZZC Ticketed\\n\\uf152 \\uf12c \\uf11e\\nNew York-JFK\\uf10d Salt Lake City CONFIRMED\\nDec 6, 2023\\n11:00 am\\nNew York-JFK\\uf10dDec 6, 2023\\n02:15 pm\\nSalt Lake City5 hrs 15 mins\\nNonstop\\nBlue Basic\\nB6871 A320Operated by JetBlue\\nDetails \\uf116\\nSalt Lake City\\uf10d New York-JFK CONFIRMED\\nDec 12, 2023\\n03:11 pm\\nSalt Lake City\\uf10dDec 12, 2023\\n09:38 pm\\nNew York-JFK4 hrs 27 mins\\nNonstop\\nBlue Basic\\nB6872 A320Operated by JetBlueYour flights\\uf10f\", metadata={'source': 'data_source\\\\JetBlue - Trip review.pdf', 'page': 0}), Document(page_content='12/1/23, 2:10 PM Reservation Confirmation #84544955 for Fairfield Inn & Suites Salt Lake City South\\nhttps://res-marriott.com/H/2/v710000018b156c7fb390364a434b5c38d0/1d17a3a7-0c2e-447c-880c-9f47008d290d/HTML 1/9\\nENHANCE YOUR ST AY|SUMMAR Y OF CHARGES |CONT ACT US\\nFairfield Inn & Suites Salt Lake City South\\n594 W est 4500 South Salt Lake City Utah\\n84123 USA\\n+1-801-265-9600\\nThank you for booking with us, Mr . Jian Gao.\\nYou’re ready to go.\\nWed, Dec 06, 2023 – Tue, Dec 12, 2023\\nConfirmation Number: 84544955\\nCheck-In: Wednesday , December 6, 2023 03:00 PM\\nCheck-Out: Tuesday , December 12, 2023 11:00 AM\\nNumber of rooms 1 Room\\nGuests per room 2 Adults\\nGuarantee Method Credit Card Guarantee, V isa\\nTotal for Stay (all rooms) 811.53 USD\\nRoom 1', metadata={'source': 'data_source\\\\Reservation Confirmation #84544955 for Fairfield Inn & Suites Salt Lake City South.pdf', 'page': 0})]\u001b[0m\n",
      "Thought:\u001b[32;1m\u001b[1;3mI have retrieved the car rental information and converted it to JSON format.\n",
      "Final Answer: The car rental information is as follows:\n",
      "\n",
      "{\n",
      "  \"Pick-up\": \"Wed, Dec 6\",\n",
      "  \"Drop-off\": \"Tue, Dec 12\",\n",
      "  \"Pick-up and drop-off instructions\": \"Location\",\n",
      "  \"Confirmation\": \"#WF********\",\n",
      "  \"Expedia itinerary\": \"7267**********\"\n",
      "}\u001b[0m\n",
      "\n",
      "\u001b[1m> Finished chain.\u001b[0m\n"
     ]
    }
   ],
   "source": [
    "# Now let's test it out!\n",
    "car_rental = travel_agent.run(\"Could you find out my car rental information, finally make them in JSON format\")"
   ]
  },
  {
   "cell_type": "code",
   "execution_count": 21,
   "metadata": {},
   "outputs": [
    {
     "data": {
      "text/plain": [
       "'The car rental information is as follows:\\n\\n{\\n  \"Pick-up\": \"Wed, Dec 6\",\\n  \"Drop-off\": \"Tue, Dec 12\",\\n  \"Pick-up and drop-off instructions\": \"Location\",\\n  \"Confirmation\": \"#WF********\",\\n  \"Expedia itinerary\": \"7267**********\"\\n}'"
      ]
     },
     "execution_count": 21,
     "metadata": {},
     "output_type": "execute_result"
    }
   ],
   "source": [
    "car_rental"
   ]
  },
  {
   "cell_type": "code",
   "execution_count": 23,
   "metadata": {},
   "outputs": [
    {
     "name": "stdout",
     "output_type": "stream",
     "text": [
      "\n",
      "\n",
      "\u001b[1m> Entering new AgentExecutor chain...\u001b[0m\n",
      "\u001b[32;1m\u001b[1;3mI need to retrieve the hotel information from the travel itinerary\n",
      "Action: Travel information retrieval\n",
      "Action Input: Hotel\u001b[0m\n",
      "Observation: \u001b[36;1m\u001b[1;3m[Document(page_content='12/1/23, 2:10 PM Reservation Confirmation #84544955 for Fairfield Inn & Suites Salt Lake City South\\nhttps://res-marriott.com/H/2/v710000018b156c7fb390364a434b5c38d0/1d17a3a7-0c2e-447c-880c-9f47008d290d/HTML 1/9\\nENHANCE YOUR ST AY|SUMMAR Y OF CHARGES |CONT ACT US\\nFairfield Inn & Suites Salt Lake City South\\n594 W est 4500 South Salt Lake City Utah\\n84123 USA\\n+1-801-265-9600\\nThank you for booking with us, Mr . Jian Gao.\\nYou’re ready to go.\\nWed, Dec 06, 2023 – Tue, Dec 12, 2023\\nConfirmation Number: 84544955\\nCheck-In: Wednesday , December 6, 2023 03:00 PM\\nCheck-Out: Tuesday , December 12, 2023 11:00 AM\\nNumber of rooms 1 Room\\nGuests per room 2 Adults\\nGuarantee Method Credit Card Guarantee, V isa\\nTotal for Stay (all rooms) 811.53 USD\\nRoom 1', metadata={'source': 'data_source\\\\Reservation Confirmation #84544955 for Fairfield Inn & Suites Salt Lake City South.pdf', 'page': 0}), Document(page_content='12/1/23, 2:03 PM Queens Discount Parking JFK Airport Parking | Way\\nhttps://www.way.com/parkingdetails/5069801/Queens-Discount-Parking-JFK-Airport-Parking?cid=5069802 1/5\\nQueens Discount Parking JFK Airport Parking\\n14707 Guy R Brewer Boulevard, New York, United States ★ ★ ★ ★ ★4 (539 Ratings)\\nFavorites\\n Been Here 658\\n Share\\nJFK > JFK Parking Lots > Queens Discount Parking JFK Airport ParkingBooking Overview Reviews Nearby\\nBOOKING\\nSelect a parking type\\nWhy Book With Us?\\nBesides the lowest price guarantee, we offer a unique set of benefits that only Way can!\\nAccess To Roadside Assistance.\\nGet Discounts On Gas, Car Wash, Parking And More When You Check Out.\\xa0\\nView more benefits\\xa0 Outdoor Valet (Daily) From  $7.50\\nCheck-In\\nWed, Dec 06, 09:00 AMCheck-Out\\nTue, Dec 12, 11:30 PM\\nAdd to Bag\\nOVERVIEW\\nOperating Hours\\nSunday: 24 hours\\nMonday: 24 hours\\nTuesday: 24 hours\\nWednesday: 24 hours\\nThursday: 24 hours\\nFriday: 24 hours\\nSaturday: 24 hoursLocation Type\\nCommercial Parking Lot or Garage\\nAbout SpaceJFK Airport JFK1\\nMY BAG PROCEED TO CHECKOUT\\n1 \\ue90c', metadata={'source': 'data_source\\\\Queens Discount Parking JFK Airport Parking _ Way.pdf', 'page': 0}), Document(page_content='12/1/23, 2:22 PM Car rental in Salt Lake City | Expedia\\nhttps://www.expedia.com/trips/72674734923624/details/Nzg1NzU5NjUtYzIyZi01NDU1LWJmNGYtYzA5ZWMxMjc3Mjc5O2M0NDMwODUyLWVmZjkt… 1/2Car rental in Salt Lake City\\nDec 6, 2023 - Dec 12, 2023\\nSign in to see all booking details and manage your trip.\\nSign in\\nFox\\nConfirmation: #WF********\\nExpedia itinerary: 7267**********\\nReservation details\\nPick-up\\nWed, Dec 6\\n2:30pmDrop-off\\nTue, Dec 12\\n2:15pm\\nPick-up and drop-off instructions\\nLocation\\nManage booking\\nChange, cancel, and support\\nPricing and rewards\\nMenu\\nHelpGet the app EnglishList your propertySupportTrips More travel', metadata={'source': 'data_source\\\\Car rental in Salt Lake City _ Expedia.pdf', 'page': 0}), Document(page_content=\"12/1/23, 2:07 PM JetBlue - Trip review\\nhttps://managetrips.jetblue.com/dx/B6DX/#/myb?carReservation=false&hotelReservation=false&locale=en-US 1/4Manage your trip\\nThere has been a change to your flight. If this new flight does not work for you then use the\\n'Change' link below.\\nConﬁrmation code\\nIHHZZC Ticketed\\n\\uf152 \\uf12c \\uf11e\\nNew York-JFK\\uf10d Salt Lake City CONFIRMED\\nDec 6, 2023\\n11:00 am\\nNew York-JFK\\uf10dDec 6, 2023\\n02:15 pm\\nSalt Lake City5 hrs 15 mins\\nNonstop\\nBlue Basic\\nB6871 A320Operated by JetBlue\\nDetails \\uf116\\nSalt Lake City\\uf10d New York-JFK CONFIRMED\\nDec 12, 2023\\n03:11 pm\\nSalt Lake City\\uf10dDec 12, 2023\\n09:38 pm\\nNew York-JFK4 hrs 27 mins\\nNonstop\\nBlue Basic\\nB6872 A320Operated by JetBlueYour flights\\uf10f\", metadata={'source': 'data_source\\\\JetBlue - Trip review.pdf', 'page': 0})]\u001b[0m\n",
      "Thought:"
     ]
    },
    {
     "name": "stdout",
     "output_type": "stream",
     "text": [
      "\u001b[32;1m\u001b[1;3mI have retrieved the hotel information from the travel itinerary.\n",
      "Final Answer: The hotel information is as follows:\n",
      "Hotel Name: Fairfield Inn & Suites Salt Lake City South\n",
      "Address: 594 West 4500 South Salt Lake City Utah 84123 USA\n",
      "Phone Number: +1-801-265-9600\n",
      "Check-In: Wednesday, December 6, 2023 03:00 PM\n",
      "Check-Out: Tuesday, December 12, 2023 11:00 AM\n",
      "Number of rooms: 1 Room\n",
      "Guests per room: 2 Adults\u001b[0m\n",
      "\n",
      "\u001b[1m> Finished chain.\u001b[0m\n"
     ]
    }
   ],
   "source": [
    "# Now let's test it out!\n",
    "hotel = travel_agent.run(\"Please find out my hotel information\")"
   ]
  },
  {
   "cell_type": "code",
   "execution_count": 24,
   "metadata": {},
   "outputs": [
    {
     "data": {
      "text/plain": [
       "'The hotel information is as follows:\\nHotel Name: Fairfield Inn & Suites Salt Lake City South\\nAddress: 594 West 4500 South Salt Lake City Utah 84123 USA\\nPhone Number: +1-801-265-9600\\nCheck-In: Wednesday, December 6, 2023 03:00 PM\\nCheck-Out: Tuesday, December 12, 2023 11:00 AM\\nNumber of rooms: 1 Room\\nGuests per room: 2 Adults'"
      ]
     },
     "execution_count": 24,
     "metadata": {},
     "output_type": "execute_result"
    }
   ],
   "source": [
    "hotel"
   ]
  },
  {
   "cell_type": "code",
   "execution_count": 25,
   "metadata": {},
   "outputs": [
    {
     "name": "stdout",
     "output_type": "stream",
     "text": [
      "\n",
      "I am going to plan a Ski SLC ski trip for a week. Here are the information on this trip:\n",
      "1. I have booked airport parking: The parking information is as follows:\n",
      "{\n",
      "  \"address\": \"14707 Guy R Brewer Boulevard, New York, United States\",\n",
      "  \"rating\": \"4\",\n",
      "  \"reviews\": \"539\",\n",
      "  \"type\": \"Commercial Parking Lot or Garage\",\n",
      "  \"operating_hours\": {\n",
      "    \"Sunday\": \"24 hours\",\n",
      "    \"Monday\": \"24 hours\",\n",
      "    \"Tuesday\": \"24 hours\",\n",
      "    \"Wednesday\": \"24 hours\",\n",
      "    \"Thursday\": \"24 hours\",\n",
      "    \"Friday\": \"24 hours\",\n",
      "    \"Saturday\": \"24 hours\"\n",
      "  }\n",
      "}\n",
      "2. Booked flight: The flight information is as follows:\n",
      "{\n",
      "  \"flight1\": {\n",
      "    \"departure\": \"New York-JFK\",\n",
      "    \"arrival\": \"Salt Lake City\",\n",
      "    \"date\": \"Dec 6, 2023\",\n",
      "    \"departureTime\": \"11:00 am\",\n",
      "    \"arrivalTime\": \"02:15 pm\",\n",
      "    \"duration\": \"5 hrs 15 mins\",\n",
      "    \"stops\": \"Nonstop\",\n",
      "    \"class\": \"Blue Basic\",\n",
      "    \"flightNumber\": \"B6871\",\n",
      "    \"operatedBy\": \"JetBlue\"\n",
      "  },\n",
      "  \"flight2\": {\n",
      "    \"departure\": \"Salt Lake City\",\n",
      "    \"arrival\": \"New York-JFK\",\n",
      "    \"date\": \"Dec 12, 2023\",\n",
      "    \"departureTime\": \"03:11 pm\",\n",
      "    \"arrivalTime\": \"09:38 pm\",\n",
      "    \"duration\": \"4 hrs 27 mins\",\n",
      "    \"stops\": \"Nonstop\",\n",
      "    \"class\": \"Blue Basic\",\n",
      "    \"flightNumber\": \"B6872\",\n",
      "    \"operatedBy\": \"JetBlue\"\n",
      "  }\n",
      "}\n",
      "3. Booked hotel in the destination: The hotel information is as follows:\n",
      "Hotel Name: Fairfield Inn & Suites Salt Lake City South\n",
      "Address: 594 West 4500 South Salt Lake City Utah 84123 USA\n",
      "Phone Number: +1-801-265-9600\n",
      "Check-In: Wednesday, December 6, 2023 03:00 PM\n",
      "Check-Out: Tuesday, December 12, 2023 11:00 AM\n",
      "Number of rooms: 1 Room\n",
      "Guests per room: 2 Adults\n",
      "4. Booked car rental in the destination: The car rental information is as follows:\n",
      "\n",
      "{\n",
      "  \"Pick-up\": \"Wed, Dec 6\",\n",
      "  \"Drop-off\": \"Tue, Dec 12\",\n",
      "  \"Pick-up and drop-off instructions\": \"Location\",\n",
      "  \"Confirmation\": \"#WF********\",\n",
      "  \"Expedia itinerary\": \"7267**********\"\n",
      "}\n",
      "5. We will ski in the following Ski resorts in UT: Solitude Mountain Resort, Brighton Resort, and Alta Snowbird. \n",
      "\n",
      "With all above information, can you make a detailed day to day ski trip plan include following:\n",
      "1. Entire trip planning starting from the every beginning, New York, like from parking, then fly out, then to SLC, then get Rental car, then go to hotel, \n",
      "then Ski activities (filling in for the entire stay in this trip), then check out hotel, return rental car, take flight back.\n",
      "2. Each day should include driving directions and address to one of those Ski resorts, where to park, and where to eat dinner.\n",
      "3. For any location, address, contact info are needed.\n",
      "\n",
      "\n"
     ]
    }
   ],
   "source": [
    "trip_name = 'Ski SLC'\n",
    "\n",
    "# prompt_text = f\"\"\"\n",
    "# Please generate an assessment report on {company_name} based on the following questions and answers in JSON:\n",
    "# {data}\n",
    "# and the assessment report should contain the following sections:\n",
    "# 1. Executive Summary\n",
    "# 2. Overview of Key Findings\n",
    "# 3. Summary of Risks Identified\n",
    "# 4. Overall ratings on the risk level you would give, between 0 and 9 (0 - no risk, 9 - highest risk)\n",
    "# \"\"\"\n",
    "\n",
    "\n",
    "prompt_text = f\"\"\"\n",
    "I am going to plan a {trip_name} ski trip for a week. Here are the information on this trip:\n",
    "1. I have booked airport parking: {airport_parking}\n",
    "2. Booked flight: {flight_info}\n",
    "3. Booked hotel in the destination: {hotel}\n",
    "4. Booked car rental in the destination: {car_rental}\n",
    "5. We will ski in the following Ski resorts in UT: Solitude Mountain Resort, Brighton Resort, and Alta Snowbird. \n",
    "\n",
    "With all above information, can you make a detailed day to day ski trip plan include following:\n",
    "1. Entire trip planning starting from the every beginning, New York, like from parking, then fly out, then to SLC, then get Rental car, then go to hotel, \n",
    "then Ski activities (filling in for the entire stay in this trip), then check out hotel, return rental car, take flight back.\n",
    "2. Each day should include driving directions and address to one of those Ski resorts, where to park, and where to eat dinner.\n",
    "3. For any location, address, contact info are needed.\n",
    "\n",
    "\"\"\"\n",
    "\n",
    "print(prompt_text)"
   ]
  },
  {
   "cell_type": "code",
   "execution_count": 28,
   "metadata": {},
   "outputs": [],
   "source": [
    "prompt_file = './reports/report_prompt.txt'\n",
    "\n",
    "with open(prompt_file, 'w') as file:\n",
    "    file.write(prompt_text)"
   ]
  }
 ],
 "metadata": {
  "kernelspec": {
   "display_name": "Python 3",
   "language": "python",
   "name": "python3"
  },
  "language_info": {
   "codemirror_mode": {
    "name": "ipython",
    "version": 3
   },
   "file_extension": ".py",
   "mimetype": "text/x-python",
   "name": "python",
   "nbconvert_exporter": "python",
   "pygments_lexer": "ipython3",
   "version": "3.11.6"
  },
  "orig_nbformat": 4
 },
 "nbformat": 4,
 "nbformat_minor": 2
}
