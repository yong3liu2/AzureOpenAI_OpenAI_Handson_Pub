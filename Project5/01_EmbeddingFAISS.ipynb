{
 "cells": [
  {
   "cell_type": "markdown",
   "metadata": {},
   "source": [
    "Process data and save them in vector store\n",
    "\n",
    "# Embedding and vector store\n",
    "\n",
    "* Data source: SEC filing reports\n",
    "\n",
    "* Azure OpenAI - embedding\n",
    "\n",
    "* FAISS\n",
    "\n",
    "* Azure AI Search (Azure Cognitive Searc) - vector store and vector search, semantic search, or both\n",
    "\n",
    "* LangChain framework - Azure OpenAI, Azure AI Search\n"
   ]
  },
  {
   "cell_type": "markdown",
   "metadata": {},
   "source": [
    "## Configure OpenAI Settings"
   ]
  },
  {
   "cell_type": "code",
   "execution_count": 1,
   "metadata": {},
   "outputs": [],
   "source": [
    "import os\n",
    "import openai\n",
    "from dotenv import load_dotenv\n",
    "# Set up Azure OpenAI\n",
    "load_dotenv()\n",
    "\n",
    "openai.api_type = \"azure\"\n",
    "\n",
    "AZURE_OPENAI_API_VERSION = os.getenv(\"AAG_AZURE_OPENAI_API_VERSION\")\n",
    "openai.api_version = AZURE_OPENAI_API_VERSION\n",
    "\n",
    "AZURE_OPENAI_API_KEY = os.getenv(\"AAG_AZURE_OPENAI_API_KEY\").strip()\n",
    "assert AZURE_OPENAI_API_KEY, \"ERROR: Azure OpenAI Key is missing\"\n",
    "openai.api_key = AZURE_OPENAI_API_KEY\n",
    "\n",
    "AZURE_OPENAI_ENDPOINT = os.getenv(\"AAG_AZURE_OPENAI_ENDPOINT\",\"\").strip()\n",
    "assert AZURE_OPENAI_ENDPOINT, \"ERROR: Azure OpenAI Endpoint is missing\"\n",
    "openai.api_base = AZURE_OPENAI_ENDPOINT\n",
    "\n",
    "# Deployment for Chat\n",
    "# DEPLOYMENT_NAME_CHAT = os.getenv('DEPLOYMENT_NAME_CHAT')\n",
    "DEPLOYMENT_NAME_CHAT = os.getenv('AAG_DEPLOYMENT_NAME_CHAT_16K')\n",
    "\n",
    "# Deployment for embedding\n",
    "DEPLOYMENT_NAME_EMBEDDING = os.getenv(\"AAG_DEPLOYMENT_NAME_EMBEDDING\")\n",
    "model: str = DEPLOYMENT_NAME_EMBEDDING\n",
    "\n",
    "# Azure AI Search (Cognitive vector store)\n",
    "vector_store_address: str = os.getenv(\"AAG_AZURE_SEARCH_SERVICE_ENDPOINT\")  \n",
    "vector_store_password: str = os.getenv(\"AAG_AZURE_SEARCH_ADMIN_KEY\")\n",
    "# index_name: str = \"langchain-vector-arxiv-physics\"\n",
    "\n",
    "# Deployment for embedding\n",
    "BING_SUBSCRIPTION_KEY = os.getenv(\"BING_SUBSCRIPTION_KEY\")"
   ]
  },
  {
   "cell_type": "markdown",
   "metadata": {},
   "source": [
    "## Load travel itinerary\n",
    "\n",
    "* Parking, Flight, Car Rental, Hotel ..."
   ]
  },
  {
   "cell_type": "markdown",
   "metadata": {},
   "source": [
    "#### Load pdf files in a dir"
   ]
  },
  {
   "cell_type": "code",
   "execution_count": 2,
   "metadata": {},
   "outputs": [],
   "source": [
    "from langchain.document_loaders import PyPDFDirectoryLoader\n",
    "\n",
    "loader = PyPDFDirectoryLoader(\"./data_source/\")\n",
    "\n",
    "loaded_documents = loader.load()"
   ]
  },
  {
   "cell_type": "code",
   "execution_count": 3,
   "metadata": {},
   "outputs": [
    {
     "data": {
      "text/plain": [
       "[Document(page_content='12/1/23, 2:22 PM Car rental in Salt Lake City | Expedia\\nhttps://www.expedia.com/trips/72674734923624/details/Nzg1NzU5NjUtYzIyZi01NDU1LWJmNGYtYzA5ZWMxMjc3Mjc5O2M0NDMwODUyLWVmZjkt… 1/2Car rental in Salt Lake City\\nDec 6, 2023 - Dec 12, 2023\\nSign in to see all booking details and manage your trip.\\nSign in\\nFox\\nConfirmation: #WF********\\nExpedia itinerary: 7267**********\\nReservation details\\nPick-up\\nWed, Dec 6\\n2:30pmDrop-off\\nTue, Dec 12\\n2:15pm\\nPick-up and drop-off instructions\\nLocation\\nManage booking\\nChange, cancel, and support\\nPricing and rewards\\nMenu\\nHelpGet the app EnglishList your propertySupportTrips More travel', metadata={'source': 'data_source\\\\Car rental in Salt Lake City _ Expedia.pdf', 'page': 0}),\n",
       " Document(page_content=\"12/1/23, 2:07 PM JetBlue - Trip review\\nhttps://managetrips.jetblue.com/dx/B6DX/#/myb?carReservation=false&hotelReservation=false&locale=en-US 1/4Manage your trip\\nThere has been a change to your flight. If this new flight does not work for you then use the\\n'Change' link below.\\nConﬁrmation code\\nIHHZZC Ticketed\\n\\uf152 \\uf12c \\uf11e\\nNew York-JFK\\uf10d Salt Lake City CONFIRMED\\nDec 6, 2023\\n11:00 am\\nNew York-JFK\\uf10dDec 6, 2023\\n02:15 pm\\nSalt Lake City5 hrs 15 mins\\nNonstop\\nBlue Basic\\nB6871 A320Operated by JetBlue\\nDetails \\uf116\\nSalt Lake City\\uf10d New York-JFK CONFIRMED\\nDec 12, 2023\\n03:11 pm\\nSalt Lake City\\uf10dDec 12, 2023\\n09:38 pm\\nNew York-JFK4 hrs 27 mins\\nNonstop\\nBlue Basic\\nB6872 A320Operated by JetBlueYour flights\\uf10f\", metadata={'source': 'data_source\\\\JetBlue - Trip review.pdf', 'page': 0}),\n",
       " Document(page_content='12/1/23, 2:03 PM Queens Discount Parking JFK Airport Parking | Way\\nhttps://www.way.com/parkingdetails/5069801/Queens-Discount-Parking-JFK-Airport-Parking?cid=5069802 1/5\\nQueens Discount Parking JFK Airport Parking\\n14707 Guy R Brewer Boulevard, New York, United States ★ ★ ★ ★ ★4 (539 Ratings)\\nFavorites\\n Been Here 658\\n Share\\nJFK > JFK Parking Lots > Queens Discount Parking JFK Airport ParkingBooking Overview Reviews Nearby\\nBOOKING\\nSelect a parking type\\nWhy Book With Us?\\nBesides the lowest price guarantee, we offer a unique set of benefits that only Way can!\\nAccess To Roadside Assistance.\\nGet Discounts On Gas, Car Wash, Parking And More When You Check Out.\\xa0\\nView more benefits\\xa0 Outdoor Valet (Daily) From  $7.50\\nCheck-In\\nWed, Dec 06, 09:00 AMCheck-Out\\nTue, Dec 12, 11:30 PM\\nAdd to Bag\\nOVERVIEW\\nOperating Hours\\nSunday: 24 hours\\nMonday: 24 hours\\nTuesday: 24 hours\\nWednesday: 24 hours\\nThursday: 24 hours\\nFriday: 24 hours\\nSaturday: 24 hoursLocation Type\\nCommercial Parking Lot or Garage\\nAbout SpaceJFK Airport JFK1\\nMY BAG PROCEED TO CHECKOUT\\n1 \\ue90c', metadata={'source': 'data_source\\\\Queens Discount Parking JFK Airport Parking _ Way.pdf', 'page': 0}),\n",
       " Document(page_content='12/1/23, 2:10 PM Reservation Confirmation #84544955 for Fairfield Inn & Suites Salt Lake City South\\nhttps://res-marriott.com/H/2/v710000018b156c7fb390364a434b5c38d0/1d17a3a7-0c2e-447c-880c-9f47008d290d/HTML 1/9\\nENHANCE YOUR ST AY|SUMMAR Y OF CHARGES |CONT ACT US\\nFairfield Inn & Suites Salt Lake City South\\n594 W est 4500 South Salt Lake City Utah\\n84123 USA\\n+1-801-265-9600\\nThank you for booking with us, Mr . Jian Gao.\\nYou’re ready to go.\\nWed, Dec 06, 2023 – Tue, Dec 12, 2023\\nConfirmation Number: 84544955\\nCheck-In: Wednesday , December 6, 2023 03:00 PM\\nCheck-Out: Tuesday , December 12, 2023 11:00 AM\\nNumber of rooms 1 Room\\nGuests per room 2 Adults\\nGuarantee Method Credit Card Guarantee, V isa\\nTotal for Stay (all rooms) 811.53 USD\\nRoom 1\\n', metadata={'source': 'data_source\\\\Reservation Confirmation #84544955 for Fairfield Inn & Suites Salt Lake City South.pdf', 'page': 0})]"
      ]
     },
     "execution_count": 3,
     "metadata": {},
     "output_type": "execute_result"
    }
   ],
   "source": [
    "loaded_documents"
   ]
  },
  {
   "cell_type": "code",
   "execution_count": 4,
   "metadata": {},
   "outputs": [],
   "source": [
    "from langchain.text_splitter import CharacterTextSplitter\n",
    "\n",
    "# Split documents to chucks\n",
    "text_splitter = CharacterTextSplitter(chunk_size=2000, chunk_overlap=0)\n",
    "splitted_docs = text_splitter.split_documents(loaded_documents)\n"
   ]
  },
  {
   "cell_type": "code",
   "execution_count": 5,
   "metadata": {},
   "outputs": [
    {
     "data": {
      "text/plain": [
       "[Document(page_content='12/1/23, 2:22 PM Car rental in Salt Lake City | Expedia\\nhttps://www.expedia.com/trips/72674734923624/details/Nzg1NzU5NjUtYzIyZi01NDU1LWJmNGYtYzA5ZWMxMjc3Mjc5O2M0NDMwODUyLWVmZjkt… 1/2Car rental in Salt Lake City\\nDec 6, 2023 - Dec 12, 2023\\nSign in to see all booking details and manage your trip.\\nSign in\\nFox\\nConfirmation: #WF********\\nExpedia itinerary: 7267**********\\nReservation details\\nPick-up\\nWed, Dec 6\\n2:30pmDrop-off\\nTue, Dec 12\\n2:15pm\\nPick-up and drop-off instructions\\nLocation\\nManage booking\\nChange, cancel, and support\\nPricing and rewards\\nMenu\\nHelpGet the app EnglishList your propertySupportTrips More travel', metadata={'source': 'data_source\\\\Car rental in Salt Lake City _ Expedia.pdf', 'page': 0}),\n",
       " Document(page_content=\"12/1/23, 2:07 PM JetBlue - Trip review\\nhttps://managetrips.jetblue.com/dx/B6DX/#/myb?carReservation=false&hotelReservation=false&locale=en-US 1/4Manage your trip\\nThere has been a change to your flight. If this new flight does not work for you then use the\\n'Change' link below.\\nConﬁrmation code\\nIHHZZC Ticketed\\n\\uf152 \\uf12c \\uf11e\\nNew York-JFK\\uf10d Salt Lake City CONFIRMED\\nDec 6, 2023\\n11:00 am\\nNew York-JFK\\uf10dDec 6, 2023\\n02:15 pm\\nSalt Lake City5 hrs 15 mins\\nNonstop\\nBlue Basic\\nB6871 A320Operated by JetBlue\\nDetails \\uf116\\nSalt Lake City\\uf10d New York-JFK CONFIRMED\\nDec 12, 2023\\n03:11 pm\\nSalt Lake City\\uf10dDec 12, 2023\\n09:38 pm\\nNew York-JFK4 hrs 27 mins\\nNonstop\\nBlue Basic\\nB6872 A320Operated by JetBlueYour flights\\uf10f\", metadata={'source': 'data_source\\\\JetBlue - Trip review.pdf', 'page': 0}),\n",
       " Document(page_content='12/1/23, 2:03 PM Queens Discount Parking JFK Airport Parking | Way\\nhttps://www.way.com/parkingdetails/5069801/Queens-Discount-Parking-JFK-Airport-Parking?cid=5069802 1/5\\nQueens Discount Parking JFK Airport Parking\\n14707 Guy R Brewer Boulevard, New York, United States ★ ★ ★ ★ ★4 (539 Ratings)\\nFavorites\\n Been Here 658\\n Share\\nJFK > JFK Parking Lots > Queens Discount Parking JFK Airport ParkingBooking Overview Reviews Nearby\\nBOOKING\\nSelect a parking type\\nWhy Book With Us?\\nBesides the lowest price guarantee, we offer a unique set of benefits that only Way can!\\nAccess To Roadside Assistance.\\nGet Discounts On Gas, Car Wash, Parking And More When You Check Out.\\xa0\\nView more benefits\\xa0 Outdoor Valet (Daily) From  $7.50\\nCheck-In\\nWed, Dec 06, 09:00 AMCheck-Out\\nTue, Dec 12, 11:30 PM\\nAdd to Bag\\nOVERVIEW\\nOperating Hours\\nSunday: 24 hours\\nMonday: 24 hours\\nTuesday: 24 hours\\nWednesday: 24 hours\\nThursday: 24 hours\\nFriday: 24 hours\\nSaturday: 24 hoursLocation Type\\nCommercial Parking Lot or Garage\\nAbout SpaceJFK Airport JFK1\\nMY BAG PROCEED TO CHECKOUT\\n1 \\ue90c', metadata={'source': 'data_source\\\\Queens Discount Parking JFK Airport Parking _ Way.pdf', 'page': 0}),\n",
       " Document(page_content='12/1/23, 2:10 PM Reservation Confirmation #84544955 for Fairfield Inn & Suites Salt Lake City South\\nhttps://res-marriott.com/H/2/v710000018b156c7fb390364a434b5c38d0/1d17a3a7-0c2e-447c-880c-9f47008d290d/HTML 1/9\\nENHANCE YOUR ST AY|SUMMAR Y OF CHARGES |CONT ACT US\\nFairfield Inn & Suites Salt Lake City South\\n594 W est 4500 South Salt Lake City Utah\\n84123 USA\\n+1-801-265-9600\\nThank you for booking with us, Mr . Jian Gao.\\nYou’re ready to go.\\nWed, Dec 06, 2023 – Tue, Dec 12, 2023\\nConfirmation Number: 84544955\\nCheck-In: Wednesday , December 6, 2023 03:00 PM\\nCheck-Out: Tuesday , December 12, 2023 11:00 AM\\nNumber of rooms 1 Room\\nGuests per room 2 Adults\\nGuarantee Method Credit Card Guarantee, V isa\\nTotal for Stay (all rooms) 811.53 USD\\nRoom 1', metadata={'source': 'data_source\\\\Reservation Confirmation #84544955 for Fairfield Inn & Suites Salt Lake City South.pdf', 'page': 0})]"
      ]
     },
     "execution_count": 5,
     "metadata": {},
     "output_type": "execute_result"
    }
   ],
   "source": [
    "splitted_docs"
   ]
  },
  {
   "cell_type": "markdown",
   "metadata": {},
   "source": [
    "### Create embeddings and vector store instances"
   ]
  },
  {
   "cell_type": "markdown",
   "metadata": {},
   "source": [
    "#### FAISS vector store"
   ]
  },
  {
   "cell_type": "code",
   "execution_count": 6,
   "metadata": {},
   "outputs": [
    {
     "name": "stdout",
     "output_type": "stream",
     "text": [
      "12/1/23, 2:07 PM JetBlue - Trip review\n",
      "https://managetrips.jetblue.com/dx/B6DX/#/myb?carReservation=false&hotelReservation=false&locale=en-US 1/4Manage your trip\n",
      "There has been a change to your flight. If this new flight does not work for you then use the\n",
      "'Change' link below.\n",
      "Conﬁrmation code\n",
      "IHHZZC Ticketed\n",
      "  \n",
      "New York-JFK Salt Lake City CONFIRMED\n",
      "Dec 6, 2023\n",
      "11:00 am\n",
      "New York-JFKDec 6, 2023\n",
      "02:15 pm\n",
      "Salt Lake City5 hrs 15 mins\n",
      "Nonstop\n",
      "Blue Basic\n",
      "B6871 A320Operated by JetBlue\n",
      "Details \n",
      "Salt Lake City New York-JFK CONFIRMED\n",
      "Dec 12, 2023\n",
      "03:11 pm\n",
      "Salt Lake CityDec 12, 2023\n",
      "09:38 pm\n",
      "New York-JFK4 hrs 27 mins\n",
      "Nonstop\n",
      "Blue Basic\n",
      "B6872 A320Operated by JetBlueYour flights\n"
     ]
    }
   ],
   "source": [
    "from langchain.embeddings.openai import OpenAIEmbeddings\n",
    "from langchain.vectorstores import FAISS\n",
    "\n",
    "# Get Azure OpenAI embedding\n",
    "embeddings: OpenAIEmbeddings = OpenAIEmbeddings(\n",
    "    deployment=model,\n",
    "    model=model,\n",
    "    chunk_size=1,   # this 'chunk_size' is misleading, it is really about 'input' text string, not the number of words or characters in the text.\n",
    "    openai_api_base=AZURE_OPENAI_ENDPOINT,\n",
    "    openai_api_type=\"azure\",\n",
    "    api_key=AZURE_OPENAI_API_KEY,\n",
    ")\n",
    "\n",
    "# Create the vector index\n",
    "db = FAISS.from_documents(splitted_docs, embeddings)\n",
    "# Query the index\n",
    "query = \"What does the travel starts? Which terminal is it?\"\n",
    "docs = db.similarity_search(query)\n",
    "# Print the results\n",
    "print(docs[0].page_content)"
   ]
  },
  {
   "cell_type": "code",
   "execution_count": 7,
   "metadata": {},
   "outputs": [],
   "source": [
    "# Travel\n",
    "db.save_local(\"faiss_index_travel\")"
   ]
  }
 ],
 "metadata": {
  "kernelspec": {
   "display_name": "Python 3",
   "language": "python",
   "name": "python3"
  },
  "language_info": {
   "codemirror_mode": {
    "name": "ipython",
    "version": 3
   },
   "file_extension": ".py",
   "mimetype": "text/x-python",
   "name": "python",
   "nbconvert_exporter": "python",
   "pygments_lexer": "ipython3",
   "version": "3.11.6"
  },
  "orig_nbformat": 4
 },
 "nbformat": 4,
 "nbformat_minor": 2
}
